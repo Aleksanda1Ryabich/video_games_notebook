{
 "cells": [
  {
   "cell_type": "markdown",
   "metadata": {},
   "source": [
    "Из открытых источников доступны исторические данные о продажах игр, оценки пользователей и экспертов, жанры и платформы (например, Xbox или PlayStation). Нужно выявить определяющие успешность игры закономерности, которые позволят сделать ставку на потенциально популярный продукт и спланировать рекламные кампании для 2017 года.\n",
    "\n",
    "Необходимо изучить данные, выполнеть предобработку данных, осуществить исследовательский анализ данных, составьте портрет пользователя каждого региона, проверить следующие гипотезы:\n",
    "1. Средние пользовательские рейтинги платформ Xbox One и PC одинаковые;\n",
    "2. Средние пользовательские рейтинги жанров Action (англ. «действие», экшен-игры) и Sports (англ. «спортивные соревнования») разные."
   ]
  },
  {
   "cell_type": "code",
   "execution_count": 1,
   "metadata": {},
   "outputs": [],
   "source": [
    "import pandas as pd#подключение библиотеки pandas\n",
    "import numpy as np\n",
    "import seaborn as sns\n",
    "from scipy import stats as st\n",
    "import math\n",
    "import matplotlib.pyplot as plt\n",
    "import warnings\n",
    "warnings.filterwarnings('ignore')"
   ]
  },
  {
   "cell_type": "code",
   "execution_count": 2,
   "metadata": {},
   "outputs": [
    {
     "data": {
      "text/html": [
       "<div>\n",
       "<style scoped>\n",
       "    .dataframe tbody tr th:only-of-type {\n",
       "        vertical-align: middle;\n",
       "    }\n",
       "\n",
       "    .dataframe tbody tr th {\n",
       "        vertical-align: top;\n",
       "    }\n",
       "\n",
       "    .dataframe thead th {\n",
       "        text-align: right;\n",
       "    }\n",
       "</style>\n",
       "<table border=\"1\" class=\"dataframe\">\n",
       "  <thead>\n",
       "    <tr style=\"text-align: right;\">\n",
       "      <th></th>\n",
       "      <th>Name</th>\n",
       "      <th>Platform</th>\n",
       "      <th>Year_of_Release</th>\n",
       "      <th>Genre</th>\n",
       "      <th>NA_sales</th>\n",
       "      <th>EU_sales</th>\n",
       "      <th>JP_sales</th>\n",
       "      <th>Other_sales</th>\n",
       "      <th>Critic_Score</th>\n",
       "      <th>User_Score</th>\n",
       "      <th>Rating</th>\n",
       "    </tr>\n",
       "  </thead>\n",
       "  <tbody>\n",
       "    <tr>\n",
       "      <th>0</th>\n",
       "      <td>Wii Sports</td>\n",
       "      <td>Wii</td>\n",
       "      <td>2006.0</td>\n",
       "      <td>Sports</td>\n",
       "      <td>41.36</td>\n",
       "      <td>28.96</td>\n",
       "      <td>3.77</td>\n",
       "      <td>8.45</td>\n",
       "      <td>76.0</td>\n",
       "      <td>8</td>\n",
       "      <td>E</td>\n",
       "    </tr>\n",
       "    <tr>\n",
       "      <th>1</th>\n",
       "      <td>Super Mario Bros.</td>\n",
       "      <td>NES</td>\n",
       "      <td>1985.0</td>\n",
       "      <td>Platform</td>\n",
       "      <td>29.08</td>\n",
       "      <td>3.58</td>\n",
       "      <td>6.81</td>\n",
       "      <td>0.77</td>\n",
       "      <td>NaN</td>\n",
       "      <td>NaN</td>\n",
       "      <td>NaN</td>\n",
       "    </tr>\n",
       "    <tr>\n",
       "      <th>2</th>\n",
       "      <td>Mario Kart Wii</td>\n",
       "      <td>Wii</td>\n",
       "      <td>2008.0</td>\n",
       "      <td>Racing</td>\n",
       "      <td>15.68</td>\n",
       "      <td>12.76</td>\n",
       "      <td>3.79</td>\n",
       "      <td>3.29</td>\n",
       "      <td>82.0</td>\n",
       "      <td>8.3</td>\n",
       "      <td>E</td>\n",
       "    </tr>\n",
       "    <tr>\n",
       "      <th>3</th>\n",
       "      <td>Wii Sports Resort</td>\n",
       "      <td>Wii</td>\n",
       "      <td>2009.0</td>\n",
       "      <td>Sports</td>\n",
       "      <td>15.61</td>\n",
       "      <td>10.93</td>\n",
       "      <td>3.28</td>\n",
       "      <td>2.95</td>\n",
       "      <td>80.0</td>\n",
       "      <td>8</td>\n",
       "      <td>E</td>\n",
       "    </tr>\n",
       "    <tr>\n",
       "      <th>4</th>\n",
       "      <td>Pokemon Red/Pokemon Blue</td>\n",
       "      <td>GB</td>\n",
       "      <td>1996.0</td>\n",
       "      <td>Role-Playing</td>\n",
       "      <td>11.27</td>\n",
       "      <td>8.89</td>\n",
       "      <td>10.22</td>\n",
       "      <td>1.00</td>\n",
       "      <td>NaN</td>\n",
       "      <td>NaN</td>\n",
       "      <td>NaN</td>\n",
       "    </tr>\n",
       "    <tr>\n",
       "      <th>5</th>\n",
       "      <td>Tetris</td>\n",
       "      <td>GB</td>\n",
       "      <td>1989.0</td>\n",
       "      <td>Puzzle</td>\n",
       "      <td>23.20</td>\n",
       "      <td>2.26</td>\n",
       "      <td>4.22</td>\n",
       "      <td>0.58</td>\n",
       "      <td>NaN</td>\n",
       "      <td>NaN</td>\n",
       "      <td>NaN</td>\n",
       "    </tr>\n",
       "    <tr>\n",
       "      <th>6</th>\n",
       "      <td>New Super Mario Bros.</td>\n",
       "      <td>DS</td>\n",
       "      <td>2006.0</td>\n",
       "      <td>Platform</td>\n",
       "      <td>11.28</td>\n",
       "      <td>9.14</td>\n",
       "      <td>6.50</td>\n",
       "      <td>2.88</td>\n",
       "      <td>89.0</td>\n",
       "      <td>8.5</td>\n",
       "      <td>E</td>\n",
       "    </tr>\n",
       "    <tr>\n",
       "      <th>7</th>\n",
       "      <td>Wii Play</td>\n",
       "      <td>Wii</td>\n",
       "      <td>2006.0</td>\n",
       "      <td>Misc</td>\n",
       "      <td>13.96</td>\n",
       "      <td>9.18</td>\n",
       "      <td>2.93</td>\n",
       "      <td>2.84</td>\n",
       "      <td>58.0</td>\n",
       "      <td>6.6</td>\n",
       "      <td>E</td>\n",
       "    </tr>\n",
       "    <tr>\n",
       "      <th>8</th>\n",
       "      <td>New Super Mario Bros. Wii</td>\n",
       "      <td>Wii</td>\n",
       "      <td>2009.0</td>\n",
       "      <td>Platform</td>\n",
       "      <td>14.44</td>\n",
       "      <td>6.94</td>\n",
       "      <td>4.70</td>\n",
       "      <td>2.24</td>\n",
       "      <td>87.0</td>\n",
       "      <td>8.4</td>\n",
       "      <td>E</td>\n",
       "    </tr>\n",
       "    <tr>\n",
       "      <th>9</th>\n",
       "      <td>Duck Hunt</td>\n",
       "      <td>NES</td>\n",
       "      <td>1984.0</td>\n",
       "      <td>Shooter</td>\n",
       "      <td>26.93</td>\n",
       "      <td>0.63</td>\n",
       "      <td>0.28</td>\n",
       "      <td>0.47</td>\n",
       "      <td>NaN</td>\n",
       "      <td>NaN</td>\n",
       "      <td>NaN</td>\n",
       "    </tr>\n",
       "  </tbody>\n",
       "</table>\n",
       "</div>"
      ],
      "text/plain": [
       "                        Name Platform  Year_of_Release         Genre  \\\n",
       "0                 Wii Sports      Wii           2006.0        Sports   \n",
       "1          Super Mario Bros.      NES           1985.0      Platform   \n",
       "2             Mario Kart Wii      Wii           2008.0        Racing   \n",
       "3          Wii Sports Resort      Wii           2009.0        Sports   \n",
       "4   Pokemon Red/Pokemon Blue       GB           1996.0  Role-Playing   \n",
       "5                     Tetris       GB           1989.0        Puzzle   \n",
       "6      New Super Mario Bros.       DS           2006.0      Platform   \n",
       "7                   Wii Play      Wii           2006.0          Misc   \n",
       "8  New Super Mario Bros. Wii      Wii           2009.0      Platform   \n",
       "9                  Duck Hunt      NES           1984.0       Shooter   \n",
       "\n",
       "   NA_sales  EU_sales  JP_sales  Other_sales  Critic_Score User_Score Rating  \n",
       "0     41.36     28.96      3.77         8.45          76.0          8      E  \n",
       "1     29.08      3.58      6.81         0.77           NaN        NaN    NaN  \n",
       "2     15.68     12.76      3.79         3.29          82.0        8.3      E  \n",
       "3     15.61     10.93      3.28         2.95          80.0          8      E  \n",
       "4     11.27      8.89     10.22         1.00           NaN        NaN    NaN  \n",
       "5     23.20      2.26      4.22         0.58           NaN        NaN    NaN  \n",
       "6     11.28      9.14      6.50         2.88          89.0        8.5      E  \n",
       "7     13.96      9.18      2.93         2.84          58.0        6.6      E  \n",
       "8     14.44      6.94      4.70         2.24          87.0        8.4      E  \n",
       "9     26.93      0.63      0.28         0.47           NaN        NaN    NaN  "
      ]
     },
     "execution_count": 2,
     "metadata": {},
     "output_type": "execute_result"
    }
   ],
   "source": [
    "data = pd.read_csv('/datasets/games.csv')#чтение файла и вывод первых 10 строк\n",
    "data.head(10)"
   ]
  },
  {
   "cell_type": "code",
   "execution_count": 3,
   "metadata": {},
   "outputs": [
    {
     "name": "stdout",
     "output_type": "stream",
     "text": [
      "<class 'pandas.core.frame.DataFrame'>\n",
      "RangeIndex: 16715 entries, 0 to 16714\n",
      "Data columns (total 11 columns):\n",
      " #   Column           Non-Null Count  Dtype  \n",
      "---  ------           --------------  -----  \n",
      " 0   Name             16713 non-null  object \n",
      " 1   Platform         16715 non-null  object \n",
      " 2   Year_of_Release  16446 non-null  float64\n",
      " 3   Genre            16713 non-null  object \n",
      " 4   NA_sales         16715 non-null  float64\n",
      " 5   EU_sales         16715 non-null  float64\n",
      " 6   JP_sales         16715 non-null  float64\n",
      " 7   Other_sales      16715 non-null  float64\n",
      " 8   Critic_Score     8137 non-null   float64\n",
      " 9   User_Score       10014 non-null  object \n",
      " 10  Rating           9949 non-null   object \n",
      "dtypes: float64(6), object(5)\n",
      "memory usage: 1.4+ MB\n"
     ]
    }
   ],
   "source": [
    "data.info()#проверка типов данных в столбцах"
   ]
  },
  {
   "cell_type": "code",
   "execution_count": 4,
   "metadata": {},
   "outputs": [
    {
     "data": {
      "text/plain": [
       "array(['Wii Sports', 'Super Mario Bros.', 'Mario Kart Wii', ...,\n",
       "       'Woody Woodpecker in Crazy Castle 5', 'LMA Manager 2007',\n",
       "       'Haitaka no Psychedelica'], dtype=object)"
      ]
     },
     "execution_count": 4,
     "metadata": {},
     "output_type": "execute_result"
    }
   ],
   "source": [
    "data['Name'].unique()#поиск уникальных значений в названии игр"
   ]
  },
  {
   "cell_type": "markdown",
   "metadata": {},
   "source": [
    "Данные имеют пропуски, неверный тип данных, разный регистр названия колонок, нетипичные значения. "
   ]
  },
  {
   "cell_type": "code",
   "execution_count": 5,
   "metadata": {},
   "outputs": [],
   "source": [
    "data.columns = data.columns.str.lower()#запись в нижнем регистре"
   ]
  },
  {
   "cell_type": "code",
   "execution_count": 6,
   "metadata": {},
   "outputs": [
    {
     "data": {
      "text/plain": [
       "name                  2\n",
       "platform              0\n",
       "year_of_release     269\n",
       "genre                 2\n",
       "na_sales              0\n",
       "eu_sales              0\n",
       "jp_sales              0\n",
       "other_sales           0\n",
       "critic_score       8578\n",
       "user_score         6701\n",
       "rating             6766\n",
       "dtype: int64"
      ]
     },
     "execution_count": 6,
     "metadata": {},
     "output_type": "execute_result"
    }
   ],
   "source": [
    "data.isna().sum()# поиск пропущенных значений и их сумма"
   ]
  },
  {
   "cell_type": "markdown",
   "metadata": {},
   "source": [
    "Столбец 'name' имеет два пропуска, заменить пропущенные значения невозможно, т.к. это название игры, значит лучше удалить для корректной статистики. Столбец 'year_of_release' имеет 269 пропусков, предлагаю удалить, чтобы не было нелогичного установления года выпуска. Скорее всего могли возникнуть потому что забыли указать данные или точная дата выхода игры точно не определена. 'genre' имеет 2 пропуска, установить значение невожможно, следует также удалить, скорее всего забыли указать или не смогли определить жанр. 'critic_score' имеет 8578 пропусков, большое значение, просто удалить нельзя, возможно, появились вследствии отсутствия оценок, либо это новые игры, не успевшие получить оценки. 'user_score' имеет 6701 пропуск, ситуация аналогичная с 'critic_score'. 'rating' имеет 6766 пропусков, значительное количество, понять возрастное ограничение невозможно самостоятельно."
   ]
  },
  {
   "cell_type": "code",
   "execution_count": 7,
   "metadata": {},
   "outputs": [],
   "source": [
    "data[['year_of_release', 'critic_score']] = data[['year_of_release', 'critic_score']].astype('Int64')"
   ]
  },
  {
   "cell_type": "markdown",
   "metadata": {},
   "source": [
    "'year_of_release', 'critic_score' имеет неверный тип данных, года и оценки критиков выражаются целыми числами."
   ]
  },
  {
   "cell_type": "code",
   "execution_count": 8,
   "metadata": {},
   "outputs": [
    {
     "data": {
      "text/plain": [
       "array(['8', nan, '8.3', '8.5', '6.6', '8.4', '8.6', '7.7', '6.3', '7.4',\n",
       "       '8.2', '9', '7.9', '8.1', '8.7', '7.1', '3.4', '5.3', '4.8', '3.2',\n",
       "       '8.9', '6.4', '7.8', '7.5', '2.6', '7.2', '9.2', '7', '7.3', '4.3',\n",
       "       '7.6', '5.7', '5', '9.1', '6.5', 'tbd', '8.8', '6.9', '9.4', '6.8',\n",
       "       '6.1', '6.7', '5.4', '4', '4.9', '4.5', '9.3', '6.2', '4.2', '6',\n",
       "       '3.7', '4.1', '5.8', '5.6', '5.5', '4.4', '4.6', '5.9', '3.9',\n",
       "       '3.1', '2.9', '5.2', '3.3', '4.7', '5.1', '3.5', '2.5', '1.9', '3',\n",
       "       '2.7', '2.2', '2', '9.5', '2.1', '3.6', '2.8', '1.8', '3.8', '0',\n",
       "       '1.6', '9.6', '2.4', '1.7', '1.1', '0.3', '1.5', '0.7', '1.2',\n",
       "       '2.3', '0.5', '1.3', '0.2', '0.6', '1.4', '0.9', '1', '9.7'],\n",
       "      dtype=object)"
      ]
     },
     "execution_count": 8,
     "metadata": {},
     "output_type": "execute_result"
    }
   ],
   "source": [
    "data['user_score'].unique()"
   ]
  },
  {
   "cell_type": "markdown",
   "metadata": {},
   "source": [
    "В столбце user_score имеется значение tbd, формат ячейки object. По общему содержанию, а так же по описанию столбца (оценка пользователей (максимум 10)) тип данных должен быть float. Поэтому данное значение (tbd) можно признать пустым и изменить на NaN."
   ]
  },
  {
   "cell_type": "code",
   "execution_count": 9,
   "metadata": {},
   "outputs": [],
   "source": [
    "data.loc[data['user_score'] == 'tbd', 'user_score'] = np.nan\n",
    "data['user_score'].unique()\n",
    "data['user_score'] = data['user_score'].astype('float')"
   ]
  },
  {
   "cell_type": "markdown",
   "metadata": {},
   "source": [
    "'user_score' имеет неверный формат, данный даны дробными числами, значит, перевести нужно в 'float'"
   ]
  },
  {
   "cell_type": "code",
   "execution_count": 10,
   "metadata": {},
   "outputs": [],
   "source": [
    "data.dropna(subset = ['name', 'year_of_release', 'genre'], inplace = True)"
   ]
  },
  {
   "cell_type": "code",
   "execution_count": 11,
   "metadata": {},
   "outputs": [
    {
     "data": {
      "text/plain": [
       "<IntegerArray>\n",
       "[  76, <NA>,   82,   80,   89,   58,   87,   91,   61,   97,   95,   77,   88,\n",
       "   83,   94,   93,   85,   86,   98,   96,   90,   84,   73,   74,   78,   92,\n",
       "   71,   72,   68,   62,   49,   67,   81,   66,   56,   79,   70,   59,   64,\n",
       "   75,   60,   63,   69,   50,   25,   42,   44,   55,   48,   57,   29,   47,\n",
       "   65,   54,   20,   53,   37,   38,   33,   52,   30,   32,   43,   45,   51,\n",
       "   40,   46,   39,   34,   41,   36,   31,   27,   35,   26,   19,   28,   23,\n",
       "   24,   21,   17,   13]\n",
       "Length: 82, dtype: Int64"
      ]
     },
     "execution_count": 11,
     "metadata": {},
     "output_type": "execute_result"
    }
   ],
   "source": [
    "data['critic_score'].unique()"
   ]
  },
  {
   "cell_type": "code",
   "execution_count": 12,
   "metadata": {},
   "outputs": [
    {
     "data": {
      "text/plain": [
       "array(['E', nan, 'M', 'T', 'E10+', 'K-A', 'AO', 'EC', 'RP'], dtype=object)"
      ]
     },
     "execution_count": 12,
     "metadata": {},
     "output_type": "execute_result"
    }
   ],
   "source": [
    "data['rating'].unique()"
   ]
  },
  {
   "cell_type": "code",
   "execution_count": 13,
   "metadata": {},
   "outputs": [
    {
     "data": {
      "text/plain": [
       "0        82.54\n",
       "1        40.24\n",
       "2        35.52\n",
       "3        32.77\n",
       "4        31.38\n",
       "         ...  \n",
       "16710     0.01\n",
       "16711     0.01\n",
       "16712     0.01\n",
       "16713     0.01\n",
       "16714     0.01\n",
       "Name: total_sales, Length: 16444, dtype: float64"
      ]
     },
     "execution_count": 13,
     "metadata": {},
     "output_type": "execute_result"
    }
   ],
   "source": [
    "data['total_sales'] = data['na_sales'] + data['eu_sales'] + data['jp_sales'] + data['other_sales']\n",
    "data['total_sales']"
   ]
  },
  {
   "cell_type": "markdown",
   "metadata": {},
   "source": [
    "Имеются пропуски в значительном количестве в столбцах rating, critic_score, user_score. Их можно оставить, потому что игры могут быть новыми, которые не успели оценить критики и пользователи. Данные нельзя удалить, потому что ещё могут пригодиться для дальнейшего анализа."
   ]
  },
  {
   "cell_type": "code",
   "execution_count": 14,
   "metadata": {},
   "outputs": [
    {
     "name": "stdout",
     "output_type": "stream",
     "text": [
      "Количетво явных дубликатов: 0\n"
     ]
    }
   ],
   "source": [
    "#проверка дубликатов\n",
    "print('Количетво явных дубликатов:', data.duplicated().sum())"
   ]
  },
  {
   "cell_type": "code",
   "execution_count": 15,
   "metadata": {},
   "outputs": [
    {
     "data": {
      "text/plain": [
       "2016"
      ]
     },
     "execution_count": 15,
     "metadata": {},
     "output_type": "execute_result"
    }
   ],
   "source": [
    "data['year_of_release'].max()"
   ]
  },
  {
   "cell_type": "code",
   "execution_count": 16,
   "metadata": {},
   "outputs": [
    {
     "data": {
      "text/plain": [
       "1980"
      ]
     },
     "execution_count": 16,
     "metadata": {},
     "output_type": "execute_result"
    }
   ],
   "source": [
    "data[data['year_of_release'] > 1900]['year_of_release'].min()"
   ]
  },
  {
   "cell_type": "code",
   "execution_count": 17,
   "metadata": {},
   "outputs": [
    {
     "data": {
      "image/png": "[encoded data removed]",
      "text/plain": [
       "<Figure size 432x288 with 1 Axes>"
      ]
     },
     "metadata": {
      "needs_background": "light"
     },
     "output_type": "display_data"
    }
   ],
   "source": [
    "plt.xlabel(\"год\")\n",
    "plt.ylabel(\"количество игровых релизов\")\n",
    "\n",
    "data['year_of_release'].hist(bins = 25, range=(1979, 2017));\n"
   ]
  },
  {
   "cell_type": "code",
   "execution_count": 18,
   "metadata": {},
   "outputs": [
    {
     "data": {
      "image/png": "[encoded data removed]",
      "text/plain": [
       "<Figure size 432x288 with 1 Axes>"
      ]
     },
     "metadata": {
      "needs_background": "light"
     },
     "output_type": "display_data"
    }
   ],
   "source": [
    "plt.xlabel(\"год\")\n",
    "plt.ylabel(\"количество игровых релизов\")\n",
    "\n",
    "data['year_of_release'].hist(bins = 10, range=(1990, 1995));"
   ]
  },
  {
   "cell_type": "code",
   "execution_count": 19,
   "metadata": {},
   "outputs": [
    {
     "data": {
      "image/png": "[encoded data removed]",
      "text/plain": [
       "<Figure size 432x288 with 1 Axes>"
      ]
     },
     "metadata": {
      "needs_background": "light"
     },
     "output_type": "display_data"
    }
   ],
   "source": [
    "plt.xlabel(\"год\")\n",
    "plt.ylabel(\"количество игровых релизов\")\n",
    "\n",
    "data['year_of_release'].hist(bins = 10, range=(2005, 2009));"
   ]
  },
  {
   "cell_type": "markdown",
   "metadata": {},
   "source": [
    "Знаковый период был с 2005 по 2009 года. В этом промежутке времени выпускалось наибольшее количество игр."
   ]
  },
  {
   "cell_type": "code",
   "execution_count": 20,
   "metadata": {},
   "outputs": [
    {
     "data": {
      "text/html": [
       "<div>\n",
       "<style scoped>\n",
       "    .dataframe tbody tr th:only-of-type {\n",
       "        vertical-align: middle;\n",
       "    }\n",
       "\n",
       "    .dataframe tbody tr th {\n",
       "        vertical-align: top;\n",
       "    }\n",
       "\n",
       "    .dataframe thead th {\n",
       "        text-align: right;\n",
       "    }\n",
       "</style>\n",
       "<table border=\"1\" class=\"dataframe\">\n",
       "  <thead>\n",
       "    <tr style=\"text-align: right;\">\n",
       "      <th></th>\n",
       "      <th>total_sales</th>\n",
       "    </tr>\n",
       "    <tr>\n",
       "      <th>platform</th>\n",
       "      <th></th>\n",
       "    </tr>\n",
       "  </thead>\n",
       "  <tbody>\n",
       "    <tr>\n",
       "      <th>PS2</th>\n",
       "      <td>1233.56</td>\n",
       "    </tr>\n",
       "    <tr>\n",
       "      <th>X360</th>\n",
       "      <td>961.24</td>\n",
       "    </tr>\n",
       "    <tr>\n",
       "      <th>PS3</th>\n",
       "      <td>931.34</td>\n",
       "    </tr>\n",
       "    <tr>\n",
       "      <th>Wii</th>\n",
       "      <td>891.18</td>\n",
       "    </tr>\n",
       "    <tr>\n",
       "      <th>DS</th>\n",
       "      <td>802.78</td>\n",
       "    </tr>\n",
       "    <tr>\n",
       "      <th>PS</th>\n",
       "      <td>727.58</td>\n",
       "    </tr>\n",
       "    <tr>\n",
       "      <th>PS4</th>\n",
       "      <td>314.14</td>\n",
       "    </tr>\n",
       "    <tr>\n",
       "      <th>GBA</th>\n",
       "      <td>312.88</td>\n",
       "    </tr>\n",
       "    <tr>\n",
       "      <th>PSP</th>\n",
       "      <td>289.53</td>\n",
       "    </tr>\n",
       "    <tr>\n",
       "      <th>3DS</th>\n",
       "      <td>257.81</td>\n",
       "    </tr>\n",
       "    <tr>\n",
       "      <th>PC</th>\n",
       "      <td>255.76</td>\n",
       "    </tr>\n",
       "    <tr>\n",
       "      <th>GB</th>\n",
       "      <td>254.43</td>\n",
       "    </tr>\n",
       "    <tr>\n",
       "      <th>XB</th>\n",
       "      <td>251.57</td>\n",
       "    </tr>\n",
       "    <tr>\n",
       "      <th>NES</th>\n",
       "      <td>251.05</td>\n",
       "    </tr>\n",
       "    <tr>\n",
       "      <th>N64</th>\n",
       "      <td>218.01</td>\n",
       "    </tr>\n",
       "    <tr>\n",
       "      <th>SNES</th>\n",
       "      <td>200.04</td>\n",
       "    </tr>\n",
       "    <tr>\n",
       "      <th>GC</th>\n",
       "      <td>196.73</td>\n",
       "    </tr>\n",
       "    <tr>\n",
       "      <th>XOne</th>\n",
       "      <td>159.32</td>\n",
       "    </tr>\n",
       "    <tr>\n",
       "      <th>2600</th>\n",
       "      <td>86.48</td>\n",
       "    </tr>\n",
       "    <tr>\n",
       "      <th>WiiU</th>\n",
       "      <td>82.19</td>\n",
       "    </tr>\n",
       "    <tr>\n",
       "      <th>PSV</th>\n",
       "      <td>53.81</td>\n",
       "    </tr>\n",
       "    <tr>\n",
       "      <th>SAT</th>\n",
       "      <td>33.59</td>\n",
       "    </tr>\n",
       "    <tr>\n",
       "      <th>GEN</th>\n",
       "      <td>28.35</td>\n",
       "    </tr>\n",
       "    <tr>\n",
       "      <th>DC</th>\n",
       "      <td>15.95</td>\n",
       "    </tr>\n",
       "    <tr>\n",
       "      <th>SCD</th>\n",
       "      <td>1.86</td>\n",
       "    </tr>\n",
       "    <tr>\n",
       "      <th>NG</th>\n",
       "      <td>1.44</td>\n",
       "    </tr>\n",
       "    <tr>\n",
       "      <th>WS</th>\n",
       "      <td>1.42</td>\n",
       "    </tr>\n",
       "    <tr>\n",
       "      <th>TG16</th>\n",
       "      <td>0.16</td>\n",
       "    </tr>\n",
       "    <tr>\n",
       "      <th>3DO</th>\n",
       "      <td>0.10</td>\n",
       "    </tr>\n",
       "    <tr>\n",
       "      <th>GG</th>\n",
       "      <td>0.04</td>\n",
       "    </tr>\n",
       "    <tr>\n",
       "      <th>PCFX</th>\n",
       "      <td>0.03</td>\n",
       "    </tr>\n",
       "  </tbody>\n",
       "</table>\n",
       "</div>"
      ],
      "text/plain": [
       "          total_sales\n",
       "platform             \n",
       "PS2           1233.56\n",
       "X360           961.24\n",
       "PS3            931.34\n",
       "Wii            891.18\n",
       "DS             802.78\n",
       "PS             727.58\n",
       "PS4            314.14\n",
       "GBA            312.88\n",
       "PSP            289.53\n",
       "3DS            257.81\n",
       "PC             255.76\n",
       "GB             254.43\n",
       "XB             251.57\n",
       "NES            251.05\n",
       "N64            218.01\n",
       "SNES           200.04\n",
       "GC             196.73\n",
       "XOne           159.32\n",
       "2600            86.48\n",
       "WiiU            82.19\n",
       "PSV             53.81\n",
       "SAT             33.59\n",
       "GEN             28.35\n",
       "DC              15.95\n",
       "SCD              1.86\n",
       "NG               1.44\n",
       "WS               1.42\n",
       "TG16             0.16\n",
       "3DO              0.10\n",
       "GG               0.04\n",
       "PCFX             0.03"
      ]
     },
     "execution_count": 20,
     "metadata": {},
     "output_type": "execute_result"
    }
   ],
   "source": [
    "platforms_ascending = data.pivot_table(index = 'platform', values = 'total_sales', aggfunc = 'sum').sort_values(by = 'total_sales', ascending = False)\n",
    "top10_platforms = platforms_ascending.reset_index()\n",
    "iloc_top10_platforms = top10_platforms.iloc[0:10]\n",
    "top10_platforms = iloc_top10_platforms['platform'].unique()\n",
    "platforms_ascending"
   ]
  },
  {
   "cell_type": "code",
   "execution_count": 21,
   "metadata": {},
   "outputs": [
    {
     "data": {
      "image/png": "[encoded data removed]",
      "text/plain": [
       "<Figure size 1080x360 with 1 Axes>"
      ]
     },
     "metadata": {
      "needs_background": "light"
     },
     "output_type": "display_data"
    }
   ],
   "source": [
    "iloc_top10_platforms.plot(x=\"platform\", y=\"total_sales\", kind='bar', figsize=(15,5));"
   ]
  },
  {
   "cell_type": "code",
   "execution_count": 22,
   "metadata": {},
   "outputs": [
    {
     "data": {
      "image/png": "[encoded data removed]",
      "text/plain": [
       "<Figure size 1080x360 with 1 Axes>"
      ]
     },
     "metadata": {
      "needs_background": "light"
     },
     "output_type": "display_data"
    },
    {
     "data": {
      "image/png": "[encoded data removed]",
      "text/plain": [
       "<Figure size 1080x360 with 1 Axes>"
      ]
     },
     "metadata": {
      "needs_background": "light"
     },
     "output_type": "display_data"
    },
    {
     "data": {
      "image/png": "[encoded data removed]",
      "text/plain": [
       "<Figure size 1080x360 with 1 Axes>"
      ]
     },
     "metadata": {
      "needs_background": "light"
     },
     "output_type": "display_data"
    },
    {
     "data": {
      "image/png": "[encoded data removed]",
      "text/plain": [
       "<Figure size 1080x360 with 1 Axes>"
      ]
     },
     "metadata": {
      "needs_background": "light"
     },
     "output_type": "display_data"
    },
    {
     "data": {
      "image/png": "[encoded data removed]",
      "text/plain": [
       "<Figure size 1080x360 with 1 Axes>"
      ]
     },
     "metadata": {
      "needs_background": "light"
     },
     "output_type": "display_data"
    },
    {
     "data": {
      "image/png": "[encoded data removed]",
      "text/plain": [
       "<Figure size 1080x360 with 1 Axes>"
      ]
     },
     "metadata": {
      "needs_background": "light"
     },
     "output_type": "display_data"
    },
    {
     "data": {
      "image/png": "[encoded data removed]",
      "text/plain": [
       "<Figure size 1080x360 with 1 Axes>"
      ]
     },
     "metadata": {
      "needs_background": "light"
     },
     "output_type": "display_data"
    },
    {
     "data": {
      "image/png": "[encoded data removed]",
      "text/plain": [
       "<Figure size 1080x360 with 1 Axes>"
      ]
     },
     "metadata": {
      "needs_background": "light"
     },
     "output_type": "display_data"
    },
    {
     "data": {
      "image/png": "[encoded data removed]",
      "text/plain": [
       "<Figure size 1080x360 with 1 Axes>"
      ]
     },
     "metadata": {
      "needs_background": "light"
     },
     "output_type": "display_data"
    },
    {
     "data": {
      "image/png": "[encoded data removed]",
      "text/plain": [
       "<Figure size 1080x360 with 1 Axes>"
      ]
     },
     "metadata": {
      "needs_background": "light"
     },
     "output_type": "display_data"
    }
   ],
   "source": [
    "for platform in top10_platforms:\n",
    "    data[data['platform'] == platform].pivot_table(index = 'year_of_release', values = 'total_sales', aggfunc = 'sum').plot(kind = 'bar', figsize=(15,5))\n",
    "    plt.title(platform)"
   ]
  },
  {
   "cell_type": "markdown",
   "metadata": {},
   "source": [
    "Средняя продолжительность существования платформ 10 лет. Большее количество появлилось в начале 2000-x, особенно в 2009 году."
   ]
  },
  {
   "cell_type": "markdown",
   "metadata": {},
   "source": [
    "Для более точного результата нужна большая выборка. Прогноз требуется сделать на 2017 год. Актуальный период с 2013 по 2016 года."
   ]
  },
  {
   "cell_type": "code",
   "execution_count": 23,
   "metadata": {},
   "outputs": [],
   "source": [
    "actual_data = data.query('year_of_release >= 2013') #возьмем все данные после 2013 года"
   ]
  },
  {
   "cell_type": "code",
   "execution_count": 24,
   "metadata": {},
   "outputs": [
    {
     "data": {
      "image/png": "[encoded data removed]",
      "text/plain": [
       "<Figure size 1080x360 with 1 Axes>"
      ]
     },
     "metadata": {
      "needs_background": "light"
     },
     "output_type": "display_data"
    }
   ],
   "source": [
    "actual_data.query('platform in @top10_platforms').pivot_table(index='year_of_release', columns = 'platform', values='total_sales', aggfunc='sum').plot(figsize=(15, 5));"
   ]
  },
  {
   "cell_type": "markdown",
   "metadata": {},
   "source": [
    "Прибыльные платформы на 2016 год: PS4, 3DS\n",
    "Отрицательно прибыльные платформы на 2016 год: PSP, Wii, X360\n",
    "\n",
    "Все игры на платформах идут на снижение по продажам. Продаются игры лучше те, которые имели недавний релиз. Чем дольше был выход, тем хуже продажи."
   ]
  },
  {
   "cell_type": "code",
   "execution_count": 25,
   "metadata": {},
   "outputs": [
    {
     "data": {
      "image/png": "[encoded data removed]",
      "text/plain": [
       "<Figure size 432x288 with 1 Axes>"
      ]
     },
     "metadata": {
      "needs_background": "light"
     },
     "output_type": "display_data"
    }
   ],
   "source": [
    "actual_data.pivot_table(index = 'name', columns = 'platform', values = 'total_sales', aggfunc = 'sum').plot(kind='box', ylim=(0,1.9));"
   ]
  },
  {
   "cell_type": "markdown",
   "metadata": {},
   "source": [
    "На ящике с усами видно, что не были учтены консоли только набирающую популярность - XOne и WiiU. На ней было выпущено относительно мало игр, поэтому не включена в предыдущий график, но игры этой платформы очень хорошо продаются, потому что медианные значения PS4 и XOne почти совпадают. Добавим XOne в список потенциально прибыльных. Wii и PSP4 одинаковы, а X360 почти равна, но в 2016 году продажи Wii, X360 приблизились к 0, поэтому не учитываются."
   ]
  },
  {
   "cell_type": "markdown",
   "metadata": {},
   "source": [
    "Так как 2016 год ещё не закончился, то у нас есть много пропусков в данных, которые мы хотим коллерировать, поэтому лучше взять одну из популярных консоль, у которой нет данных в 2016. Это PS4"
   ]
  },
  {
   "cell_type": "code",
   "execution_count": 26,
   "metadata": {},
   "outputs": [
    {
     "name": "stdout",
     "output_type": "stream",
     "text": [
      "                    Диаграмма рассеяния для PS4\n"
     ]
    },
    {
     "data": {
      "image/png": "[encoded data removed]",
      "text/plain": [
       "<Figure size 540x540 with 12 Axes>"
      ]
     },
     "metadata": {
      "needs_background": "light"
     },
     "output_type": "display_data"
    }
   ],
   "source": [
    "print('                    Диаграмма рассеяния для PS4')\n",
    "sns.pairplot(data[data.platform == \"PS4\"][['total_sales', 'critic_score', 'user_score']])\n",
    "plt.show()"
   ]
  },
  {
   "cell_type": "markdown",
   "metadata": {},
   "source": [
    "Чем выше рейтинг, тем лучше игра, следовательно больше продаж. Также имеются \"аномалии\" - в столбце user_score есть игры, которые имеют высокую оценку пользователей, но при этом мало продались. Возможно обусловлено стоимостью игр."
   ]
  },
  {
   "cell_type": "code",
   "execution_count": 27,
   "metadata": {},
   "outputs": [
    {
     "name": "stdout",
     "output_type": "stream",
     "text": [
      "         Матрица корреляций\n"
     ]
    },
    {
     "data": {
      "text/html": [
       "<div>\n",
       "<style scoped>\n",
       "    .dataframe tbody tr th:only-of-type {\n",
       "        vertical-align: middle;\n",
       "    }\n",
       "\n",
       "    .dataframe tbody tr th {\n",
       "        vertical-align: top;\n",
       "    }\n",
       "\n",
       "    .dataframe thead th {\n",
       "        text-align: right;\n",
       "    }\n",
       "</style>\n",
       "<table border=\"1\" class=\"dataframe\">\n",
       "  <thead>\n",
       "    <tr style=\"text-align: right;\">\n",
       "      <th></th>\n",
       "      <th>total_sales</th>\n",
       "      <th>critic_score</th>\n",
       "      <th>user_score</th>\n",
       "    </tr>\n",
       "  </thead>\n",
       "  <tbody>\n",
       "    <tr>\n",
       "      <th>total_sales</th>\n",
       "      <td>1.000000</td>\n",
       "      <td>0.406568</td>\n",
       "      <td>-0.031957</td>\n",
       "    </tr>\n",
       "    <tr>\n",
       "      <th>critic_score</th>\n",
       "      <td>0.406568</td>\n",
       "      <td>1.000000</td>\n",
       "      <td>0.557654</td>\n",
       "    </tr>\n",
       "    <tr>\n",
       "      <th>user_score</th>\n",
       "      <td>-0.031957</td>\n",
       "      <td>0.557654</td>\n",
       "      <td>1.000000</td>\n",
       "    </tr>\n",
       "  </tbody>\n",
       "</table>\n",
       "</div>"
      ],
      "text/plain": [
       "              total_sales  critic_score  user_score\n",
       "total_sales      1.000000      0.406568   -0.031957\n",
       "critic_score     0.406568      1.000000    0.557654\n",
       "user_score      -0.031957      0.557654    1.000000"
      ]
     },
     "execution_count": 27,
     "metadata": {},
     "output_type": "execute_result"
    }
   ],
   "source": [
    "print('         Матрица корреляций')\n",
    "data[data.platform == \"PS4\"][['total_sales', 'critic_score', 'user_score']].corr()"
   ]
  },
  {
   "cell_type": "markdown",
   "metadata": {},
   "source": [
    "Корреляция между total_sales и critic_score равна 0.4.\n",
    "Корреляции между total_sales и user_score отсутствует."
   ]
  },
  {
   "cell_type": "code",
   "execution_count": 28,
   "metadata": {},
   "outputs": [
    {
     "data": {
      "image/png": "[encoded data removed]",
      "text/plain": [
       "<Figure size 1080x612 with 8 Axes>"
      ]
     },
     "metadata": {
      "needs_background": "light"
     },
     "output_type": "display_data"
    }
   ],
   "source": [
    "top_platforms = ['PS4','XOne','PC','WiiU']\n",
    "\n",
    "rows = len(top_platforms) // 2\n",
    "cols = 2\n",
    "fig, axes = plt.subplots(rows, cols, figsize=(15,8.5))\n",
    "count = 0\n",
    "for r in range(rows):\n",
    "    for c in range(cols):\n",
    "        curr_platform = top_platforms[count]\n",
    "        df_prep = data[(data['platform'] == curr_platform) & (data['user_score'] > 0)].copy()\n",
    "        \n",
    "        df_filtered = df_prep[['total_sales' ,'critic_score', 'user_score']]\n",
    "        sns.set(font_scale=1.0)\n",
    "        ax = sns.heatmap(df_filtered.corr()[['total_sales']].sort_values(by='total_sales', ascending=False), \n",
    "                         cmap=\"Oranges\", annot=True, annot_kws={'size':15}, ax=axes[r,c])\n",
    "        ax.set_title(curr_platform, fontsize=20)\n",
    "        ax.set_yticklabels(ax.get_yticklabels(), rotation=0)\n",
    "        plt.tight_layout(pad=3)\n",
    "        count += 1"
   ]
  },
  {
   "cell_type": "markdown",
   "metadata": {},
   "source": [
    "Здесь наблюдается значимость оценки пользователей."
   ]
  },
  {
   "cell_type": "code",
   "execution_count": 29,
   "metadata": {},
   "outputs": [
    {
     "name": "stdout",
     "output_type": "stream",
     "text": [
      "    Популярность игровых жанров\n"
     ]
    },
    {
     "data": {
      "text/html": [
       "<div>\n",
       "<style scoped>\n",
       "    .dataframe tbody tr th:only-of-type {\n",
       "        vertical-align: middle;\n",
       "    }\n",
       "\n",
       "    .dataframe tbody tr th {\n",
       "        vertical-align: top;\n",
       "    }\n",
       "\n",
       "    .dataframe thead th {\n",
       "        text-align: right;\n",
       "    }\n",
       "</style>\n",
       "<table border=\"1\" class=\"dataframe\">\n",
       "  <thead>\n",
       "    <tr style=\"text-align: right;\">\n",
       "      <th></th>\n",
       "      <th>genre</th>\n",
       "      <th>total_sales</th>\n",
       "    </tr>\n",
       "  </thead>\n",
       "  <tbody>\n",
       "    <tr>\n",
       "      <th>0</th>\n",
       "      <td>Action</td>\n",
       "      <td>321.87</td>\n",
       "    </tr>\n",
       "    <tr>\n",
       "      <th>1</th>\n",
       "      <td>Shooter</td>\n",
       "      <td>232.98</td>\n",
       "    </tr>\n",
       "    <tr>\n",
       "      <th>2</th>\n",
       "      <td>Sports</td>\n",
       "      <td>150.65</td>\n",
       "    </tr>\n",
       "    <tr>\n",
       "      <th>3</th>\n",
       "      <td>Role-Playing</td>\n",
       "      <td>145.89</td>\n",
       "    </tr>\n",
       "    <tr>\n",
       "      <th>4</th>\n",
       "      <td>Misc</td>\n",
       "      <td>62.82</td>\n",
       "    </tr>\n",
       "    <tr>\n",
       "      <th>5</th>\n",
       "      <td>Platform</td>\n",
       "      <td>42.63</td>\n",
       "    </tr>\n",
       "    <tr>\n",
       "      <th>6</th>\n",
       "      <td>Racing</td>\n",
       "      <td>39.89</td>\n",
       "    </tr>\n",
       "    <tr>\n",
       "      <th>7</th>\n",
       "      <td>Fighting</td>\n",
       "      <td>35.31</td>\n",
       "    </tr>\n",
       "    <tr>\n",
       "      <th>8</th>\n",
       "      <td>Adventure</td>\n",
       "      <td>23.64</td>\n",
       "    </tr>\n",
       "    <tr>\n",
       "      <th>9</th>\n",
       "      <td>Simulation</td>\n",
       "      <td>21.76</td>\n",
       "    </tr>\n",
       "    <tr>\n",
       "      <th>10</th>\n",
       "      <td>Strategy</td>\n",
       "      <td>10.08</td>\n",
       "    </tr>\n",
       "    <tr>\n",
       "      <th>11</th>\n",
       "      <td>Puzzle</td>\n",
       "      <td>3.17</td>\n",
       "    </tr>\n",
       "  </tbody>\n",
       "</table>\n",
       "</div>"
      ],
      "text/plain": [
       "           genre  total_sales\n",
       "0         Action       321.87\n",
       "1        Shooter       232.98\n",
       "2         Sports       150.65\n",
       "3   Role-Playing       145.89\n",
       "4           Misc        62.82\n",
       "5       Platform        42.63\n",
       "6         Racing        39.89\n",
       "7       Fighting        35.31\n",
       "8      Adventure        23.64\n",
       "9     Simulation        21.76\n",
       "10      Strategy        10.08\n",
       "11        Puzzle         3.17"
      ]
     },
     "execution_count": 29,
     "metadata": {},
     "output_type": "execute_result"
    }
   ],
   "source": [
    "print('    Популярность игровых жанров')\n",
    "distr_genre = actual_data.pivot_table(index='genre', values='total_sales', aggfunc='sum').sort_values(\n",
    "    by='total_sales', ascending=False).reset_index().rename_axis(None, axis=1)\n",
    "distr_genre"
   ]
  },
  {
   "cell_type": "markdown",
   "metadata": {},
   "source": [
    "Самые прибыльные жанры - Action, Sports, Shooter.\n",
    "Наименее прибыльные жанры - Strategy, Puzzle."
   ]
  },
  {
   "cell_type": "code",
   "execution_count": 30,
   "metadata": {},
   "outputs": [
    {
     "data": {
      "image/png": "[encoded data removed]",
      "text/plain": [
       "<Figure size 864x432 with 1 Axes>"
      ]
     },
     "metadata": {},
     "output_type": "display_data"
    }
   ],
   "source": [
    "plt.figure(figsize=(12,6))\n",
    "plt.title('Распределение игр по жанрам ',fontsize=15)\n",
    "sns.barplot(data=distr_genre, x='genre', y='total_sales')\n",
    "plt.xlabel('Жанры игр')\n",
    "plt.ylabel('Продажи');"
   ]
  },
  {
   "cell_type": "code",
   "execution_count": 31,
   "metadata": {},
   "outputs": [
    {
     "name": "stdout",
     "output_type": "stream",
     "text": [
      "Cреднее значение продаж по жанрам\n"
     ]
    },
    {
     "data": {
      "text/html": [
       "<div>\n",
       "<style scoped>\n",
       "    .dataframe tbody tr th:only-of-type {\n",
       "        vertical-align: middle;\n",
       "    }\n",
       "\n",
       "    .dataframe tbody tr th {\n",
       "        vertical-align: top;\n",
       "    }\n",
       "\n",
       "    .dataframe thead th {\n",
       "        text-align: right;\n",
       "    }\n",
       "</style>\n",
       "<table border=\"1\" class=\"dataframe\">\n",
       "  <thead>\n",
       "    <tr style=\"text-align: right;\">\n",
       "      <th></th>\n",
       "      <th>genre</th>\n",
       "      <th>total_sales</th>\n",
       "    </tr>\n",
       "  </thead>\n",
       "  <tbody>\n",
       "    <tr>\n",
       "      <th>0</th>\n",
       "      <td>Shooter</td>\n",
       "      <td>1.245882</td>\n",
       "    </tr>\n",
       "    <tr>\n",
       "      <th>1</th>\n",
       "      <td>Sports</td>\n",
       "      <td>0.703972</td>\n",
       "    </tr>\n",
       "    <tr>\n",
       "      <th>2</th>\n",
       "      <td>Platform</td>\n",
       "      <td>0.576081</td>\n",
       "    </tr>\n",
       "    <tr>\n",
       "      <th>3</th>\n",
       "      <td>Role-Playing</td>\n",
       "      <td>0.499623</td>\n",
       "    </tr>\n",
       "    <tr>\n",
       "      <th>4</th>\n",
       "      <td>Racing</td>\n",
       "      <td>0.469294</td>\n",
       "    </tr>\n",
       "    <tr>\n",
       "      <th>5</th>\n",
       "      <td>Fighting</td>\n",
       "      <td>0.441375</td>\n",
       "    </tr>\n",
       "    <tr>\n",
       "      <th>6</th>\n",
       "      <td>Action</td>\n",
       "      <td>0.420196</td>\n",
       "    </tr>\n",
       "    <tr>\n",
       "      <th>7</th>\n",
       "      <td>Misc</td>\n",
       "      <td>0.405290</td>\n",
       "    </tr>\n",
       "    <tr>\n",
       "      <th>8</th>\n",
       "      <td>Simulation</td>\n",
       "      <td>0.350968</td>\n",
       "    </tr>\n",
       "    <tr>\n",
       "      <th>9</th>\n",
       "      <td>Puzzle</td>\n",
       "      <td>0.186471</td>\n",
       "    </tr>\n",
       "    <tr>\n",
       "      <th>10</th>\n",
       "      <td>Strategy</td>\n",
       "      <td>0.180000</td>\n",
       "    </tr>\n",
       "    <tr>\n",
       "      <th>11</th>\n",
       "      <td>Adventure</td>\n",
       "      <td>0.096490</td>\n",
       "    </tr>\n",
       "  </tbody>\n",
       "</table>\n",
       "</div>"
      ],
      "text/plain": [
       "           genre  total_sales\n",
       "0        Shooter     1.245882\n",
       "1         Sports     0.703972\n",
       "2       Platform     0.576081\n",
       "3   Role-Playing     0.499623\n",
       "4         Racing     0.469294\n",
       "5       Fighting     0.441375\n",
       "6         Action     0.420196\n",
       "7           Misc     0.405290\n",
       "8     Simulation     0.350968\n",
       "9         Puzzle     0.186471\n",
       "10      Strategy     0.180000\n",
       "11     Adventure     0.096490"
      ]
     },
     "execution_count": 31,
     "metadata": {},
     "output_type": "execute_result"
    }
   ],
   "source": [
    "print('Cреднее значение продаж по жанрам')\n",
    "distr_genre = actual_data.pivot_table(index='genre', values='total_sales', aggfunc='mean').sort_values(\n",
    "    by='total_sales', ascending=False).reset_index().rename_axis(None, axis=1)\n",
    "distr_genre"
   ]
  },
  {
   "cell_type": "code",
   "execution_count": 32,
   "metadata": {},
   "outputs": [
    {
     "name": "stdout",
     "output_type": "stream",
     "text": [
      "Медианное значение продаж по жанрам\n"
     ]
    },
    {
     "data": {
      "text/html": [
       "<div>\n",
       "<style scoped>\n",
       "    .dataframe tbody tr th:only-of-type {\n",
       "        vertical-align: middle;\n",
       "    }\n",
       "\n",
       "    .dataframe tbody tr th {\n",
       "        vertical-align: top;\n",
       "    }\n",
       "\n",
       "    .dataframe thead th {\n",
       "        text-align: right;\n",
       "    }\n",
       "</style>\n",
       "<table border=\"1\" class=\"dataframe\">\n",
       "  <thead>\n",
       "    <tr style=\"text-align: right;\">\n",
       "      <th></th>\n",
       "      <th>genre</th>\n",
       "      <th>total_sales</th>\n",
       "    </tr>\n",
       "  </thead>\n",
       "  <tbody>\n",
       "    <tr>\n",
       "      <th>0</th>\n",
       "      <td>Shooter</td>\n",
       "      <td>0.450</td>\n",
       "    </tr>\n",
       "    <tr>\n",
       "      <th>1</th>\n",
       "      <td>Sports</td>\n",
       "      <td>0.240</td>\n",
       "    </tr>\n",
       "    <tr>\n",
       "      <th>2</th>\n",
       "      <td>Platform</td>\n",
       "      <td>0.225</td>\n",
       "    </tr>\n",
       "    <tr>\n",
       "      <th>3</th>\n",
       "      <td>Role-Playing</td>\n",
       "      <td>0.125</td>\n",
       "    </tr>\n",
       "    <tr>\n",
       "      <th>4</th>\n",
       "      <td>Fighting</td>\n",
       "      <td>0.125</td>\n",
       "    </tr>\n",
       "    <tr>\n",
       "      <th>5</th>\n",
       "      <td>Racing</td>\n",
       "      <td>0.120</td>\n",
       "    </tr>\n",
       "    <tr>\n",
       "      <th>6</th>\n",
       "      <td>Action</td>\n",
       "      <td>0.110</td>\n",
       "    </tr>\n",
       "    <tr>\n",
       "      <th>7</th>\n",
       "      <td>Simulation</td>\n",
       "      <td>0.100</td>\n",
       "    </tr>\n",
       "    <tr>\n",
       "      <th>8</th>\n",
       "      <td>Misc</td>\n",
       "      <td>0.100</td>\n",
       "    </tr>\n",
       "    <tr>\n",
       "      <th>9</th>\n",
       "      <td>Strategy</td>\n",
       "      <td>0.080</td>\n",
       "    </tr>\n",
       "    <tr>\n",
       "      <th>10</th>\n",
       "      <td>Puzzle</td>\n",
       "      <td>0.060</td>\n",
       "    </tr>\n",
       "    <tr>\n",
       "      <th>11</th>\n",
       "      <td>Adventure</td>\n",
       "      <td>0.030</td>\n",
       "    </tr>\n",
       "  </tbody>\n",
       "</table>\n",
       "</div>"
      ],
      "text/plain": [
       "           genre  total_sales\n",
       "0        Shooter        0.450\n",
       "1         Sports        0.240\n",
       "2       Platform        0.225\n",
       "3   Role-Playing        0.125\n",
       "4       Fighting        0.125\n",
       "5         Racing        0.120\n",
       "6         Action        0.110\n",
       "7     Simulation        0.100\n",
       "8           Misc        0.100\n",
       "9       Strategy        0.080\n",
       "10        Puzzle        0.060\n",
       "11     Adventure        0.030"
      ]
     },
     "execution_count": 32,
     "metadata": {},
     "output_type": "execute_result"
    }
   ],
   "source": [
    "print('Медианное значение продаж по жанрам')\n",
    "distr_genre = actual_data.pivot_table(index='genre', values='total_sales', aggfunc='median').sort_values(\n",
    "    by='total_sales', ascending=False).reset_index().rename_axis(None, axis=1)\n",
    "distr_genre"
   ]
  },
  {
   "cell_type": "code",
   "execution_count": 33,
   "metadata": {},
   "outputs": [
    {
     "name": "stdout",
     "output_type": "stream",
     "text": [
      "Среднее значение продаж:  0.5360234736073948\n",
      "Медианное значение продаж:  0.16999999999999998\n"
     ]
    }
   ],
   "source": [
    "print('Среднее значение продаж: ', data['total_sales'].mean())\n",
    "print('Медианное значение продаж: ', data['total_sales'].median())"
   ]
  },
  {
   "cell_type": "code",
   "execution_count": 34,
   "metadata": {},
   "outputs": [
    {
     "data": {
      "image/png": "[encoded data removed]",
      "text/plain": [
       "<Figure size 1080x360 with 1 Axes>"
      ]
     },
     "metadata": {},
     "output_type": "display_data"
    }
   ],
   "source": [
    "actual_data.pivot_table(index = 'platform', values = 'na_sales', aggfunc = 'sum').sort_values(ascending=False, by = 'na_sales').plot(kind = 'bar', figsize=(15,5));"
   ]
  },
  {
   "cell_type": "markdown",
   "metadata": {},
   "source": [
    "Пользователи Северной Америки больше всего предпочитают PS4 и XOne. Платформы PS, Wii, PSV - не пользуются популярностью."
   ]
  },
  {
   "cell_type": "code",
   "execution_count": 35,
   "metadata": {},
   "outputs": [
    {
     "data": {
      "image/png": "[encoded data removed]",
      "text/plain": [
       "<Figure size 1080x360 with 1 Axes>"
      ]
     },
     "metadata": {},
     "output_type": "display_data"
    }
   ],
   "source": [
    "actual_data.pivot_table(index = 'platform', values = 'eu_sales', aggfunc = 'sum').sort_values(ascending=False, by = 'eu_sales').plot(kind = 'bar', figsize=(15,5));"
   ]
  },
  {
   "cell_type": "markdown",
   "metadata": {},
   "source": [
    "У пользователей Европы популярна PS4. В целом запросы такие же как у пользователей из Северной Америки."
   ]
  },
  {
   "cell_type": "code",
   "execution_count": 36,
   "metadata": {},
   "outputs": [
    {
     "data": {
      "image/png": "[encoded data removed]",
      "text/plain": [
       "<Figure size 1080x360 with 1 Axes>"
      ]
     },
     "metadata": {},
     "output_type": "display_data"
    }
   ],
   "source": [
    "actual_data.pivot_table(index = 'platform', values = 'jp_sales', aggfunc = 'sum').sort_values(ascending=False, by = 'jp_sales').plot(kind = 'bar', figsize=(15,5));"
   ]
  },
  {
   "cell_type": "markdown",
   "metadata": {},
   "source": [
    "В Японии с доминирующем лидерством пользуется популярностью 3DS. PS4, XOne не имеют спроса."
   ]
  },
  {
   "cell_type": "markdown",
   "metadata": {},
   "source": [
    "Можно сделать общий вывод, что пользователи предпочитают играть на платформах своей же страны"
   ]
  },
  {
   "cell_type": "code",
   "execution_count": 37,
   "metadata": {},
   "outputs": [
    {
     "data": {
      "image/png": "[encoded data removed]",
      "text/plain": [
       "<Figure size 1080x360 with 1 Axes>"
      ]
     },
     "metadata": {},
     "output_type": "display_data"
    }
   ],
   "source": [
    "ax = plt.gca()\n",
    "\n",
    "pivot = data.groupby('genre').agg({'name': 'count', 'total_sales': 'sum'}).sort_values(by='name', ascending=False)\n",
    "\n",
    "plot1 = pivot['name']\n",
    "plot1.plot(kind='bar', figsize=(15,5), ec='black', ax=ax, width=0.2, position=1)\n",
    "\n",
    "plot2 = pivot['total_sales']\n",
    "plot2.plot(kind='bar', figsize=(15,5), ec='black', ax=ax, width=0.2, color='#97F0AA', position=0)\n",
    "\n",
    "ax.legend(['Количество продаж', 'Общая сумма продаж']);"
   ]
  },
  {
   "cell_type": "markdown",
   "metadata": {},
   "source": [
    "Большей популярностью позьзуются игры в жанре Action, нынешние тенденции демонстрируются во всей развлекательной отрасли, например, киноиндустрия. Далее - Sports, здесь актуальные игры среди мужского населения такие как FIFA, PES). На третьем месте Misc, предпочитают зачастую дети и тинейджеры, которым нужно 'все и сразу'."
   ]
  },
  {
   "cell_type": "code",
   "execution_count": 38,
   "metadata": {},
   "outputs": [],
   "source": [
    "def top_in_regions_plot(groupby, region_sales, ax):\n",
    "    pivot = data.groupby(groupby).agg({region_sales: 'sum'}).sort_values(by=region_sales, ascending=False)[:3]\n",
    "    title_dict = {'na_sales': 'Продажи Северной Америки', 'eu_sales': 'Продажи в Европе', 'jp_sales': 'Продажи в Японии'}\n",
    "    color_dict = {'na_sales': 'pink', 'eu_sales': 'orange', 'jp_sales': 'forestgreen'}\n",
    "    plot = pivot.plot(kind='bar', ec='black', title=title_dict[region_sales], ax=axes[ax], \n",
    "                   fontsize=18, color=color_dict[region_sales], rot=20)\n",
    "    plot.legend(prop={'size':17})\n",
    "    plot.set_xlabel('')\n",
    "    plot.title.set_size(20)"
   ]
  },
  {
   "cell_type": "code",
   "execution_count": 39,
   "metadata": {},
   "outputs": [
    {
     "name": "stdout",
     "output_type": "stream",
     "text": [
      "Cамые популярные платформы (топ-3)\n"
     ]
    },
    {
     "data": {
      "image/png": "[encoded data removed]",
      "text/plain": [
       "<Figure size 1800x432 with 3 Axes>"
      ]
     },
     "metadata": {},
     "output_type": "display_data"
    }
   ],
   "source": [
    "print ('Cамые популярные платформы (топ-3)')\n",
    "fig, axes = plt.subplots(1, 3, figsize=(25,6))\n",
    "\n",
    "top_in_regions_plot('platform', 'na_sales', 0)\n",
    "top_in_regions_plot('platform', 'eu_sales', 1)\n",
    "top_in_regions_plot('platform', 'jp_sales', 2)"
   ]
  },
  {
   "cell_type": "markdown",
   "metadata": {},
   "source": [
    "В Северной Америке были самыми популярными X360, PS2 B Wii.\n",
    "В Европе популярны PS2,pfntv PS3 и X360.\n",
    "В Японии DS, PS, PS2."
   ]
  },
  {
   "cell_type": "markdown",
   "metadata": {},
   "source": [
    "<div class=\"alert alert-warning\">\n",
    "    <h2> Комментарий ревьюера v2 <a class=\"tocSkip\"> </h2>\n",
    "    \n",
    "<b>Небольшие замечания и рекомендации💡:</b> Мы же уже определили топ5?)"
   ]
  },
  {
   "cell_type": "code",
   "execution_count": 40,
   "metadata": {},
   "outputs": [
    {
     "data": {
      "image/png": "[encoded data removed]",
      "text/plain": [
       "<Figure size 1800x432 with 3 Axes>"
      ]
     },
     "metadata": {},
     "output_type": "display_data"
    }
   ],
   "source": [
    "fig, axes = plt.subplots(1, 3, figsize=(25,6))\n",
    "\n",
    "top_in_regions_plot('genre', 'na_sales', 0)\n",
    "top_in_regions_plot('genre', 'eu_sales', 1)\n",
    "top_in_regions_plot('genre', 'jp_sales', 2)"
   ]
  },
  {
   "cell_type": "code",
   "execution_count": 41,
   "metadata": {},
   "outputs": [
    {
     "data": {
      "text/html": [
       "<div>\n",
       "<style scoped>\n",
       "    .dataframe tbody tr th:only-of-type {\n",
       "        vertical-align: middle;\n",
       "    }\n",
       "\n",
       "    .dataframe tbody tr th {\n",
       "        vertical-align: top;\n",
       "    }\n",
       "\n",
       "    .dataframe thead th {\n",
       "        text-align: right;\n",
       "    }\n",
       "</style>\n",
       "<table border=\"1\" class=\"dataframe\">\n",
       "  <thead>\n",
       "    <tr style=\"text-align: right;\">\n",
       "      <th></th>\n",
       "      <th>na_sales</th>\n",
       "    </tr>\n",
       "    <tr>\n",
       "      <th>genre</th>\n",
       "      <th></th>\n",
       "    </tr>\n",
       "  </thead>\n",
       "  <tbody>\n",
       "    <tr>\n",
       "      <th>Action</th>\n",
       "      <td>126.05</td>\n",
       "    </tr>\n",
       "    <tr>\n",
       "      <th>Shooter</th>\n",
       "      <td>109.74</td>\n",
       "    </tr>\n",
       "    <tr>\n",
       "      <th>Sports</th>\n",
       "      <td>65.27</td>\n",
       "    </tr>\n",
       "    <tr>\n",
       "      <th>Role-Playing</th>\n",
       "      <td>46.40</td>\n",
       "    </tr>\n",
       "    <tr>\n",
       "      <th>Misc</th>\n",
       "      <td>27.49</td>\n",
       "    </tr>\n",
       "    <tr>\n",
       "      <th>Platform</th>\n",
       "      <td>18.14</td>\n",
       "    </tr>\n",
       "    <tr>\n",
       "      <th>Fighting</th>\n",
       "      <td>15.55</td>\n",
       "    </tr>\n",
       "    <tr>\n",
       "      <th>Racing</th>\n",
       "      <td>12.96</td>\n",
       "    </tr>\n",
       "    <tr>\n",
       "      <th>Adventure</th>\n",
       "      <td>7.14</td>\n",
       "    </tr>\n",
       "    <tr>\n",
       "      <th>Simulation</th>\n",
       "      <td>4.86</td>\n",
       "    </tr>\n",
       "    <tr>\n",
       "      <th>Strategy</th>\n",
       "      <td>3.28</td>\n",
       "    </tr>\n",
       "    <tr>\n",
       "      <th>Puzzle</th>\n",
       "      <td>0.83</td>\n",
       "    </tr>\n",
       "  </tbody>\n",
       "</table>\n",
       "</div>"
      ],
      "text/plain": [
       "              na_sales\n",
       "genre                 \n",
       "Action          126.05\n",
       "Shooter         109.74\n",
       "Sports           65.27\n",
       "Role-Playing     46.40\n",
       "Misc             27.49\n",
       "Platform         18.14\n",
       "Fighting         15.55\n",
       "Racing           12.96\n",
       "Adventure         7.14\n",
       "Simulation        4.86\n",
       "Strategy          3.28\n",
       "Puzzle            0.83"
      ]
     },
     "execution_count": 41,
     "metadata": {},
     "output_type": "execute_result"
    }
   ],
   "source": [
    "actual_data.pivot_table(index = 'genre', values = 'na_sales', aggfunc = 'sum').sort_values(ascending=False, by = 'na_sales')"
   ]
  },
  {
   "cell_type": "code",
   "execution_count": 42,
   "metadata": {},
   "outputs": [
    {
     "data": {
      "text/html": [
       "<div>\n",
       "<style scoped>\n",
       "    .dataframe tbody tr th:only-of-type {\n",
       "        vertical-align: middle;\n",
       "    }\n",
       "\n",
       "    .dataframe tbody tr th {\n",
       "        vertical-align: top;\n",
       "    }\n",
       "\n",
       "    .dataframe thead th {\n",
       "        text-align: right;\n",
       "    }\n",
       "</style>\n",
       "<table border=\"1\" class=\"dataframe\">\n",
       "  <thead>\n",
       "    <tr style=\"text-align: right;\">\n",
       "      <th></th>\n",
       "      <th>eu_sales</th>\n",
       "    </tr>\n",
       "    <tr>\n",
       "      <th>genre</th>\n",
       "      <th></th>\n",
       "    </tr>\n",
       "  </thead>\n",
       "  <tbody>\n",
       "    <tr>\n",
       "      <th>Action</th>\n",
       "      <td>118.13</td>\n",
       "    </tr>\n",
       "    <tr>\n",
       "      <th>Shooter</th>\n",
       "      <td>87.86</td>\n",
       "    </tr>\n",
       "    <tr>\n",
       "      <th>Sports</th>\n",
       "      <td>60.52</td>\n",
       "    </tr>\n",
       "    <tr>\n",
       "      <th>Role-Playing</th>\n",
       "      <td>36.97</td>\n",
       "    </tr>\n",
       "    <tr>\n",
       "      <th>Racing</th>\n",
       "      <td>20.19</td>\n",
       "    </tr>\n",
       "    <tr>\n",
       "      <th>Misc</th>\n",
       "      <td>20.04</td>\n",
       "    </tr>\n",
       "    <tr>\n",
       "      <th>Platform</th>\n",
       "      <td>15.58</td>\n",
       "    </tr>\n",
       "    <tr>\n",
       "      <th>Simulation</th>\n",
       "      <td>10.92</td>\n",
       "    </tr>\n",
       "    <tr>\n",
       "      <th>Fighting</th>\n",
       "      <td>8.55</td>\n",
       "    </tr>\n",
       "    <tr>\n",
       "      <th>Adventure</th>\n",
       "      <td>8.25</td>\n",
       "    </tr>\n",
       "    <tr>\n",
       "      <th>Strategy</th>\n",
       "      <td>4.22</td>\n",
       "    </tr>\n",
       "    <tr>\n",
       "      <th>Puzzle</th>\n",
       "      <td>1.00</td>\n",
       "    </tr>\n",
       "  </tbody>\n",
       "</table>\n",
       "</div>"
      ],
      "text/plain": [
       "              eu_sales\n",
       "genre                 \n",
       "Action          118.13\n",
       "Shooter          87.86\n",
       "Sports           60.52\n",
       "Role-Playing     36.97\n",
       "Racing           20.19\n",
       "Misc             20.04\n",
       "Platform         15.58\n",
       "Simulation       10.92\n",
       "Fighting          8.55\n",
       "Adventure         8.25\n",
       "Strategy          4.22\n",
       "Puzzle            1.00"
      ]
     },
     "execution_count": 42,
     "metadata": {},
     "output_type": "execute_result"
    }
   ],
   "source": [
    "actual_data.pivot_table(index = 'genre', values = 'eu_sales', aggfunc = 'sum').sort_values(ascending=False, by = 'eu_sales')"
   ]
  },
  {
   "cell_type": "code",
   "execution_count": 43,
   "metadata": {},
   "outputs": [
    {
     "data": {
      "text/html": [
       "<div>\n",
       "<style scoped>\n",
       "    .dataframe tbody tr th:only-of-type {\n",
       "        vertical-align: middle;\n",
       "    }\n",
       "\n",
       "    .dataframe tbody tr th {\n",
       "        vertical-align: top;\n",
       "    }\n",
       "\n",
       "    .dataframe thead th {\n",
       "        text-align: right;\n",
       "    }\n",
       "</style>\n",
       "<table border=\"1\" class=\"dataframe\">\n",
       "  <thead>\n",
       "    <tr style=\"text-align: right;\">\n",
       "      <th></th>\n",
       "      <th>jp_sales</th>\n",
       "    </tr>\n",
       "    <tr>\n",
       "      <th>genre</th>\n",
       "      <th></th>\n",
       "    </tr>\n",
       "  </thead>\n",
       "  <tbody>\n",
       "    <tr>\n",
       "      <th>Role-Playing</th>\n",
       "      <td>51.04</td>\n",
       "    </tr>\n",
       "    <tr>\n",
       "      <th>Action</th>\n",
       "      <td>40.49</td>\n",
       "    </tr>\n",
       "    <tr>\n",
       "      <th>Misc</th>\n",
       "      <td>9.20</td>\n",
       "    </tr>\n",
       "    <tr>\n",
       "      <th>Fighting</th>\n",
       "      <td>7.65</td>\n",
       "    </tr>\n",
       "    <tr>\n",
       "      <th>Shooter</th>\n",
       "      <td>6.61</td>\n",
       "    </tr>\n",
       "    <tr>\n",
       "      <th>Adventure</th>\n",
       "      <td>5.82</td>\n",
       "    </tr>\n",
       "    <tr>\n",
       "      <th>Sports</th>\n",
       "      <td>5.41</td>\n",
       "    </tr>\n",
       "    <tr>\n",
       "      <th>Platform</th>\n",
       "      <td>4.79</td>\n",
       "    </tr>\n",
       "    <tr>\n",
       "      <th>Simulation</th>\n",
       "      <td>4.52</td>\n",
       "    </tr>\n",
       "    <tr>\n",
       "      <th>Racing</th>\n",
       "      <td>2.30</td>\n",
       "    </tr>\n",
       "    <tr>\n",
       "      <th>Strategy</th>\n",
       "      <td>1.77</td>\n",
       "    </tr>\n",
       "    <tr>\n",
       "      <th>Puzzle</th>\n",
       "      <td>1.18</td>\n",
       "    </tr>\n",
       "  </tbody>\n",
       "</table>\n",
       "</div>"
      ],
      "text/plain": [
       "              jp_sales\n",
       "genre                 \n",
       "Role-Playing     51.04\n",
       "Action           40.49\n",
       "Misc              9.20\n",
       "Fighting          7.65\n",
       "Shooter           6.61\n",
       "Adventure         5.82\n",
       "Sports            5.41\n",
       "Platform          4.79\n",
       "Simulation        4.52\n",
       "Racing            2.30\n",
       "Strategy          1.77\n",
       "Puzzle            1.18"
      ]
     },
     "execution_count": 43,
     "metadata": {},
     "output_type": "execute_result"
    }
   ],
   "source": [
    "actual_data.pivot_table(index = 'genre', values = 'jp_sales', aggfunc = 'sum').sort_values(ascending=False, by = 'jp_sales')"
   ]
  },
  {
   "cell_type": "markdown",
   "metadata": {},
   "source": [
    "Пользователи Европы и Северной Америки играют в целом в одни и те же консоли, популярны жанры - Action, Sports, Shooter. В Японии преобладают пользователи с портативными консолями, в которые можно играть не только дома, поэтому они предпочитают жанр - Role-Playing и редко играют в игры с жанром - Puzzle."
   ]
  },
  {
   "cell_type": "code",
   "execution_count": 44,
   "metadata": {},
   "outputs": [
    {
     "data": {
      "text/html": [
       "<div>\n",
       "<style scoped>\n",
       "    .dataframe tbody tr th:only-of-type {\n",
       "        vertical-align: middle;\n",
       "    }\n",
       "\n",
       "    .dataframe tbody tr th {\n",
       "        vertical-align: top;\n",
       "    }\n",
       "\n",
       "    .dataframe thead th {\n",
       "        text-align: right;\n",
       "    }\n",
       "</style>\n",
       "<table border=\"1\" class=\"dataframe\">\n",
       "  <thead>\n",
       "    <tr style=\"text-align: right;\">\n",
       "      <th></th>\n",
       "      <th>eu_sales</th>\n",
       "      <th>jp_sales</th>\n",
       "      <th>na_sales</th>\n",
       "    </tr>\n",
       "    <tr>\n",
       "      <th>rating</th>\n",
       "      <th></th>\n",
       "      <th></th>\n",
       "      <th></th>\n",
       "    </tr>\n",
       "  </thead>\n",
       "  <tbody>\n",
       "    <tr>\n",
       "      <th>E</th>\n",
       "      <td>83.36</td>\n",
       "      <td>15.14</td>\n",
       "      <td>79.05</td>\n",
       "    </tr>\n",
       "    <tr>\n",
       "      <th>E10+</th>\n",
       "      <td>42.69</td>\n",
       "      <td>5.89</td>\n",
       "      <td>54.24</td>\n",
       "    </tr>\n",
       "    <tr>\n",
       "      <th>M</th>\n",
       "      <td>145.32</td>\n",
       "      <td>14.11</td>\n",
       "      <td>165.21</td>\n",
       "    </tr>\n",
       "    <tr>\n",
       "      <th>T</th>\n",
       "      <td>41.95</td>\n",
       "      <td>20.59</td>\n",
       "      <td>49.79</td>\n",
       "    </tr>\n",
       "  </tbody>\n",
       "</table>\n",
       "</div>"
      ],
      "text/plain": [
       "        eu_sales  jp_sales  na_sales\n",
       "rating                              \n",
       "E          83.36     15.14     79.05\n",
       "E10+       42.69      5.89     54.24\n",
       "M         145.32     14.11    165.21\n",
       "T          41.95     20.59     49.79"
      ]
     },
     "execution_count": 44,
     "metadata": {},
     "output_type": "execute_result"
    }
   ],
   "source": [
    "ESRB = actual_data.pivot_table(index = 'rating', values = ['eu_sales','jp_sales','na_sales'], aggfunc = 'sum')\n",
    "ESRB"
   ]
  },
  {
   "cell_type": "code",
   "execution_count": 45,
   "metadata": {},
   "outputs": [],
   "source": [
    "ESRB_dict = {'E': 'Для всех','EC': '> 6 лет', 'E10+': '> 10 лет', 'M': '> 17 лет', 'T': '> 13 лет', 'AO': 'Для взрослых', 'RP': 'Рейтинг обсуждается', 'undefined': 'Не определен'}\n",
    "data['ESRB_description'] = data[data['rating'].notnull()]['rating'].map(ESRB_dict)"
   ]
  },
  {
   "cell_type": "code",
   "execution_count": 46,
   "metadata": {},
   "outputs": [
    {
     "data": {
      "image/png": "[encoded data removed]",
      "text/plain": [
       "<Figure size 1800x432 with 3 Axes>"
      ]
     },
     "metadata": {},
     "output_type": "display_data"
    }
   ],
   "source": [
    "fig, axes = plt.subplots(1, 3, figsize=(25,6))\n",
    "\n",
    "top_in_regions_plot('ESRB_description', 'na_sales', 0)\n",
    "top_in_regions_plot('ESRB_description', 'eu_sales', 1)\n",
    "top_in_regions_plot('ESRB_description', 'jp_sales', 2)"
   ]
  },
  {
   "cell_type": "markdown",
   "metadata": {},
   "source": [
    "Северная Америка и Европа очень схожи. Большая часть выручки получено с игр с рейтингом \"Для всех\", а далее по возрастному цензеру.\n",
    "В Японии на первом месте \"для всех\", а затем значительная разница между >13 и > 17.\n",
    "При этом следует учитывать, что компания ESRB американская и что-то могло не учитываться в данных, либо действия в чьих-либо интересах."
   ]
  },
  {
   "cell_type": "markdown",
   "metadata": {},
   "source": [
    "1 гипотеза: средние пользовательские рейтинги платформ Xbox One и PC одинаковые;\n",
    "2 гипотеза: средние пользовательские рейтинги жанров Action (англ. «действие», экшен-игры) и Sports (англ. «спортивные соревнования») разные."
   ]
  },
  {
   "cell_type": "code",
   "execution_count": 47,
   "metadata": {},
   "outputs": [
    {
     "name": "stdout",
     "output_type": "stream",
     "text": [
      "Средний пользовательский рейтинг платформы Xbox One: 6.521428571428572\n",
      "Средний пользовательский рейтинг платформы PC 6.2696774193548395\n"
     ]
    }
   ],
   "source": [
    "XOne = actual_data[(actual_data['platform'] == 'XOne') &  (actual_data['user_score'] > 0)]['user_score']#.mean().round()\n",
    "PC = actual_data[(actual_data['platform'] == 'PC') &  (actual_data['user_score'] > 0)]['user_score']#.mean().round()\n",
    "print('Средний пользовательский рейтинг платформы Xbox One:', XOne.mean())\n",
    "print('Средний пользовательский рейтинг платформы PC', PC.mean())"
   ]
  },
  {
   "cell_type": "markdown",
   "metadata": {},
   "source": [
    "H0: Средние пользовательские рейтинги платформ Xbox One и PC одинаковые\n",
    "\n",
    "H1: Средние пользовательские рейтинги платформ Xbox One и PC разные"
   ]
  },
  {
   "cell_type": "code",
   "execution_count": 48,
   "metadata": {},
   "outputs": [
    {
     "name": "stdout",
     "output_type": "stream",
     "text": [
      "p-значение: 0.14759594013430463\n",
      "Не получилось отвергнуть нулевую гипотезу\n"
     ]
    }
   ],
   "source": [
    "#проверяем первую гипотезу\n",
    "\n",
    "alpha = .05\n",
    "\n",
    "results = st.ttest_ind(XOne, PC, equal_var=False)\n",
    "\n",
    "print('p-значение:', results.pvalue)\n",
    "\n",
    "\n",
    "if (results.pvalue < alpha):\n",
    "    print(\"Отвергаем нулевую гипотезу\")\n",
    "else:\n",
    "    print(\"Не получилось отвергнуть нулевую гипотезу\")"
   ]
  },
  {
   "cell_type": "markdown",
   "metadata": {},
   "source": [
    "Вывод: 1 гипотеза подтвердилась. Средние пользовательские рейтинги платформ Xbox One и PC одинаковые"
   ]
  },
  {
   "cell_type": "markdown",
   "metadata": {},
   "source": [
    "H0: Средние пользовательские рейтинги жанров Action (англ. «действие», экшен-игры) и Sports (англ. «спортивные соревнования») одинаковые\n",
    "\n",
    "H1: Средние пользовательские рейтинги жанров Action (англ. «действие», экшен-игры) и Sports (англ. «спортивные соревнования») разные"
   ]
  },
  {
   "cell_type": "code",
   "execution_count": 49,
   "metadata": {},
   "outputs": [
    {
     "name": "stdout",
     "output_type": "stream",
     "text": [
      "Средний пользовательский рейтинг жанра Action: 6.837532133676092\n",
      "Средний пользовательский рейтинг жанра Sports 5.238124999999999\n"
     ]
    }
   ],
   "source": [
    "Action = actual_data[(actual_data['genre'] == 'Action') &  (actual_data['user_score'] > 0)]['user_score']#.mean().round()\n",
    "Sports = actual_data[(actual_data['genre'] == 'Sports') &  (actual_data['user_score'] > 0)]['user_score']#.mean().round()\n",
    "print('Средний пользовательский рейтинг жанра Action:', Action.mean())\n",
    "print('Средний пользовательский рейтинг жанра Sports', Sports.mean())"
   ]
  },
  {
   "cell_type": "code",
   "execution_count": 50,
   "metadata": {},
   "outputs": [
    {
     "name": "stdout",
     "output_type": "stream",
     "text": [
      "p-значение: 1.4460039700704315e-20\n",
      "Отвергаем нулевую гипотезу\n"
     ]
    }
   ],
   "source": [
    "#проверяем вторую гипотезу\n",
    "\n",
    "alpha = .05\n",
    "\n",
    "results = st.ttest_ind(Action, Sports, equal_var=False)\n",
    "\n",
    "print('p-значение:', results.pvalue)\n",
    "\n",
    "\n",
    "if (results.pvalue < alpha):\n",
    "    print(\"Отвергаем нулевую гипотезу\")\n",
    "else:\n",
    "    print(\"Не получилось отвергнуть нулевую гипотезу\")"
   ]
  },
  {
   "cell_type": "markdown",
   "metadata": {},
   "source": [
    "Вывод: 2 гипотеза подтвердилась. Средние пользовательские рейтинги жанров Action и Sports разные"
   ]
  },
  {
   "cell_type": "markdown",
   "metadata": {},
   "source": [
    "    Было проведено исследование, чтобы выявить определяющие успешность игры закономерности. Входные данные - данные до 2016 года. Результаты исследования будут учтены для прогнозирования потенциально популярного продукта и планирования рекламных кампаний.\n",
    "    Перед проведение исследования были поставлены две гипотезы:\n",
    "1. Средние пользовательские рейтинги платформ Xbox One и PC одинаковые.\n",
    "2. Средние пользовательские рейтинги жанров Action (англ. «действие», экшен-игры) и Sports (англ. «спортивные соревнования») разные.\n",
    "\n",
    "    В результате удалось достигнуть следующих итогов:\n",
    "Критерии определяющие успешность игры:\n",
    "1. Регион\n",
    "2. Рейтинг ассоциации, определяющей возрастной рейтинг компьютерных игр\n",
    "3. Платформа, которая наиболее распространена в данном регионе\n",
    "4. Жанр\n",
    "5. Рейтинг критиков (влияет на количество продаж во всех регионах)\n",
    "\n",
    "    Игры, которые будут продаваться в Северной Америке лучше всего:\n",
    "ESRB: E, M, T\n",
    "Платформы: PS4, XOne\n",
    "Жанры: Action, Sports, Shooter\n",
    "\n",
    "    Игры, которые будут продаваться в Европе лучше всего:\n",
    "ESRB: E, M, T\n",
    "Платформы: в PS4, PS3, XOne\n",
    "Жанры: Action, Sports, Shooter\n",
    "\n",
    "    Игры, которые будут продаваться в Японии лучше всего:\n",
    "ESRB: E, T, M\n",
    "Платформы: 3DS, PS3\n",
    "Жанры: Role-Playing, Action, Sports\n",
    "\n",
    "    Гипотеза 1 подтвердилась. Средние пользовательские рейтинги платформ Xbox One и PC одинаковые.\n",
    "    Гипотеза 2 подтвердилась. Средние пользовательские рейтинги жанров Action и Sports разные."
   ]
  }
 ],
 "metadata": {
  "ExecuteTimeLog": [
   {
    "duration": 583,
    "start_time": "2023-01-31T16:42:56.950Z"
   },
   {
    "duration": 76,
    "start_time": "2023-01-31T16:43:08.914Z"
   },
   {
    "duration": 80,
    "start_time": "2023-01-31T16:47:17.940Z"
   },
   {
    "duration": 3,
    "start_time": "2023-01-31T16:47:23.049Z"
   },
   {
    "duration": 112,
    "start_time": "2023-01-31T16:47:54.352Z"
   },
   {
    "duration": 58,
    "start_time": "2023-01-31T16:48:09.465Z"
   },
   {
    "duration": 74,
    "start_time": "2023-01-31T16:48:20.857Z"
   },
   {
    "duration": 83,
    "start_time": "2023-01-31T16:48:37.303Z"
   },
   {
    "duration": 89,
    "start_time": "2023-01-31T16:48:58.705Z"
   },
   {
    "duration": 27,
    "start_time": "2023-01-31T16:49:16.220Z"
   },
   {
    "duration": 16,
    "start_time": "2023-01-31T16:49:50.647Z"
   },
   {
    "duration": 1377,
    "start_time": "2023-01-31T16:50:33.521Z"
   },
   {
    "duration": 18,
    "start_time": "2023-01-31T17:02:37.075Z"
   },
   {
    "duration": 12,
    "start_time": "2023-01-31T17:02:47.953Z"
   },
   {
    "duration": 12,
    "start_time": "2023-01-31T17:02:52.121Z"
   },
   {
    "duration": 14,
    "start_time": "2023-01-31T17:02:55.839Z"
   },
   {
    "duration": 51,
    "start_time": "2023-02-01T05:24:01.837Z"
   },
   {
    "duration": 0,
    "start_time": "2023-02-01T05:24:01.890Z"
   },
   {
    "duration": 31,
    "start_time": "2023-02-01T05:24:57.060Z"
   },
   {
    "duration": 82,
    "start_time": "2023-02-01T05:24:57.093Z"
   },
   {
    "duration": 58,
    "start_time": "2023-02-01T05:24:57.177Z"
   },
   {
    "duration": 714,
    "start_time": "2023-02-01T05:24:57.237Z"
   },
   {
    "duration": 22,
    "start_time": "2023-02-01T05:24:57.953Z"
   },
   {
    "duration": 33,
    "start_time": "2023-02-01T05:24:57.977Z"
   },
   {
    "duration": 8,
    "start_time": "2023-02-01T05:30:37.817Z"
   },
   {
    "duration": 21,
    "start_time": "2023-02-01T05:30:50.614Z"
   },
   {
    "duration": 798,
    "start_time": "2023-02-01T05:30:50.726Z"
   },
   {
    "duration": 20,
    "start_time": "2023-02-01T05:31:06.875Z"
   },
   {
    "duration": 671,
    "start_time": "2023-02-01T05:31:06.979Z"
   },
   {
    "duration": 669,
    "start_time": "2023-02-01T05:33:03.599Z"
   },
   {
    "duration": 359,
    "start_time": "2023-02-01T05:33:38.745Z"
   },
   {
    "duration": 70,
    "start_time": "2023-02-01T05:33:39.106Z"
   },
   {
    "duration": 14,
    "start_time": "2023-02-01T05:33:39.178Z"
   },
   {
    "duration": 905,
    "start_time": "2023-02-01T05:33:39.194Z"
   },
   {
    "duration": 24,
    "start_time": "2023-02-01T05:33:40.101Z"
   },
   {
    "duration": 727,
    "start_time": "2023-02-01T05:33:40.127Z"
   },
   {
    "duration": 0,
    "start_time": "2023-02-01T05:33:40.855Z"
   },
   {
    "duration": 676,
    "start_time": "2023-02-01T05:33:46.759Z"
   },
   {
    "duration": 61,
    "start_time": "2023-02-01T05:37:56.984Z"
   },
   {
    "duration": 686,
    "start_time": "2023-02-01T05:41:04.512Z"
   },
   {
    "duration": 647,
    "start_time": "2023-02-01T05:41:46.018Z"
   },
   {
    "duration": 0,
    "start_time": "2023-02-01T05:46:33.213Z"
   },
   {
    "duration": 0,
    "start_time": "2023-02-01T05:46:33.214Z"
   },
   {
    "duration": 0,
    "start_time": "2023-02-01T05:46:33.215Z"
   },
   {
    "duration": 0,
    "start_time": "2023-02-01T05:46:33.216Z"
   },
   {
    "duration": 0,
    "start_time": "2023-02-01T05:46:33.217Z"
   },
   {
    "duration": 0,
    "start_time": "2023-02-01T05:46:33.218Z"
   },
   {
    "duration": 0,
    "start_time": "2023-02-01T05:46:33.219Z"
   },
   {
    "duration": 627,
    "start_time": "2023-02-01T05:46:42.015Z"
   },
   {
    "duration": 58,
    "start_time": "2023-02-01T05:46:49.197Z"
   },
   {
    "duration": 12,
    "start_time": "2023-02-01T05:46:49.275Z"
   },
   {
    "duration": 714,
    "start_time": "2023-02-01T05:46:54.979Z"
   },
   {
    "duration": 5,
    "start_time": "2023-02-01T05:49:05.170Z"
   },
   {
    "duration": 5,
    "start_time": "2023-02-01T05:52:33.960Z"
   },
   {
    "duration": 6,
    "start_time": "2023-02-01T06:12:01.816Z"
   },
   {
    "duration": 3,
    "start_time": "2023-02-01T06:18:20.729Z"
   },
   {
    "duration": 3,
    "start_time": "2023-02-01T06:18:25.098Z"
   },
   {
    "duration": 57,
    "start_time": "2023-02-01T06:18:25.191Z"
   },
   {
    "duration": 12,
    "start_time": "2023-02-01T06:18:27.776Z"
   },
   {
    "duration": 4,
    "start_time": "2023-02-01T06:18:27.888Z"
   },
   {
    "duration": 6,
    "start_time": "2023-02-01T06:18:29.407Z"
   },
   {
    "duration": 680,
    "start_time": "2023-02-01T06:18:29.518Z"
   },
   {
    "duration": 22,
    "start_time": "2023-02-01T06:18:33.238Z"
   },
   {
    "duration": 701,
    "start_time": "2023-02-01T06:19:20.150Z"
   },
   {
    "duration": 8,
    "start_time": "2023-02-01T07:42:12.142Z"
   },
   {
    "duration": 3,
    "start_time": "2023-02-01T07:42:28.192Z"
   },
   {
    "duration": 4,
    "start_time": "2023-02-01T07:42:34.813Z"
   },
   {
    "duration": 14,
    "start_time": "2023-02-01T07:42:34.870Z"
   },
   {
    "duration": 19,
    "start_time": "2023-02-01T07:42:45.661Z"
   },
   {
    "duration": 19,
    "start_time": "2023-02-01T08:08:59.674Z"
   },
   {
    "duration": 11,
    "start_time": "2023-02-01T08:08:59.751Z"
   },
   {
    "duration": 8,
    "start_time": "2023-02-01T08:09:38.370Z"
   },
   {
    "duration": 7,
    "start_time": "2023-02-01T08:10:21.769Z"
   },
   {
    "duration": 11,
    "start_time": "2023-02-01T08:10:42.083Z"
   },
   {
    "duration": 13,
    "start_time": "2023-02-01T08:21:18.691Z"
   },
   {
    "duration": 744,
    "start_time": "2023-02-01T09:12:44.891Z"
   },
   {
    "duration": 401,
    "start_time": "2023-02-01T09:13:06.803Z"
   },
   {
    "duration": 71,
    "start_time": "2023-02-01T09:13:07.206Z"
   },
   {
    "duration": 0,
    "start_time": "2023-02-01T09:13:07.279Z"
   },
   {
    "duration": 0,
    "start_time": "2023-02-01T09:13:07.281Z"
   },
   {
    "duration": 0,
    "start_time": "2023-02-01T09:13:07.282Z"
   },
   {
    "duration": 0,
    "start_time": "2023-02-01T09:13:07.284Z"
   },
   {
    "duration": 0,
    "start_time": "2023-02-01T09:13:07.285Z"
   },
   {
    "duration": 0,
    "start_time": "2023-02-01T09:13:07.286Z"
   },
   {
    "duration": 0,
    "start_time": "2023-02-01T09:13:07.288Z"
   },
   {
    "duration": 73,
    "start_time": "2023-02-01T09:13:33.163Z"
   },
   {
    "duration": 62,
    "start_time": "2023-02-01T09:13:38.241Z"
   },
   {
    "duration": 15,
    "start_time": "2023-02-01T09:13:38.325Z"
   },
   {
    "duration": 6,
    "start_time": "2023-02-01T09:13:49.915Z"
   },
   {
    "duration": 933,
    "start_time": "2023-02-01T09:14:08.844Z"
   },
   {
    "duration": 838,
    "start_time": "2023-02-01T09:23:48.992Z"
   },
   {
    "duration": 3,
    "start_time": "2023-02-01T09:24:10.837Z"
   },
   {
    "duration": 79,
    "start_time": "2023-02-01T09:24:10.952Z"
   },
   {
    "duration": 15,
    "start_time": "2023-02-01T09:24:12.634Z"
   },
   {
    "duration": 5,
    "start_time": "2023-02-01T09:24:12.744Z"
   },
   {
    "duration": 859,
    "start_time": "2023-02-01T09:24:17.289Z"
   },
   {
    "duration": 35,
    "start_time": "2023-02-01T09:24:23.501Z"
   },
   {
    "duration": 16,
    "start_time": "2023-02-01T09:24:23.633Z"
   },
   {
    "duration": 51,
    "start_time": "2023-02-01T09:31:03.810Z"
   },
   {
    "duration": 58,
    "start_time": "2023-02-01T09:31:37.471Z"
   },
   {
    "duration": 370,
    "start_time": "2023-02-01T09:31:56.057Z"
   },
   {
    "duration": 72,
    "start_time": "2023-02-01T09:31:56.429Z"
   },
   {
    "duration": 26,
    "start_time": "2023-02-01T09:31:56.502Z"
   },
   {
    "duration": 36,
    "start_time": "2023-02-01T09:31:56.531Z"
   },
   {
    "duration": 1089,
    "start_time": "2023-02-01T09:31:56.569Z"
   },
   {
    "duration": 20,
    "start_time": "2023-02-01T09:31:57.660Z"
   },
   {
    "duration": 37,
    "start_time": "2023-02-01T09:31:57.682Z"
   },
   {
    "duration": 53,
    "start_time": "2023-02-01T09:31:57.723Z"
   },
   {
    "duration": 0,
    "start_time": "2023-02-01T09:31:57.777Z"
   },
   {
    "duration": 0,
    "start_time": "2023-02-01T09:31:57.778Z"
   },
   {
    "duration": 50,
    "start_time": "2023-02-01T09:32:04.857Z"
   },
   {
    "duration": 94,
    "start_time": "2023-02-01T09:32:28.701Z"
   },
   {
    "duration": 6,
    "start_time": "2023-02-01T09:32:57.246Z"
   },
   {
    "duration": 8,
    "start_time": "2023-02-01T09:33:58.196Z"
   },
   {
    "duration": 8,
    "start_time": "2023-02-01T09:34:11.261Z"
   },
   {
    "duration": 10,
    "start_time": "2023-02-01T09:34:47.027Z"
   },
   {
    "duration": 8,
    "start_time": "2023-02-01T09:34:53.455Z"
   },
   {
    "duration": 8,
    "start_time": "2023-02-01T09:35:00.104Z"
   },
   {
    "duration": 9,
    "start_time": "2023-02-01T09:37:00.933Z"
   },
   {
    "duration": 12,
    "start_time": "2023-02-01T09:45:45.170Z"
   },
   {
    "duration": 22,
    "start_time": "2023-02-01T10:21:23.550Z"
   },
   {
    "duration": 10,
    "start_time": "2023-02-01T10:25:19.607Z"
   },
   {
    "duration": 7,
    "start_time": "2023-02-01T10:25:31.292Z"
   },
   {
    "duration": 10,
    "start_time": "2023-02-01T10:32:27.946Z"
   },
   {
    "duration": 10,
    "start_time": "2023-02-01T10:35:11.960Z"
   },
   {
    "duration": 10,
    "start_time": "2023-02-01T10:35:17.377Z"
   },
   {
    "duration": 5,
    "start_time": "2023-02-01T10:39:10.395Z"
   },
   {
    "duration": 5,
    "start_time": "2023-02-01T10:44:23.008Z"
   },
   {
    "duration": 13,
    "start_time": "2023-02-01T10:45:04.957Z"
   },
   {
    "duration": 9,
    "start_time": "2023-02-01T10:52:17.149Z"
   },
   {
    "duration": 8,
    "start_time": "2023-02-01T10:52:29.563Z"
   },
   {
    "duration": 12,
    "start_time": "2023-02-01T10:52:43.907Z"
   },
   {
    "duration": 5,
    "start_time": "2023-02-01T10:52:46.059Z"
   },
   {
    "duration": 18,
    "start_time": "2023-02-01T10:52:48.719Z"
   },
   {
    "duration": 10,
    "start_time": "2023-02-01T10:52:58.561Z"
   },
   {
    "duration": 15,
    "start_time": "2023-02-01T11:00:53.549Z"
   },
   {
    "duration": 27,
    "start_time": "2023-02-01T11:11:15.351Z"
   },
   {
    "duration": 12,
    "start_time": "2023-02-01T11:16:41.645Z"
   },
   {
    "duration": 5,
    "start_time": "2023-02-01T11:16:42.637Z"
   },
   {
    "duration": 14,
    "start_time": "2023-02-01T11:16:44.120Z"
   },
   {
    "duration": 11,
    "start_time": "2023-02-01T11:16:45.653Z"
   },
   {
    "duration": 28,
    "start_time": "2023-02-01T11:16:47.109Z"
   },
   {
    "duration": 16,
    "start_time": "2023-02-01T11:19:23.198Z"
   },
   {
    "duration": 12,
    "start_time": "2023-02-01T12:07:52.367Z"
   },
   {
    "duration": 7,
    "start_time": "2023-02-01T12:08:28.426Z"
   },
   {
    "duration": 1038,
    "start_time": "2023-02-01T12:22:05.237Z"
   },
   {
    "duration": 184,
    "start_time": "2023-02-01T12:24:04.070Z"
   },
   {
    "duration": 8,
    "start_time": "2023-02-01T13:00:26.611Z"
   },
   {
    "duration": 302,
    "start_time": "2023-02-01T13:00:59.326Z"
   },
   {
    "duration": 49,
    "start_time": "2023-02-01T13:01:47.695Z"
   },
   {
    "duration": 54,
    "start_time": "2023-02-01T13:02:31.252Z"
   },
   {
    "duration": 40,
    "start_time": "2023-02-01T13:02:37.615Z"
   },
   {
    "duration": 75,
    "start_time": "2023-02-02T05:30:48.381Z"
   },
   {
    "duration": 58,
    "start_time": "2023-02-02T05:50:09.142Z"
   },
   {
    "duration": 452,
    "start_time": "2023-02-02T05:50:20.010Z"
   },
   {
    "duration": 238,
    "start_time": "2023-02-02T05:50:20.464Z"
   },
   {
    "duration": 15,
    "start_time": "2023-02-02T05:50:20.704Z"
   },
   {
    "duration": 14,
    "start_time": "2023-02-02T05:50:20.721Z"
   },
   {
    "duration": 1246,
    "start_time": "2023-02-02T05:50:20.737Z"
   },
   {
    "duration": 35,
    "start_time": "2023-02-02T05:50:21.986Z"
   },
   {
    "duration": 17,
    "start_time": "2023-02-02T05:50:22.023Z"
   },
   {
    "duration": 8,
    "start_time": "2023-02-02T05:50:22.041Z"
   },
   {
    "duration": 17,
    "start_time": "2023-02-02T05:50:22.050Z"
   },
   {
    "duration": 11,
    "start_time": "2023-02-02T05:50:22.070Z"
   },
   {
    "duration": 42,
    "start_time": "2023-02-02T05:50:22.082Z"
   },
   {
    "duration": 73,
    "start_time": "2023-02-02T05:50:22.126Z"
   },
   {
    "duration": 28,
    "start_time": "2023-02-02T05:50:22.201Z"
   },
   {
    "duration": 17,
    "start_time": "2023-02-02T05:50:22.231Z"
   },
   {
    "duration": 24,
    "start_time": "2023-02-02T05:50:22.249Z"
   },
   {
    "duration": 47,
    "start_time": "2023-02-02T05:50:22.275Z"
   },
   {
    "duration": 11,
    "start_time": "2023-02-02T05:50:22.324Z"
   },
   {
    "duration": 327,
    "start_time": "2023-02-02T05:50:22.340Z"
   },
   {
    "duration": 297,
    "start_time": "2023-02-02T05:50:39.337Z"
   },
   {
    "duration": 265,
    "start_time": "2023-02-02T05:51:52.805Z"
   },
   {
    "duration": 5,
    "start_time": "2023-02-02T05:54:22.321Z"
   },
   {
    "duration": 4,
    "start_time": "2023-02-02T05:54:25.608Z"
   },
   {
    "duration": 8,
    "start_time": "2023-02-02T05:54:28.330Z"
   },
   {
    "duration": 9,
    "start_time": "2023-02-02T05:55:22.963Z"
   },
   {
    "duration": 18,
    "start_time": "2023-02-02T05:55:54.051Z"
   },
   {
    "duration": 287,
    "start_time": "2023-02-02T05:56:15.501Z"
   },
   {
    "duration": 373,
    "start_time": "2023-02-02T05:56:58.613Z"
   },
   {
    "duration": 309,
    "start_time": "2023-02-02T05:57:14.560Z"
   },
   {
    "duration": 321,
    "start_time": "2023-02-02T05:57:26.731Z"
   },
   {
    "duration": 16,
    "start_time": "2023-02-02T06:01:41.484Z"
   },
   {
    "duration": 30,
    "start_time": "2023-02-02T06:03:42.017Z"
   },
   {
    "duration": 26,
    "start_time": "2023-02-02T06:04:19.543Z"
   },
   {
    "duration": 9,
    "start_time": "2023-02-02T06:07:18.197Z"
   },
   {
    "duration": 85,
    "start_time": "2023-02-02T06:08:26.033Z"
   },
   {
    "duration": 187,
    "start_time": "2023-02-02T06:09:07.133Z"
   },
   {
    "duration": 7,
    "start_time": "2023-02-02T06:11:27.252Z"
   },
   {
    "duration": 423,
    "start_time": "2023-02-02T06:11:48.227Z"
   },
   {
    "duration": 81,
    "start_time": "2023-02-02T06:11:48.652Z"
   },
   {
    "duration": 16,
    "start_time": "2023-02-02T06:11:48.736Z"
   },
   {
    "duration": 8,
    "start_time": "2023-02-02T06:11:48.754Z"
   },
   {
    "duration": 1111,
    "start_time": "2023-02-02T06:11:48.764Z"
   },
   {
    "duration": 47,
    "start_time": "2023-02-02T06:11:49.877Z"
   },
   {
    "duration": 22,
    "start_time": "2023-02-02T06:11:49.926Z"
   },
   {
    "duration": 9,
    "start_time": "2023-02-02T06:11:49.950Z"
   },
   {
    "duration": 15,
    "start_time": "2023-02-02T06:11:49.960Z"
   },
   {
    "duration": 11,
    "start_time": "2023-02-02T06:11:49.978Z"
   },
   {
    "duration": 42,
    "start_time": "2023-02-02T06:11:49.991Z"
   },
   {
    "duration": 44,
    "start_time": "2023-02-02T06:11:50.035Z"
   },
   {
    "duration": 15,
    "start_time": "2023-02-02T06:11:50.081Z"
   },
   {
    "duration": 15,
    "start_time": "2023-02-02T06:11:50.098Z"
   },
   {
    "duration": 26,
    "start_time": "2023-02-02T06:11:50.115Z"
   },
   {
    "duration": 24,
    "start_time": "2023-02-02T06:11:50.143Z"
   },
   {
    "duration": 17,
    "start_time": "2023-02-02T06:11:50.169Z"
   },
   {
    "duration": 644,
    "start_time": "2023-02-02T06:11:50.188Z"
   },
   {
    "duration": 23,
    "start_time": "2023-02-02T06:11:50.834Z"
   },
   {
    "duration": 26,
    "start_time": "2023-02-02T06:11:50.859Z"
   },
   {
    "duration": 2,
    "start_time": "2023-02-02T06:11:56.497Z"
   },
   {
    "duration": 109,
    "start_time": "2023-02-02T06:12:01.789Z"
   },
   {
    "duration": 16,
    "start_time": "2023-02-02T06:12:06.460Z"
   },
   {
    "duration": 7,
    "start_time": "2023-02-02T06:12:11.165Z"
   },
   {
    "duration": 857,
    "start_time": "2023-02-02T06:12:14.582Z"
   },
   {
    "duration": 23,
    "start_time": "2023-02-02T06:12:48.896Z"
   },
   {
    "duration": 15,
    "start_time": "2023-02-02T06:12:51.926Z"
   },
   {
    "duration": 9,
    "start_time": "2023-02-02T06:13:00.656Z"
   },
   {
    "duration": 10,
    "start_time": "2023-02-02T06:13:05.317Z"
   },
   {
    "duration": 10,
    "start_time": "2023-02-02T06:13:15.555Z"
   },
   {
    "duration": 7,
    "start_time": "2023-02-02T06:13:17.094Z"
   },
   {
    "duration": 11,
    "start_time": "2023-02-02T06:13:40.287Z"
   },
   {
    "duration": 13,
    "start_time": "2023-02-02T06:13:58.949Z"
   },
   {
    "duration": 106,
    "start_time": "2023-02-02T07:06:51.576Z"
   },
   {
    "duration": 15,
    "start_time": "2023-02-02T07:06:58.484Z"
   },
   {
    "duration": 472,
    "start_time": "2023-02-02T07:08:55.012Z"
   },
   {
    "duration": 80,
    "start_time": "2023-02-02T07:08:55.486Z"
   },
   {
    "duration": 16,
    "start_time": "2023-02-02T07:08:55.568Z"
   },
   {
    "duration": 7,
    "start_time": "2023-02-02T07:08:55.586Z"
   },
   {
    "duration": 1089,
    "start_time": "2023-02-02T07:08:55.596Z"
   },
   {
    "duration": 40,
    "start_time": "2023-02-02T07:08:56.687Z"
   },
   {
    "duration": 19,
    "start_time": "2023-02-02T07:08:56.730Z"
   },
   {
    "duration": 8,
    "start_time": "2023-02-02T07:08:56.751Z"
   },
   {
    "duration": 15,
    "start_time": "2023-02-02T07:08:56.760Z"
   },
   {
    "duration": 50,
    "start_time": "2023-02-02T07:08:56.777Z"
   },
   {
    "duration": 8,
    "start_time": "2023-02-02T07:08:56.829Z"
   },
   {
    "duration": 15,
    "start_time": "2023-02-02T07:08:56.839Z"
   },
   {
    "duration": 13,
    "start_time": "2023-02-02T07:08:56.856Z"
   },
   {
    "duration": 53,
    "start_time": "2023-02-02T07:08:56.871Z"
   },
   {
    "duration": 22,
    "start_time": "2023-02-02T07:08:56.926Z"
   },
   {
    "duration": 11,
    "start_time": "2023-02-02T07:08:56.949Z"
   },
   {
    "duration": 7,
    "start_time": "2023-02-02T07:08:56.962Z"
   },
   {
    "duration": 694,
    "start_time": "2023-02-02T07:08:56.970Z"
   },
   {
    "duration": 44,
    "start_time": "2023-02-02T07:08:57.667Z"
   },
   {
    "duration": 30,
    "start_time": "2023-02-02T07:08:57.713Z"
   },
   {
    "duration": 2,
    "start_time": "2023-02-02T07:09:03.244Z"
   },
   {
    "duration": 64,
    "start_time": "2023-02-02T07:09:04.187Z"
   },
   {
    "duration": 16,
    "start_time": "2023-02-02T07:09:12.168Z"
   },
   {
    "duration": 7,
    "start_time": "2023-02-02T07:09:22.508Z"
   },
   {
    "duration": 908,
    "start_time": "2023-02-02T07:09:33.808Z"
   },
   {
    "duration": 24,
    "start_time": "2023-02-02T07:09:46.279Z"
   },
   {
    "duration": 19,
    "start_time": "2023-02-02T07:09:58.342Z"
   },
   {
    "duration": 79,
    "start_time": "2023-02-02T07:11:46.206Z"
   },
   {
    "duration": 10,
    "start_time": "2023-02-02T07:12:21.699Z"
   },
   {
    "duration": 11,
    "start_time": "2023-02-02T07:12:34.106Z"
   },
   {
    "duration": 6,
    "start_time": "2023-02-02T07:13:17.808Z"
   },
   {
    "duration": 7,
    "start_time": "2023-02-02T07:13:27.871Z"
   },
   {
    "duration": 25,
    "start_time": "2023-02-02T07:13:34.215Z"
   },
   {
    "duration": 7,
    "start_time": "2023-02-02T07:13:41.646Z"
   },
   {
    "duration": 70,
    "start_time": "2023-02-02T07:21:11.375Z"
   },
   {
    "duration": 83,
    "start_time": "2023-02-02T07:21:31.975Z"
   },
   {
    "duration": 93,
    "start_time": "2023-02-02T07:21:45.011Z"
   },
   {
    "duration": 102,
    "start_time": "2023-02-02T07:22:01.177Z"
   },
   {
    "duration": 85,
    "start_time": "2023-02-02T07:22:15.102Z"
   },
   {
    "duration": 105,
    "start_time": "2023-02-02T07:22:30.392Z"
   },
   {
    "duration": 88,
    "start_time": "2023-02-02T07:24:03.718Z"
   },
   {
    "duration": 82,
    "start_time": "2023-02-02T07:24:56.641Z"
   },
   {
    "duration": 84,
    "start_time": "2023-02-02T07:25:08.081Z"
   },
   {
    "duration": 8,
    "start_time": "2023-02-02T07:25:35.877Z"
   },
   {
    "duration": 82,
    "start_time": "2023-02-02T07:27:18.808Z"
   },
   {
    "duration": 12,
    "start_time": "2023-02-02T07:27:31.528Z"
   },
   {
    "duration": 10,
    "start_time": "2023-02-02T07:27:43.127Z"
   },
   {
    "duration": 9,
    "start_time": "2023-02-02T07:27:57.672Z"
   },
   {
    "duration": 8,
    "start_time": "2023-02-02T07:28:32.992Z"
   },
   {
    "duration": 11,
    "start_time": "2023-02-02T07:28:36.567Z"
   },
   {
    "duration": 9,
    "start_time": "2023-02-02T07:54:19.436Z"
   },
   {
    "duration": 17,
    "start_time": "2023-02-02T07:55:39.965Z"
   },
   {
    "duration": 14,
    "start_time": "2023-02-02T07:56:23.348Z"
   },
   {
    "duration": 16,
    "start_time": "2023-02-02T07:58:10.054Z"
   },
   {
    "duration": 9,
    "start_time": "2023-02-02T07:59:49.838Z"
   },
   {
    "duration": 453,
    "start_time": "2023-02-02T08:00:04.430Z"
   },
   {
    "duration": 80,
    "start_time": "2023-02-02T08:00:04.885Z"
   },
   {
    "duration": 22,
    "start_time": "2023-02-02T08:00:04.967Z"
   },
   {
    "duration": 8,
    "start_time": "2023-02-02T08:00:04.992Z"
   },
   {
    "duration": 1139,
    "start_time": "2023-02-02T08:00:05.021Z"
   },
   {
    "duration": 23,
    "start_time": "2023-02-02T08:00:06.162Z"
   },
   {
    "duration": 28,
    "start_time": "2023-02-02T08:00:06.187Z"
   },
   {
    "duration": 10,
    "start_time": "2023-02-02T08:00:06.217Z"
   },
   {
    "duration": 13,
    "start_time": "2023-02-02T08:00:06.229Z"
   },
   {
    "duration": 15,
    "start_time": "2023-02-02T08:00:06.246Z"
   },
   {
    "duration": 8,
    "start_time": "2023-02-02T08:00:06.264Z"
   },
   {
    "duration": 55,
    "start_time": "2023-02-02T08:00:06.275Z"
   },
   {
    "duration": 22,
    "start_time": "2023-02-02T08:00:06.332Z"
   },
   {
    "duration": 21,
    "start_time": "2023-02-02T08:00:06.356Z"
   },
   {
    "duration": 50,
    "start_time": "2023-02-02T08:00:06.379Z"
   },
   {
    "duration": 13,
    "start_time": "2023-02-02T08:00:06.431Z"
   },
   {
    "duration": 8,
    "start_time": "2023-02-02T08:00:06.446Z"
   },
   {
    "duration": 720,
    "start_time": "2023-02-02T08:00:06.457Z"
   },
   {
    "duration": 23,
    "start_time": "2023-02-02T08:00:07.179Z"
   },
   {
    "duration": 28,
    "start_time": "2023-02-02T08:00:07.204Z"
   },
   {
    "duration": 3,
    "start_time": "2023-02-02T08:00:11.833Z"
   },
   {
    "duration": 72,
    "start_time": "2023-02-02T08:00:12.486Z"
   },
   {
    "duration": 16,
    "start_time": "2023-02-02T08:00:15.918Z"
   },
   {
    "duration": 8,
    "start_time": "2023-02-02T08:00:18.979Z"
   },
   {
    "duration": 822,
    "start_time": "2023-02-02T08:00:20.650Z"
   },
   {
    "duration": 25,
    "start_time": "2023-02-02T08:00:28.902Z"
   },
   {
    "duration": 104,
    "start_time": "2023-02-02T08:01:41.968Z"
   },
   {
    "duration": 576,
    "start_time": "2023-02-02T08:02:45.513Z"
   },
   {
    "duration": 80,
    "start_time": "2023-02-02T08:02:46.760Z"
   },
   {
    "duration": 16,
    "start_time": "2023-02-02T08:02:49.415Z"
   },
   {
    "duration": 7,
    "start_time": "2023-02-02T08:02:51.903Z"
   },
   {
    "duration": 762,
    "start_time": "2023-02-02T08:02:53.341Z"
   },
   {
    "duration": 24,
    "start_time": "2023-02-02T08:02:58.435Z"
   },
   {
    "duration": 4,
    "start_time": "2023-02-02T08:03:06.987Z"
   },
   {
    "duration": 10,
    "start_time": "2023-02-02T08:03:09.649Z"
   },
   {
    "duration": 9,
    "start_time": "2023-02-02T08:03:13.663Z"
   },
   {
    "duration": 5,
    "start_time": "2023-02-02T08:03:21.682Z"
   },
   {
    "duration": 3,
    "start_time": "2023-02-02T08:49:07.245Z"
   },
   {
    "duration": 13,
    "start_time": "2023-02-02T08:49:08.084Z"
   },
   {
    "duration": 6,
    "start_time": "2023-02-02T08:49:24.392Z"
   },
   {
    "duration": 42,
    "start_time": "2023-02-02T08:49:27.018Z"
   },
   {
    "duration": 17,
    "start_time": "2023-02-02T08:49:42.684Z"
   },
   {
    "duration": 9,
    "start_time": "2023-02-02T08:50:19.559Z"
   },
   {
    "duration": 9,
    "start_time": "2023-02-02T08:50:22.969Z"
   },
   {
    "duration": 10,
    "start_time": "2023-02-02T08:50:25.916Z"
   },
   {
    "duration": 12,
    "start_time": "2023-02-02T08:50:48.278Z"
   },
   {
    "duration": 11,
    "start_time": "2023-02-02T08:51:50.578Z"
   },
   {
    "duration": 10,
    "start_time": "2023-02-02T08:51:56.532Z"
   },
   {
    "duration": 6,
    "start_time": "2023-02-02T08:52:20.762Z"
   },
   {
    "duration": 1204,
    "start_time": "2023-02-02T08:54:08.137Z"
   },
   {
    "duration": 1244,
    "start_time": "2023-02-02T08:55:10.481Z"
   },
   {
    "duration": 14,
    "start_time": "2023-02-02T08:55:26.707Z"
   },
   {
    "duration": 7,
    "start_time": "2023-02-02T09:04:11.180Z"
   },
   {
    "duration": 1205,
    "start_time": "2023-02-02T09:04:36.948Z"
   },
   {
    "duration": 1286,
    "start_time": "2023-02-02T09:04:50.240Z"
   },
   {
    "duration": 1215,
    "start_time": "2023-02-02T09:04:57.882Z"
   },
   {
    "duration": 10,
    "start_time": "2023-02-02T09:05:08.561Z"
   },
   {
    "duration": 10,
    "start_time": "2023-02-02T09:05:30.088Z"
   },
   {
    "duration": 173,
    "start_time": "2023-02-02T09:05:44.109Z"
   },
   {
    "duration": 9,
    "start_time": "2023-02-02T09:06:02.035Z"
   },
   {
    "duration": 137,
    "start_time": "2023-02-02T09:06:32.432Z"
   },
   {
    "duration": 153,
    "start_time": "2023-02-02T09:07:19.992Z"
   },
   {
    "duration": 158,
    "start_time": "2023-02-02T09:07:23.979Z"
   },
   {
    "duration": 119,
    "start_time": "2023-02-02T09:07:27.600Z"
   },
   {
    "duration": 155,
    "start_time": "2023-02-02T09:07:29.908Z"
   },
   {
    "duration": 20,
    "start_time": "2023-02-02T09:09:48.260Z"
   },
   {
    "duration": 18,
    "start_time": "2023-02-02T09:09:51.959Z"
   },
   {
    "duration": 297,
    "start_time": "2023-02-02T09:10:13.465Z"
   },
   {
    "duration": 11,
    "start_time": "2023-02-02T09:10:40.561Z"
   },
   {
    "duration": 19,
    "start_time": "2023-02-02T09:10:55.910Z"
   },
   {
    "duration": 2183,
    "start_time": "2023-02-02T09:11:17.893Z"
   },
   {
    "duration": 2453,
    "start_time": "2023-02-02T09:11:23.238Z"
   },
   {
    "duration": 9,
    "start_time": "2023-02-02T09:15:36.243Z"
   },
   {
    "duration": 2422,
    "start_time": "2023-02-02T09:17:03.441Z"
   },
   {
    "duration": 14,
    "start_time": "2023-02-02T09:17:14.721Z"
   },
   {
    "duration": 7,
    "start_time": "2023-02-02T09:17:21.849Z"
   },
   {
    "duration": 7,
    "start_time": "2023-02-02T09:17:25.967Z"
   },
   {
    "duration": 279,
    "start_time": "2023-02-02T09:18:25.661Z"
   },
   {
    "duration": 441,
    "start_time": "2023-02-02T09:18:33.869Z"
   },
   {
    "duration": 325,
    "start_time": "2023-02-02T09:20:01.658Z"
   },
   {
    "duration": 151,
    "start_time": "2023-02-02T09:20:55.503Z"
   },
   {
    "duration": 143,
    "start_time": "2023-02-02T09:21:01.665Z"
   },
   {
    "duration": 12,
    "start_time": "2023-02-02T09:21:16.349Z"
   },
   {
    "duration": 12,
    "start_time": "2023-02-02T09:21:48.074Z"
   },
   {
    "duration": 11,
    "start_time": "2023-02-02T09:21:53.837Z"
   },
   {
    "duration": 12,
    "start_time": "2023-02-02T09:22:07.071Z"
   },
   {
    "duration": 11,
    "start_time": "2023-02-02T09:22:23.087Z"
   },
   {
    "duration": 11,
    "start_time": "2023-02-02T09:22:41.270Z"
   },
   {
    "duration": 300,
    "start_time": "2023-02-02T09:23:13.223Z"
   },
   {
    "duration": 383,
    "start_time": "2023-02-02T09:24:16.042Z"
   },
   {
    "duration": 14,
    "start_time": "2023-02-02T09:24:38.493Z"
   },
   {
    "duration": 13,
    "start_time": "2023-02-02T09:25:29.111Z"
   },
   {
    "duration": 238,
    "start_time": "2023-02-02T09:26:32.395Z"
   },
   {
    "duration": 12,
    "start_time": "2023-02-02T09:27:12.034Z"
   },
   {
    "duration": 232,
    "start_time": "2023-02-02T09:27:39.156Z"
   },
   {
    "duration": 227,
    "start_time": "2023-02-02T09:28:28.168Z"
   },
   {
    "duration": 15,
    "start_time": "2023-02-02T09:30:18.978Z"
   },
   {
    "duration": 15,
    "start_time": "2023-02-02T09:30:33.959Z"
   },
   {
    "duration": 15,
    "start_time": "2023-02-02T09:30:52.486Z"
   },
   {
    "duration": 1301,
    "start_time": "2023-02-02T09:31:00.616Z"
   },
   {
    "duration": 89,
    "start_time": "2023-02-02T09:31:01.919Z"
   },
   {
    "duration": 18,
    "start_time": "2023-02-02T09:31:02.010Z"
   },
   {
    "duration": 20,
    "start_time": "2023-02-02T09:31:02.031Z"
   },
   {
    "duration": 20,
    "start_time": "2023-02-02T09:31:02.054Z"
   },
   {
    "duration": 34,
    "start_time": "2023-02-02T09:31:02.076Z"
   },
   {
    "duration": 25,
    "start_time": "2023-02-02T09:31:02.112Z"
   },
   {
    "duration": 19,
    "start_time": "2023-02-02T09:31:02.139Z"
   },
   {
    "duration": 10,
    "start_time": "2023-02-02T09:31:02.160Z"
   },
   {
    "duration": 18,
    "start_time": "2023-02-02T09:31:02.173Z"
   },
   {
    "duration": 22,
    "start_time": "2023-02-02T09:31:02.192Z"
   },
   {
    "duration": 20,
    "start_time": "2023-02-02T09:31:02.217Z"
   },
   {
    "duration": 22,
    "start_time": "2023-02-02T09:31:02.239Z"
   },
   {
    "duration": 28,
    "start_time": "2023-02-02T09:31:02.263Z"
   },
   {
    "duration": 35,
    "start_time": "2023-02-02T09:31:02.292Z"
   },
   {
    "duration": 211,
    "start_time": "2023-02-02T09:31:02.330Z"
   },
   {
    "duration": 143,
    "start_time": "2023-02-02T09:31:02.543Z"
   },
   {
    "duration": 187,
    "start_time": "2023-02-02T09:31:02.688Z"
   },
   {
    "duration": 18,
    "start_time": "2023-02-02T09:31:02.877Z"
   },
   {
    "duration": 213,
    "start_time": "2023-02-02T09:31:02.897Z"
   },
   {
    "duration": 2425,
    "start_time": "2023-02-02T09:31:03.112Z"
   },
   {
    "duration": 10,
    "start_time": "2023-02-02T09:31:05.539Z"
   },
   {
    "duration": 314,
    "start_time": "2023-02-02T09:31:05.551Z"
   },
   {
    "duration": 318,
    "start_time": "2023-02-02T09:31:05.866Z"
   },
   {
    "duration": 146,
    "start_time": "2023-02-02T09:31:06.186Z"
   },
   {
    "duration": 10,
    "start_time": "2023-02-02T09:31:06.334Z"
   },
   {
    "duration": 12,
    "start_time": "2023-02-02T09:31:06.345Z"
   },
   {
    "duration": 11,
    "start_time": "2023-02-02T09:31:06.360Z"
   },
   {
    "duration": 14,
    "start_time": "2023-02-02T09:31:06.373Z"
   },
   {
    "duration": 38,
    "start_time": "2023-02-02T09:31:06.389Z"
   },
   {
    "duration": 285,
    "start_time": "2023-02-02T09:31:06.428Z"
   },
   {
    "duration": 366,
    "start_time": "2023-02-02T09:31:06.715Z"
   },
   {
    "duration": 14,
    "start_time": "2023-02-02T09:31:07.083Z"
   },
   {
    "duration": 235,
    "start_time": "2023-02-02T09:31:07.099Z"
   },
   {
    "duration": 239,
    "start_time": "2023-02-02T09:31:07.336Z"
   },
   {
    "duration": 375,
    "start_time": "2023-02-02T09:31:07.577Z"
   },
   {
    "duration": 12,
    "start_time": "2023-02-02T09:31:07.954Z"
   },
   {
    "duration": 14,
    "start_time": "2023-02-02T09:31:13.482Z"
   },
   {
    "duration": 12,
    "start_time": "2023-02-02T09:31:46.370Z"
   },
   {
    "duration": 11,
    "start_time": "2023-02-02T09:32:15.137Z"
   },
   {
    "duration": 8,
    "start_time": "2023-02-02T09:32:57.425Z"
   },
   {
    "duration": 27,
    "start_time": "2023-02-02T09:33:30.173Z"
   },
   {
    "duration": 10,
    "start_time": "2023-02-02T09:34:52.141Z"
   },
   {
    "duration": 6,
    "start_time": "2023-02-02T09:35:47.458Z"
   },
   {
    "duration": 10,
    "start_time": "2023-02-02T09:36:38.515Z"
   },
   {
    "duration": 6,
    "start_time": "2023-02-02T09:36:51.072Z"
   },
   {
    "duration": 1363,
    "start_time": "2023-02-03T12:19:23.526Z"
   },
   {
    "duration": 123,
    "start_time": "2023-02-03T12:19:24.892Z"
   },
   {
    "duration": 15,
    "start_time": "2023-02-03T12:19:25.017Z"
   },
   {
    "duration": 7,
    "start_time": "2023-02-03T12:19:25.034Z"
   },
   {
    "duration": 12,
    "start_time": "2023-02-03T12:19:25.042Z"
   },
   {
    "duration": 13,
    "start_time": "2023-02-03T12:19:25.055Z"
   },
   {
    "duration": 10,
    "start_time": "2023-02-03T12:19:25.069Z"
   },
   {
    "duration": 33,
    "start_time": "2023-02-03T12:19:25.081Z"
   },
   {
    "duration": 10,
    "start_time": "2023-02-03T12:19:25.116Z"
   },
   {
    "duration": 9,
    "start_time": "2023-02-03T12:19:25.129Z"
   },
   {
    "duration": 10,
    "start_time": "2023-02-03T12:19:25.140Z"
   },
   {
    "duration": 17,
    "start_time": "2023-02-03T12:19:25.152Z"
   },
   {
    "duration": 34,
    "start_time": "2023-02-03T12:19:25.171Z"
   },
   {
    "duration": 8,
    "start_time": "2023-02-03T12:19:25.208Z"
   },
   {
    "duration": 14,
    "start_time": "2023-02-03T12:19:25.218Z"
   },
   {
    "duration": 190,
    "start_time": "2023-02-03T12:19:25.234Z"
   },
   {
    "duration": 130,
    "start_time": "2023-02-03T12:19:25.426Z"
   },
   {
    "duration": 180,
    "start_time": "2023-02-03T12:19:25.558Z"
   },
   {
    "duration": 20,
    "start_time": "2023-02-03T12:19:25.740Z"
   },
   {
    "duration": 199,
    "start_time": "2023-02-03T12:19:25.762Z"
   },
   {
    "duration": 2215,
    "start_time": "2023-02-03T12:19:25.963Z"
   },
   {
    "duration": 7,
    "start_time": "2023-02-03T12:19:28.181Z"
   },
   {
    "duration": 291,
    "start_time": "2023-02-03T12:19:28.190Z"
   },
   {
    "duration": 316,
    "start_time": "2023-02-03T12:19:28.483Z"
   },
   {
    "duration": 148,
    "start_time": "2023-02-03T12:19:28.802Z"
   },
   {
    "duration": 10,
    "start_time": "2023-02-03T12:19:28.952Z"
   },
   {
    "duration": 11,
    "start_time": "2023-02-03T12:19:28.964Z"
   },
   {
    "duration": 38,
    "start_time": "2023-02-03T12:19:28.978Z"
   },
   {
    "duration": 10,
    "start_time": "2023-02-03T12:19:29.018Z"
   },
   {
    "duration": 12,
    "start_time": "2023-02-03T12:19:29.030Z"
   },
   {
    "duration": 285,
    "start_time": "2023-02-03T12:19:29.044Z"
   },
   {
    "duration": 355,
    "start_time": "2023-02-03T12:19:29.331Z"
   },
   {
    "duration": 33,
    "start_time": "2023-02-03T12:19:29.688Z"
   },
   {
    "duration": 219,
    "start_time": "2023-02-03T12:19:29.722Z"
   },
   {
    "duration": 225,
    "start_time": "2023-02-03T12:19:29.943Z"
   },
   {
    "duration": 376,
    "start_time": "2023-02-03T12:19:30.170Z"
   },
   {
    "duration": 12,
    "start_time": "2023-02-03T12:19:30.548Z"
   },
   {
    "duration": 26,
    "start_time": "2023-02-03T12:19:30.562Z"
   },
   {
    "duration": 41,
    "start_time": "2023-02-03T12:19:30.590Z"
   },
   {
    "duration": 62,
    "start_time": "2023-02-03T12:19:30.633Z"
   },
   {
    "duration": 82,
    "start_time": "2023-02-03T12:19:30.696Z"
   },
   {
    "duration": 40,
    "start_time": "2023-02-03T12:19:30.780Z"
   },
   {
    "duration": 57,
    "start_time": "2023-02-03T12:19:30.822Z"
   },
   {
    "duration": 62,
    "start_time": "2023-02-03T12:19:30.881Z"
   },
   {
    "duration": 79,
    "start_time": "2023-02-03T12:19:30.945Z"
   },
   {
    "duration": 9,
    "start_time": "2023-02-03T12:20:58.220Z"
   },
   {
    "duration": 1083,
    "start_time": "2023-02-03T12:21:35.974Z"
   },
   {
    "duration": 72,
    "start_time": "2023-02-03T12:21:37.059Z"
   },
   {
    "duration": 15,
    "start_time": "2023-02-03T12:21:37.133Z"
   },
   {
    "duration": 7,
    "start_time": "2023-02-03T12:21:37.150Z"
   },
   {
    "duration": 5,
    "start_time": "2023-02-03T12:21:37.158Z"
   },
   {
    "duration": 11,
    "start_time": "2023-02-03T12:21:37.164Z"
   },
   {
    "duration": 40,
    "start_time": "2023-02-03T12:21:37.176Z"
   },
   {
    "duration": 9,
    "start_time": "2023-02-03T12:21:37.220Z"
   },
   {
    "duration": 22,
    "start_time": "2023-02-03T12:21:37.231Z"
   },
   {
    "duration": 10,
    "start_time": "2023-02-03T12:21:37.256Z"
   },
   {
    "duration": 19,
    "start_time": "2023-02-03T12:21:37.268Z"
   },
   {
    "duration": 29,
    "start_time": "2023-02-03T12:21:37.289Z"
   },
   {
    "duration": 12,
    "start_time": "2023-02-03T12:21:37.320Z"
   },
   {
    "duration": 4,
    "start_time": "2023-02-03T12:21:37.334Z"
   },
   {
    "duration": 12,
    "start_time": "2023-02-03T12:21:37.339Z"
   },
   {
    "duration": 172,
    "start_time": "2023-02-03T12:21:37.353Z"
   },
   {
    "duration": 136,
    "start_time": "2023-02-03T12:21:37.527Z"
   },
   {
    "duration": 171,
    "start_time": "2023-02-03T12:21:37.665Z"
   },
   {
    "duration": 18,
    "start_time": "2023-02-03T12:21:37.837Z"
   },
   {
    "duration": 189,
    "start_time": "2023-02-03T12:21:37.857Z"
   },
   {
    "duration": 2125,
    "start_time": "2023-02-03T12:21:38.047Z"
   },
   {
    "duration": 8,
    "start_time": "2023-02-03T12:21:40.174Z"
   },
   {
    "duration": 280,
    "start_time": "2023-02-03T12:21:40.185Z"
   },
   {
    "duration": 306,
    "start_time": "2023-02-03T12:21:40.466Z"
   },
   {
    "duration": 149,
    "start_time": "2023-02-03T12:21:40.773Z"
   },
   {
    "duration": 11,
    "start_time": "2023-02-03T12:21:40.924Z"
   },
   {
    "duration": 13,
    "start_time": "2023-02-03T12:21:40.936Z"
   },
   {
    "duration": 10,
    "start_time": "2023-02-03T12:21:40.952Z"
   },
   {
    "duration": 10,
    "start_time": "2023-02-03T12:21:40.964Z"
   },
   {
    "duration": 28,
    "start_time": "2023-02-03T12:21:41.002Z"
   },
   {
    "duration": 287,
    "start_time": "2023-02-03T12:21:41.031Z"
   },
   {
    "duration": 352,
    "start_time": "2023-02-03T12:21:41.320Z"
   },
   {
    "duration": 17,
    "start_time": "2023-02-03T12:21:41.674Z"
   },
   {
    "duration": 222,
    "start_time": "2023-02-03T12:21:41.704Z"
   },
   {
    "duration": 227,
    "start_time": "2023-02-03T12:21:41.928Z"
   },
   {
    "duration": 328,
    "start_time": "2023-02-03T12:21:42.157Z"
   },
   {
    "duration": 29,
    "start_time": "2023-02-03T12:21:42.487Z"
   },
   {
    "duration": 10,
    "start_time": "2023-02-03T12:21:42.518Z"
   },
   {
    "duration": 11,
    "start_time": "2023-02-03T12:21:42.529Z"
   },
   {
    "duration": 9,
    "start_time": "2023-02-03T12:21:42.542Z"
   },
   {
    "duration": 16,
    "start_time": "2023-02-03T12:21:42.552Z"
   },
   {
    "duration": 9,
    "start_time": "2023-02-03T12:21:42.570Z"
   },
   {
    "duration": 30,
    "start_time": "2023-02-03T12:21:42.581Z"
   },
   {
    "duration": 16,
    "start_time": "2023-02-03T12:21:42.614Z"
   },
   {
    "duration": 6,
    "start_time": "2023-02-03T12:21:42.632Z"
   },
   {
    "duration": 3,
    "start_time": "2023-02-03T12:21:45.890Z"
   },
   {
    "duration": 62,
    "start_time": "2023-02-03T12:21:47.074Z"
   },
   {
    "duration": 13,
    "start_time": "2023-02-03T12:21:50.666Z"
   },
   {
    "duration": 8,
    "start_time": "2023-02-03T12:21:53.225Z"
   },
   {
    "duration": 3,
    "start_time": "2023-02-03T12:22:05.054Z"
   },
   {
    "duration": 9,
    "start_time": "2023-02-03T12:22:07.166Z"
   },
   {
    "duration": 7,
    "start_time": "2023-02-03T12:30:57.314Z"
   },
   {
    "duration": 1260,
    "start_time": "2023-02-03T13:24:45.639Z"
   },
   {
    "duration": 113,
    "start_time": "2023-02-03T13:24:46.901Z"
   },
   {
    "duration": 13,
    "start_time": "2023-02-03T13:24:47.016Z"
   },
   {
    "duration": 6,
    "start_time": "2023-02-03T13:24:47.031Z"
   },
   {
    "duration": 15,
    "start_time": "2023-02-03T13:24:47.038Z"
   },
   {
    "duration": 15,
    "start_time": "2023-02-03T13:24:47.054Z"
   },
   {
    "duration": 15,
    "start_time": "2023-02-03T13:24:47.070Z"
   },
   {
    "duration": 14,
    "start_time": "2023-02-03T13:24:47.087Z"
   },
   {
    "duration": 13,
    "start_time": "2023-02-03T13:24:47.103Z"
   },
   {
    "duration": 11,
    "start_time": "2023-02-03T13:24:47.118Z"
   },
   {
    "duration": 10,
    "start_time": "2023-02-03T13:24:47.131Z"
   },
   {
    "duration": 12,
    "start_time": "2023-02-03T13:24:47.144Z"
   },
   {
    "duration": 19,
    "start_time": "2023-02-03T13:24:47.158Z"
   },
   {
    "duration": 4,
    "start_time": "2023-02-03T13:24:47.179Z"
   },
   {
    "duration": 22,
    "start_time": "2023-02-03T13:24:47.184Z"
   },
   {
    "duration": 174,
    "start_time": "2023-02-03T13:24:47.208Z"
   },
   {
    "duration": 117,
    "start_time": "2023-02-03T13:24:47.383Z"
   },
   {
    "duration": 147,
    "start_time": "2023-02-03T13:24:47.502Z"
   },
   {
    "duration": 97,
    "start_time": "2023-02-03T13:24:47.651Z"
   },
   {
    "duration": 0,
    "start_time": "2023-02-03T13:24:47.750Z"
   },
   {
    "duration": 0,
    "start_time": "2023-02-03T13:24:47.751Z"
   },
   {
    "duration": 0,
    "start_time": "2023-02-03T13:24:47.752Z"
   },
   {
    "duration": 0,
    "start_time": "2023-02-03T13:24:47.753Z"
   },
   {
    "duration": 0,
    "start_time": "2023-02-03T13:24:47.754Z"
   },
   {
    "duration": 0,
    "start_time": "2023-02-03T13:24:47.755Z"
   },
   {
    "duration": 0,
    "start_time": "2023-02-03T13:24:47.756Z"
   },
   {
    "duration": 0,
    "start_time": "2023-02-03T13:24:47.757Z"
   },
   {
    "duration": 0,
    "start_time": "2023-02-03T13:24:47.758Z"
   },
   {
    "duration": 0,
    "start_time": "2023-02-03T13:24:47.760Z"
   },
   {
    "duration": 0,
    "start_time": "2023-02-03T13:24:47.761Z"
   },
   {
    "duration": 0,
    "start_time": "2023-02-03T13:24:47.762Z"
   },
   {
    "duration": 0,
    "start_time": "2023-02-03T13:24:47.763Z"
   },
   {
    "duration": 0,
    "start_time": "2023-02-03T13:24:47.764Z"
   },
   {
    "duration": 0,
    "start_time": "2023-02-03T13:24:47.765Z"
   },
   {
    "duration": 0,
    "start_time": "2023-02-03T13:24:47.766Z"
   },
   {
    "duration": 0,
    "start_time": "2023-02-03T13:24:47.767Z"
   },
   {
    "duration": 0,
    "start_time": "2023-02-03T13:24:47.798Z"
   },
   {
    "duration": 0,
    "start_time": "2023-02-03T13:24:47.800Z"
   },
   {
    "duration": 0,
    "start_time": "2023-02-03T13:24:47.801Z"
   },
   {
    "duration": 0,
    "start_time": "2023-02-03T13:24:47.802Z"
   },
   {
    "duration": 0,
    "start_time": "2023-02-03T13:24:47.803Z"
   },
   {
    "duration": 0,
    "start_time": "2023-02-03T13:24:47.804Z"
   },
   {
    "duration": 0,
    "start_time": "2023-02-03T13:24:47.805Z"
   },
   {
    "duration": 0,
    "start_time": "2023-02-03T13:24:47.807Z"
   },
   {
    "duration": 0,
    "start_time": "2023-02-03T13:24:47.807Z"
   },
   {
    "duration": 3,
    "start_time": "2023-02-03T13:24:53.014Z"
   },
   {
    "duration": 61,
    "start_time": "2023-02-03T13:24:54.162Z"
   },
   {
    "duration": 15,
    "start_time": "2023-02-03T13:24:57.114Z"
   },
   {
    "duration": 7,
    "start_time": "2023-02-03T13:25:00.290Z"
   },
   {
    "duration": 4,
    "start_time": "2023-02-03T13:25:02.307Z"
   },
   {
    "duration": 9,
    "start_time": "2023-02-03T13:25:02.963Z"
   },
   {
    "duration": 8,
    "start_time": "2023-02-03T13:25:09.604Z"
   },
   {
    "duration": 6,
    "start_time": "2023-02-03T13:25:14.288Z"
   },
   {
    "duration": 9,
    "start_time": "2023-02-03T13:25:19.538Z"
   },
   {
    "duration": 9,
    "start_time": "2023-02-03T13:25:22.646Z"
   },
   {
    "duration": 10,
    "start_time": "2023-02-03T13:25:24.030Z"
   },
   {
    "duration": 6,
    "start_time": "2023-02-03T13:25:27.340Z"
   },
   {
    "duration": 7,
    "start_time": "2023-02-03T13:25:30.002Z"
   },
   {
    "duration": 4,
    "start_time": "2023-02-03T13:25:37.506Z"
   },
   {
    "duration": 9,
    "start_time": "2023-02-03T13:25:38.250Z"
   },
   {
    "duration": 168,
    "start_time": "2023-02-03T13:25:39.627Z"
   },
   {
    "duration": 133,
    "start_time": "2023-02-03T13:25:43.254Z"
   },
   {
    "duration": 152,
    "start_time": "2023-02-03T13:25:44.249Z"
   },
   {
    "duration": 21,
    "start_time": "2023-02-03T13:26:12.393Z"
   },
   {
    "duration": 163,
    "start_time": "2023-02-03T13:26:25.509Z"
   },
   {
    "duration": 2074,
    "start_time": "2023-02-03T13:26:27.389Z"
   },
   {
    "duration": 8,
    "start_time": "2023-02-03T13:26:39.141Z"
   },
   {
    "duration": 46,
    "start_time": "2023-02-03T13:26:40.936Z"
   },
   {
    "duration": 45,
    "start_time": "2023-02-03T13:26:48.387Z"
   },
   {
    "duration": 43,
    "start_time": "2023-02-03T13:27:55.025Z"
   },
   {
    "duration": 54,
    "start_time": "2023-02-03T13:28:03.533Z"
   },
   {
    "duration": 53,
    "start_time": "2023-02-03T13:28:13.161Z"
   },
   {
    "duration": 274,
    "start_time": "2023-02-03T13:28:35.483Z"
   },
   {
    "duration": 294,
    "start_time": "2023-02-03T13:40:15.176Z"
   },
   {
    "duration": 10,
    "start_time": "2023-02-03T13:55:03.273Z"
   },
   {
    "duration": 11,
    "start_time": "2023-02-03T13:55:05.231Z"
   },
   {
    "duration": 1209,
    "start_time": "2023-02-03T14:38:15.495Z"
   },
   {
    "duration": 77,
    "start_time": "2023-02-03T14:38:16.707Z"
   },
   {
    "duration": 18,
    "start_time": "2023-02-03T14:38:16.785Z"
   },
   {
    "duration": 7,
    "start_time": "2023-02-03T14:38:16.805Z"
   },
   {
    "duration": 7,
    "start_time": "2023-02-03T14:38:16.814Z"
   },
   {
    "duration": 17,
    "start_time": "2023-02-03T14:38:16.823Z"
   },
   {
    "duration": 11,
    "start_time": "2023-02-03T14:38:16.842Z"
   },
   {
    "duration": 6,
    "start_time": "2023-02-03T14:38:16.855Z"
   },
   {
    "duration": 10,
    "start_time": "2023-02-03T14:38:16.862Z"
   },
   {
    "duration": 32,
    "start_time": "2023-02-03T14:38:16.875Z"
   },
   {
    "duration": 9,
    "start_time": "2023-02-03T14:38:16.910Z"
   },
   {
    "duration": 6,
    "start_time": "2023-02-03T14:38:16.921Z"
   },
   {
    "duration": 13,
    "start_time": "2023-02-03T14:38:16.929Z"
   },
   {
    "duration": 12,
    "start_time": "2023-02-03T14:38:16.943Z"
   },
   {
    "duration": 13,
    "start_time": "2023-02-03T14:38:16.957Z"
   },
   {
    "duration": 233,
    "start_time": "2023-02-03T14:38:16.972Z"
   },
   {
    "duration": 169,
    "start_time": "2023-02-03T14:38:17.207Z"
   },
   {
    "duration": 185,
    "start_time": "2023-02-03T14:38:17.378Z"
   },
   {
    "duration": 22,
    "start_time": "2023-02-03T14:38:17.565Z"
   },
   {
    "duration": 284,
    "start_time": "2023-02-03T14:38:17.600Z"
   },
   {
    "duration": 1905,
    "start_time": "2023-02-03T14:38:17.886Z"
   },
   {
    "duration": 11,
    "start_time": "2023-02-03T14:38:19.793Z"
   },
   {
    "duration": 263,
    "start_time": "2023-02-03T14:38:19.806Z"
   },
   {
    "duration": 281,
    "start_time": "2023-02-03T14:38:20.071Z"
   },
   {
    "duration": 134,
    "start_time": "2023-02-03T14:38:20.353Z"
   },
   {
    "duration": 17,
    "start_time": "2023-02-03T14:38:20.489Z"
   },
   {
    "duration": 59,
    "start_time": "2023-02-03T14:38:20.508Z"
   },
   {
    "duration": 39,
    "start_time": "2023-02-03T14:38:20.570Z"
   },
   {
    "duration": 49,
    "start_time": "2023-02-03T14:38:20.611Z"
   },
   {
    "duration": 18,
    "start_time": "2023-02-03T14:38:20.662Z"
   },
   {
    "duration": 262,
    "start_time": "2023-02-03T14:38:20.682Z"
   },
   {
    "duration": 374,
    "start_time": "2023-02-03T14:38:20.945Z"
   },
   {
    "duration": 16,
    "start_time": "2023-02-03T14:38:21.321Z"
   },
   {
    "duration": 222,
    "start_time": "2023-02-03T14:38:21.339Z"
   },
   {
    "duration": 229,
    "start_time": "2023-02-03T14:38:21.563Z"
   },
   {
    "duration": 197,
    "start_time": "2023-02-03T14:38:21.798Z"
   },
   {
    "duration": 10,
    "start_time": "2023-02-03T14:38:21.998Z"
   },
   {
    "duration": 9,
    "start_time": "2023-02-03T14:38:22.010Z"
   },
   {
    "duration": 12,
    "start_time": "2023-02-03T14:38:22.021Z"
   },
   {
    "duration": 8,
    "start_time": "2023-02-03T14:38:22.034Z"
   },
   {
    "duration": 19,
    "start_time": "2023-02-03T14:38:22.043Z"
   },
   {
    "duration": 35,
    "start_time": "2023-02-03T14:38:22.064Z"
   },
   {
    "duration": 5,
    "start_time": "2023-02-03T14:38:22.101Z"
   },
   {
    "duration": 21,
    "start_time": "2023-02-03T14:38:22.107Z"
   },
   {
    "duration": 20,
    "start_time": "2023-02-03T14:38:22.130Z"
   },
   {
    "duration": 4,
    "start_time": "2023-02-03T14:38:23.416Z"
   },
   {
    "duration": 66,
    "start_time": "2023-02-03T14:38:24.020Z"
   },
   {
    "duration": 19,
    "start_time": "2023-02-03T14:38:26.576Z"
   },
   {
    "duration": 7,
    "start_time": "2023-02-03T14:38:29.431Z"
   },
   {
    "duration": 3,
    "start_time": "2023-02-03T14:38:31.123Z"
   },
   {
    "duration": 9,
    "start_time": "2023-02-03T14:38:31.733Z"
   },
   {
    "duration": 7,
    "start_time": "2023-02-03T14:38:35.658Z"
   },
   {
    "duration": 6,
    "start_time": "2023-02-03T14:38:38.019Z"
   },
   {
    "duration": 10,
    "start_time": "2023-02-03T14:38:40.759Z"
   },
   {
    "duration": 10,
    "start_time": "2023-02-03T14:38:42.184Z"
   },
   {
    "duration": 10,
    "start_time": "2023-02-03T14:38:43.999Z"
   },
   {
    "duration": 5,
    "start_time": "2023-02-03T14:38:46.787Z"
   },
   {
    "duration": 7,
    "start_time": "2023-02-03T14:38:48.030Z"
   },
   {
    "duration": 5,
    "start_time": "2023-02-03T14:38:51.325Z"
   },
   {
    "duration": 9,
    "start_time": "2023-02-03T14:38:52.270Z"
   },
   {
    "duration": 279,
    "start_time": "2023-02-03T14:38:52.962Z"
   },
   {
    "duration": 148,
    "start_time": "2023-02-03T14:38:55.681Z"
   },
   {
    "duration": 152,
    "start_time": "2023-02-03T14:38:56.797Z"
   },
   {
    "duration": 21,
    "start_time": "2023-02-03T14:39:03.999Z"
   },
   {
    "duration": 164,
    "start_time": "2023-02-03T14:39:08.046Z"
   },
   {
    "duration": 1815,
    "start_time": "2023-02-03T14:39:11.009Z"
   },
   {
    "duration": 7,
    "start_time": "2023-02-03T14:39:19.715Z"
   },
   {
    "duration": 253,
    "start_time": "2023-02-03T14:39:22.010Z"
   },
   {
    "duration": 367,
    "start_time": "2023-02-03T14:39:28.918Z"
   },
   {
    "duration": 139,
    "start_time": "2023-02-03T14:39:40.168Z"
   },
   {
    "duration": 10,
    "start_time": "2023-02-03T14:39:45.638Z"
   },
   {
    "duration": 10,
    "start_time": "2023-02-03T14:39:49.748Z"
   },
   {
    "duration": 13,
    "start_time": "2023-02-03T14:39:50.346Z"
   },
   {
    "duration": 10,
    "start_time": "2023-02-03T14:39:53.163Z"
   },
   {
    "duration": 11,
    "start_time": "2023-02-03T14:39:54.461Z"
   },
   {
    "duration": 250,
    "start_time": "2023-02-03T14:39:57.758Z"
   },
   {
    "duration": 315,
    "start_time": "2023-02-03T14:40:04.679Z"
   },
   {
    "duration": 15,
    "start_time": "2023-02-03T14:40:08.140Z"
   },
   {
    "duration": 216,
    "start_time": "2023-02-03T14:40:30.425Z"
   },
   {
    "duration": 190,
    "start_time": "2023-02-03T14:40:36.417Z"
   },
   {
    "duration": 232,
    "start_time": "2023-02-03T14:40:39.807Z"
   },
   {
    "duration": 10,
    "start_time": "2023-02-03T14:40:44.501Z"
   },
   {
    "duration": 10,
    "start_time": "2023-02-03T14:40:48.045Z"
   },
   {
    "duration": 12,
    "start_time": "2023-02-03T14:40:48.935Z"
   },
   {
    "duration": 10,
    "start_time": "2023-02-03T14:41:29.062Z"
   },
   {
    "duration": 14,
    "start_time": "2023-02-03T14:41:30.114Z"
   },
   {
    "duration": 11,
    "start_time": "2023-02-03T14:41:30.667Z"
   },
   {
    "duration": 8,
    "start_time": "2023-02-03T14:41:44.575Z"
   },
   {
    "duration": 15,
    "start_time": "2023-02-03T14:41:46.626Z"
   },
   {
    "duration": 10,
    "start_time": "2023-02-03T14:41:50.943Z"
   },
   {
    "duration": 5,
    "start_time": "2023-02-03T14:41:54.986Z"
   },
   {
    "duration": 12,
    "start_time": "2023-02-03T14:42:01.569Z"
   },
   {
    "duration": 7,
    "start_time": "2023-02-03T14:42:01.652Z"
   },
   {
    "duration": 14,
    "start_time": "2023-02-03T14:43:11.987Z"
   },
   {
    "duration": 15,
    "start_time": "2023-02-03T14:43:18.921Z"
   },
   {
    "duration": 14,
    "start_time": "2023-02-03T14:43:24.178Z"
   },
   {
    "duration": 1085,
    "start_time": "2023-02-03T15:41:14.139Z"
   },
   {
    "duration": 65,
    "start_time": "2023-02-03T15:41:15.225Z"
   },
   {
    "duration": 14,
    "start_time": "2023-02-03T15:41:15.291Z"
   },
   {
    "duration": 5,
    "start_time": "2023-02-03T15:41:15.307Z"
   },
   {
    "duration": 17,
    "start_time": "2023-02-03T15:41:15.314Z"
   },
   {
    "duration": 16,
    "start_time": "2023-02-03T15:41:15.332Z"
   },
   {
    "duration": 6,
    "start_time": "2023-02-03T15:41:15.350Z"
   },
   {
    "duration": 5,
    "start_time": "2023-02-03T15:41:15.358Z"
   },
   {
    "duration": 7,
    "start_time": "2023-02-03T15:41:15.364Z"
   },
   {
    "duration": 25,
    "start_time": "2023-02-03T15:41:15.374Z"
   },
   {
    "duration": 7,
    "start_time": "2023-02-03T15:41:15.401Z"
   },
   {
    "duration": 12,
    "start_time": "2023-02-03T15:41:15.409Z"
   },
   {
    "duration": 10,
    "start_time": "2023-02-03T15:41:15.422Z"
   },
   {
    "duration": 10,
    "start_time": "2023-02-03T15:41:15.434Z"
   },
   {
    "duration": 8,
    "start_time": "2023-02-03T15:41:15.445Z"
   },
   {
    "duration": 166,
    "start_time": "2023-02-03T15:41:15.454Z"
   },
   {
    "duration": 118,
    "start_time": "2023-02-03T15:41:15.622Z"
   },
   {
    "duration": 139,
    "start_time": "2023-02-03T15:41:15.742Z"
   },
   {
    "duration": 26,
    "start_time": "2023-02-03T15:41:15.883Z"
   },
   {
    "duration": 191,
    "start_time": "2023-02-03T15:41:15.910Z"
   },
   {
    "duration": 1812,
    "start_time": "2023-02-03T15:41:16.103Z"
   },
   {
    "duration": 7,
    "start_time": "2023-02-03T15:41:17.916Z"
   },
   {
    "duration": 242,
    "start_time": "2023-02-03T15:41:17.924Z"
   },
   {
    "duration": 302,
    "start_time": "2023-02-03T15:41:18.168Z"
   },
   {
    "duration": 125,
    "start_time": "2023-02-03T15:41:18.472Z"
   },
   {
    "duration": 11,
    "start_time": "2023-02-03T15:41:18.598Z"
   },
   {
    "duration": 11,
    "start_time": "2023-02-03T15:41:18.610Z"
   },
   {
    "duration": 9,
    "start_time": "2023-02-03T15:41:18.624Z"
   },
   {
    "duration": 10,
    "start_time": "2023-02-03T15:41:18.634Z"
   },
   {
    "duration": 11,
    "start_time": "2023-02-03T15:41:18.645Z"
   },
   {
    "duration": 263,
    "start_time": "2023-02-03T15:41:18.658Z"
   },
   {
    "duration": 329,
    "start_time": "2023-02-03T15:41:18.922Z"
   },
   {
    "duration": 15,
    "start_time": "2023-02-03T15:41:19.252Z"
   },
   {
    "duration": 203,
    "start_time": "2023-02-03T15:41:19.269Z"
   },
   {
    "duration": 194,
    "start_time": "2023-02-03T15:41:19.474Z"
   },
   {
    "duration": 198,
    "start_time": "2023-02-03T15:41:19.670Z"
   },
   {
    "duration": 14,
    "start_time": "2023-02-03T15:41:19.870Z"
   },
   {
    "duration": 13,
    "start_time": "2023-02-03T15:41:19.894Z"
   },
   {
    "duration": 13,
    "start_time": "2023-02-03T15:41:19.908Z"
   },
   {
    "duration": 6,
    "start_time": "2023-02-03T15:41:19.922Z"
   },
   {
    "duration": 14,
    "start_time": "2023-02-03T15:41:19.930Z"
   },
   {
    "duration": 8,
    "start_time": "2023-02-03T15:41:19.946Z"
   },
   {
    "duration": 5,
    "start_time": "2023-02-03T15:41:19.955Z"
   },
   {
    "duration": 11,
    "start_time": "2023-02-03T15:41:19.994Z"
   },
   {
    "duration": 10,
    "start_time": "2023-02-03T15:41:20.006Z"
   },
   {
    "duration": 70,
    "start_time": "2023-02-03T16:00:58.551Z"
   },
   {
    "duration": 65,
    "start_time": "2023-02-04T15:16:41.374Z"
   },
   {
    "duration": 57,
    "start_time": "2023-02-04T15:23:53.284Z"
   },
   {
    "duration": 59,
    "start_time": "2023-02-04T15:24:10.469Z"
   },
   {
    "duration": 67,
    "start_time": "2023-02-04T15:32:27.846Z"
   },
   {
    "duration": 1513,
    "start_time": "2023-02-04T15:32:42.449Z"
   },
   {
    "duration": 158,
    "start_time": "2023-02-04T15:32:43.965Z"
   },
   {
    "duration": 23,
    "start_time": "2023-02-04T15:32:44.125Z"
   },
   {
    "duration": 10,
    "start_time": "2023-02-04T15:32:44.150Z"
   },
   {
    "duration": 6,
    "start_time": "2023-02-04T15:32:44.162Z"
   },
   {
    "duration": 27,
    "start_time": "2023-02-04T15:32:44.170Z"
   },
   {
    "duration": 15,
    "start_time": "2023-02-04T15:32:44.199Z"
   },
   {
    "duration": 6,
    "start_time": "2023-02-04T15:32:44.217Z"
   },
   {
    "duration": 18,
    "start_time": "2023-02-04T15:32:44.224Z"
   },
   {
    "duration": 12,
    "start_time": "2023-02-04T15:32:44.243Z"
   },
   {
    "duration": 8,
    "start_time": "2023-02-04T15:32:44.257Z"
   },
   {
    "duration": 8,
    "start_time": "2023-02-04T15:32:44.285Z"
   },
   {
    "duration": 27,
    "start_time": "2023-02-04T15:32:44.295Z"
   },
   {
    "duration": 17,
    "start_time": "2023-02-04T15:32:44.326Z"
   },
   {
    "duration": 5,
    "start_time": "2023-02-04T15:32:44.345Z"
   },
   {
    "duration": 36,
    "start_time": "2023-02-04T15:32:44.352Z"
   },
   {
    "duration": 211,
    "start_time": "2023-02-04T15:32:44.396Z"
   },
   {
    "duration": 163,
    "start_time": "2023-02-04T15:32:44.609Z"
   },
   {
    "duration": 185,
    "start_time": "2023-02-04T15:32:44.774Z"
   },
   {
    "duration": 39,
    "start_time": "2023-02-04T15:32:44.961Z"
   },
   {
    "duration": 236,
    "start_time": "2023-02-04T15:32:45.001Z"
   },
   {
    "duration": 2404,
    "start_time": "2023-02-04T15:32:45.239Z"
   },
   {
    "duration": 8,
    "start_time": "2023-02-04T15:32:47.645Z"
   },
   {
    "duration": 313,
    "start_time": "2023-02-04T15:32:47.656Z"
   },
   {
    "duration": 351,
    "start_time": "2023-02-04T15:32:47.970Z"
   },
   {
    "duration": 147,
    "start_time": "2023-02-04T15:32:48.323Z"
   },
   {
    "duration": 25,
    "start_time": "2023-02-04T15:32:48.472Z"
   },
   {
    "duration": 27,
    "start_time": "2023-02-04T15:32:48.499Z"
   },
   {
    "duration": 15,
    "start_time": "2023-02-04T15:32:48.528Z"
   },
   {
    "duration": 35,
    "start_time": "2023-02-04T15:32:48.545Z"
   },
   {
    "duration": 48,
    "start_time": "2023-02-04T15:32:48.582Z"
   },
   {
    "duration": 333,
    "start_time": "2023-02-04T15:32:48.632Z"
   },
   {
    "duration": 407,
    "start_time": "2023-02-04T15:32:48.967Z"
   },
   {
    "duration": 31,
    "start_time": "2023-02-04T15:32:49.375Z"
   },
   {
    "duration": 284,
    "start_time": "2023-02-04T15:32:49.408Z"
   },
   {
    "duration": 302,
    "start_time": "2023-02-04T15:32:49.693Z"
   },
   {
    "duration": 270,
    "start_time": "2023-02-04T15:32:50.004Z"
   },
   {
    "duration": 31,
    "start_time": "2023-02-04T15:32:50.276Z"
   },
   {
    "duration": 21,
    "start_time": "2023-02-04T15:32:50.309Z"
   },
   {
    "duration": 17,
    "start_time": "2023-02-04T15:32:50.332Z"
   },
   {
    "duration": 8,
    "start_time": "2023-02-04T15:32:50.352Z"
   },
   {
    "duration": 46,
    "start_time": "2023-02-04T15:32:50.362Z"
   },
   {
    "duration": 11,
    "start_time": "2023-02-04T15:32:50.410Z"
   },
   {
    "duration": 11,
    "start_time": "2023-02-04T15:32:50.423Z"
   },
   {
    "duration": 14,
    "start_time": "2023-02-04T15:32:50.436Z"
   },
   {
    "duration": 10,
    "start_time": "2023-02-04T15:32:50.452Z"
   },
   {
    "duration": 18,
    "start_time": "2023-02-04T15:33:10.646Z"
   },
   {
    "duration": 425,
    "start_time": "2023-02-04T15:39:52.242Z"
   },
   {
    "duration": 218,
    "start_time": "2023-02-04T15:41:04.981Z"
   },
   {
    "duration": 202,
    "start_time": "2023-02-04T15:41:56.678Z"
   },
   {
    "duration": 241,
    "start_time": "2023-02-04T15:42:08.659Z"
   },
   {
    "duration": 194,
    "start_time": "2023-02-04T15:42:25.069Z"
   },
   {
    "duration": 190,
    "start_time": "2023-02-04T15:45:15.068Z"
   },
   {
    "duration": 190,
    "start_time": "2023-02-04T15:45:49.938Z"
   },
   {
    "duration": 10,
    "start_time": "2023-02-04T15:46:21.198Z"
   },
   {
    "duration": 9,
    "start_time": "2023-02-04T15:48:57.449Z"
   },
   {
    "duration": 13,
    "start_time": "2023-02-04T15:49:02.098Z"
   },
   {
    "duration": 10,
    "start_time": "2023-02-04T15:50:36.105Z"
   },
   {
    "duration": 12,
    "start_time": "2023-02-04T15:50:55.199Z"
   },
   {
    "duration": 11,
    "start_time": "2023-02-04T15:51:17.101Z"
   },
   {
    "duration": 11,
    "start_time": "2023-02-04T15:51:30.902Z"
   },
   {
    "duration": 17,
    "start_time": "2023-02-04T15:51:35.903Z"
   },
   {
    "duration": 15,
    "start_time": "2023-02-04T15:51:54.545Z"
   },
   {
    "duration": 11,
    "start_time": "2023-02-04T15:53:06.969Z"
   },
   {
    "duration": 189,
    "start_time": "2023-02-04T15:53:12.137Z"
   },
   {
    "duration": 200,
    "start_time": "2023-02-04T15:53:24.278Z"
   },
   {
    "duration": 149,
    "start_time": "2023-02-04T15:53:52.141Z"
   },
   {
    "duration": 195,
    "start_time": "2023-02-04T15:54:06.483Z"
   },
   {
    "duration": 428,
    "start_time": "2023-02-04T15:55:13.083Z"
   },
   {
    "duration": 324,
    "start_time": "2023-02-04T15:55:25.375Z"
   },
   {
    "duration": 197,
    "start_time": "2023-02-04T15:55:34.081Z"
   },
   {
    "duration": 8,
    "start_time": "2023-02-04T15:57:27.646Z"
   },
   {
    "duration": 7,
    "start_time": "2023-02-04T15:57:35.861Z"
   },
   {
    "duration": 7,
    "start_time": "2023-02-04T15:57:38.303Z"
   },
   {
    "duration": 257,
    "start_time": "2023-02-04T15:57:40.044Z"
   },
   {
    "duration": 256,
    "start_time": "2023-02-04T15:59:48.542Z"
   },
   {
    "duration": 65,
    "start_time": "2023-02-04T16:18:20.471Z"
   },
   {
    "duration": 51,
    "start_time": "2023-02-04T16:18:27.244Z"
   },
   {
    "duration": 59,
    "start_time": "2023-02-04T16:18:34.685Z"
   },
   {
    "duration": 57,
    "start_time": "2023-02-04T16:18:57.884Z"
   },
   {
    "duration": 13,
    "start_time": "2023-02-04T16:19:37.113Z"
   },
   {
    "duration": 1246,
    "start_time": "2023-02-04T16:19:57.027Z"
   },
   {
    "duration": 83,
    "start_time": "2023-02-04T16:19:58.275Z"
   },
   {
    "duration": 15,
    "start_time": "2023-02-04T16:19:58.360Z"
   },
   {
    "duration": 77,
    "start_time": "2023-02-04T16:19:58.377Z"
   },
   {
    "duration": 39,
    "start_time": "2023-02-04T16:19:58.457Z"
   },
   {
    "duration": 19,
    "start_time": "2023-02-04T16:19:58.498Z"
   },
   {
    "duration": 13,
    "start_time": "2023-02-04T16:19:58.519Z"
   },
   {
    "duration": 8,
    "start_time": "2023-02-04T16:19:58.534Z"
   },
   {
    "duration": 14,
    "start_time": "2023-02-04T16:19:58.544Z"
   },
   {
    "duration": 23,
    "start_time": "2023-02-04T16:19:58.560Z"
   },
   {
    "duration": 11,
    "start_time": "2023-02-04T16:19:58.593Z"
   },
   {
    "duration": 10,
    "start_time": "2023-02-04T16:19:58.605Z"
   },
   {
    "duration": 17,
    "start_time": "2023-02-04T16:19:58.616Z"
   },
   {
    "duration": 30,
    "start_time": "2023-02-04T16:19:58.637Z"
   },
   {
    "duration": 31,
    "start_time": "2023-02-04T16:19:58.669Z"
   },
   {
    "duration": 13,
    "start_time": "2023-02-04T16:19:58.703Z"
   },
   {
    "duration": 201,
    "start_time": "2023-02-04T16:19:58.718Z"
   },
   {
    "duration": 153,
    "start_time": "2023-02-04T16:19:58.921Z"
   },
   {
    "duration": 188,
    "start_time": "2023-02-04T16:19:59.076Z"
   },
   {
    "duration": 37,
    "start_time": "2023-02-04T16:19:59.266Z"
   },
   {
    "duration": 203,
    "start_time": "2023-02-04T16:19:59.305Z"
   },
   {
    "duration": 2349,
    "start_time": "2023-02-04T16:19:59.510Z"
   },
   {
    "duration": 7,
    "start_time": "2023-02-04T16:20:01.861Z"
   },
   {
    "duration": 333,
    "start_time": "2023-02-04T16:20:01.870Z"
   },
   {
    "duration": 259,
    "start_time": "2023-02-04T16:20:02.205Z"
   },
   {
    "duration": 172,
    "start_time": "2023-02-04T16:20:02.466Z"
   },
   {
    "duration": 11,
    "start_time": "2023-02-04T16:20:02.640Z"
   },
   {
    "duration": 166,
    "start_time": "2023-02-04T16:20:02.652Z"
   },
   {
    "duration": 0,
    "start_time": "2023-02-04T16:20:02.820Z"
   },
   {
    "duration": 0,
    "start_time": "2023-02-04T16:20:02.822Z"
   },
   {
    "duration": 0,
    "start_time": "2023-02-04T16:20:02.823Z"
   },
   {
    "duration": 0,
    "start_time": "2023-02-04T16:20:02.824Z"
   },
   {
    "duration": 0,
    "start_time": "2023-02-04T16:20:02.826Z"
   },
   {
    "duration": 0,
    "start_time": "2023-02-04T16:20:02.827Z"
   },
   {
    "duration": 0,
    "start_time": "2023-02-04T16:20:02.828Z"
   },
   {
    "duration": 0,
    "start_time": "2023-02-04T16:20:02.829Z"
   },
   {
    "duration": 0,
    "start_time": "2023-02-04T16:20:02.830Z"
   },
   {
    "duration": 0,
    "start_time": "2023-02-04T16:20:02.831Z"
   },
   {
    "duration": 0,
    "start_time": "2023-02-04T16:20:02.832Z"
   },
   {
    "duration": 0,
    "start_time": "2023-02-04T16:20:02.833Z"
   },
   {
    "duration": 0,
    "start_time": "2023-02-04T16:20:02.834Z"
   },
   {
    "duration": 0,
    "start_time": "2023-02-04T16:20:02.835Z"
   },
   {
    "duration": 1,
    "start_time": "2023-02-04T16:20:02.836Z"
   },
   {
    "duration": 0,
    "start_time": "2023-02-04T16:20:02.838Z"
   },
   {
    "duration": 0,
    "start_time": "2023-02-04T16:20:02.839Z"
   },
   {
    "duration": 0,
    "start_time": "2023-02-04T16:20:02.841Z"
   },
   {
    "duration": 0,
    "start_time": "2023-02-04T16:20:02.842Z"
   },
   {
    "duration": 10,
    "start_time": "2023-02-04T16:20:48.965Z"
   },
   {
    "duration": 11,
    "start_time": "2023-02-04T16:22:40.150Z"
   },
   {
    "duration": 10,
    "start_time": "2023-02-04T16:26:16.964Z"
   },
   {
    "duration": 1821,
    "start_time": "2023-02-04T16:26:30.046Z"
   },
   {
    "duration": 16,
    "start_time": "2023-02-04T16:31:49.861Z"
   },
   {
    "duration": 1894,
    "start_time": "2023-02-04T16:32:11.624Z"
   },
   {
    "duration": 14,
    "start_time": "2023-02-04T16:32:28.647Z"
   },
   {
    "duration": 13,
    "start_time": "2023-02-04T16:32:45.123Z"
   },
   {
    "duration": 2031,
    "start_time": "2023-02-04T16:32:59.561Z"
   },
   {
    "duration": 52,
    "start_time": "2023-02-04T16:34:24.642Z"
   },
   {
    "duration": 551,
    "start_time": "2023-02-04T16:36:25.665Z"
   },
   {
    "duration": 2114,
    "start_time": "2023-02-04T16:37:01.640Z"
   },
   {
    "duration": 1482,
    "start_time": "2023-02-04T16:38:29.635Z"
   },
   {
    "duration": 697,
    "start_time": "2023-02-04T16:40:09.138Z"
   },
   {
    "duration": 556,
    "start_time": "2023-02-04T16:40:21.553Z"
   },
   {
    "duration": 539,
    "start_time": "2023-02-04T16:40:27.979Z"
   },
   {
    "duration": 521,
    "start_time": "2023-02-04T16:40:33.627Z"
   },
   {
    "duration": 549,
    "start_time": "2023-02-04T16:40:48.046Z"
   },
   {
    "duration": 667,
    "start_time": "2023-02-04T16:40:54.217Z"
   },
   {
    "duration": 1532,
    "start_time": "2023-02-04T16:40:59.489Z"
   },
   {
    "duration": 18,
    "start_time": "2023-02-04T16:48:29.274Z"
   },
   {
    "duration": 10,
    "start_time": "2023-02-04T16:49:08.238Z"
   },
   {
    "duration": 383,
    "start_time": "2023-02-04T16:49:30.185Z"
   },
   {
    "duration": 10,
    "start_time": "2023-02-04T16:50:40.168Z"
   },
   {
    "duration": 22,
    "start_time": "2023-02-04T16:51:02.018Z"
   },
   {
    "duration": 16,
    "start_time": "2023-02-04T16:52:24.829Z"
   },
   {
    "duration": 23,
    "start_time": "2023-02-04T16:53:48.814Z"
   },
   {
    "duration": 362,
    "start_time": "2023-02-04T16:54:28.162Z"
   },
   {
    "duration": 244,
    "start_time": "2023-02-04T16:54:37.759Z"
   },
   {
    "duration": 248,
    "start_time": "2023-02-04T16:54:42.414Z"
   },
   {
    "duration": 312,
    "start_time": "2023-02-04T17:00:45.550Z"
   },
   {
    "duration": 278,
    "start_time": "2023-02-04T17:01:00.282Z"
   },
   {
    "duration": 259,
    "start_time": "2023-02-04T17:01:12.948Z"
   },
   {
    "duration": 373,
    "start_time": "2023-02-04T17:01:32.152Z"
   },
   {
    "duration": 256,
    "start_time": "2023-02-04T17:01:39.073Z"
   },
   {
    "duration": 17,
    "start_time": "2023-02-04T17:02:13.141Z"
   },
   {
    "duration": 27,
    "start_time": "2023-02-04T17:02:44.672Z"
   },
   {
    "duration": 189,
    "start_time": "2023-02-04T17:03:36.420Z"
   },
   {
    "duration": 1357,
    "start_time": "2023-02-04T17:04:29.569Z"
   },
   {
    "duration": 77,
    "start_time": "2023-02-04T17:04:30.929Z"
   },
   {
    "duration": 16,
    "start_time": "2023-02-04T17:04:31.008Z"
   },
   {
    "duration": 83,
    "start_time": "2023-02-04T17:04:31.027Z"
   },
   {
    "duration": 35,
    "start_time": "2023-02-04T17:04:31.112Z"
   },
   {
    "duration": 52,
    "start_time": "2023-02-04T17:04:31.149Z"
   },
   {
    "duration": 48,
    "start_time": "2023-02-04T17:04:31.203Z"
   },
   {
    "duration": 109,
    "start_time": "2023-02-04T17:04:31.253Z"
   },
   {
    "duration": 74,
    "start_time": "2023-02-04T17:04:31.363Z"
   },
   {
    "duration": 60,
    "start_time": "2023-02-04T17:04:31.440Z"
   },
   {
    "duration": 40,
    "start_time": "2023-02-04T17:04:31.502Z"
   },
   {
    "duration": 27,
    "start_time": "2023-02-04T17:04:31.544Z"
   },
   {
    "duration": 56,
    "start_time": "2023-02-04T17:04:31.573Z"
   },
   {
    "duration": 21,
    "start_time": "2023-02-04T17:04:31.631Z"
   },
   {
    "duration": 18,
    "start_time": "2023-02-04T17:04:31.654Z"
   },
   {
    "duration": 24,
    "start_time": "2023-02-04T17:04:31.674Z"
   },
   {
    "duration": 208,
    "start_time": "2023-02-04T17:04:31.700Z"
   },
   {
    "duration": 160,
    "start_time": "2023-02-04T17:04:31.910Z"
   },
   {
    "duration": 203,
    "start_time": "2023-02-04T17:04:32.072Z"
   },
   {
    "duration": 26,
    "start_time": "2023-02-04T17:04:32.277Z"
   },
   {
    "duration": 211,
    "start_time": "2023-02-04T17:04:32.306Z"
   },
   {
    "duration": 2208,
    "start_time": "2023-02-04T17:04:32.518Z"
   },
   {
    "duration": 7,
    "start_time": "2023-02-04T17:04:34.727Z"
   },
   {
    "duration": 285,
    "start_time": "2023-02-04T17:04:34.736Z"
   },
   {
    "duration": 279,
    "start_time": "2023-02-04T17:04:35.024Z"
   },
   {
    "duration": 1775,
    "start_time": "2023-02-04T17:04:35.306Z"
   },
   {
    "duration": 27,
    "start_time": "2023-02-04T17:04:37.082Z"
   },
   {
    "duration": 1428,
    "start_time": "2023-02-04T17:04:37.113Z"
   },
   {
    "duration": 21,
    "start_time": "2023-02-04T17:04:38.543Z"
   },
   {
    "duration": 267,
    "start_time": "2023-02-04T17:04:38.565Z"
   },
   {
    "duration": 268,
    "start_time": "2023-02-04T17:04:38.834Z"
   },
   {
    "duration": 249,
    "start_time": "2023-02-04T17:04:39.104Z"
   },
   {
    "duration": 278,
    "start_time": "2023-02-04T17:04:39.355Z"
   },
   {
    "duration": 20,
    "start_time": "2023-02-04T17:04:39.637Z"
   },
   {
    "duration": 404,
    "start_time": "2023-02-04T17:04:39.659Z"
   },
   {
    "duration": 0,
    "start_time": "2023-02-04T17:04:40.066Z"
   },
   {
    "duration": 0,
    "start_time": "2023-02-04T17:04:40.068Z"
   },
   {
    "duration": 0,
    "start_time": "2023-02-04T17:04:40.069Z"
   },
   {
    "duration": 0,
    "start_time": "2023-02-04T17:04:40.071Z"
   },
   {
    "duration": 0,
    "start_time": "2023-02-04T17:04:40.085Z"
   },
   {
    "duration": 0,
    "start_time": "2023-02-04T17:04:40.086Z"
   },
   {
    "duration": 0,
    "start_time": "2023-02-04T17:04:40.087Z"
   },
   {
    "duration": 0,
    "start_time": "2023-02-04T17:04:40.090Z"
   },
   {
    "duration": 234,
    "start_time": "2023-02-04T17:06:19.982Z"
   },
   {
    "duration": 243,
    "start_time": "2023-02-04T17:06:45.567Z"
   },
   {
    "duration": 1375,
    "start_time": "2023-02-04T17:08:11.157Z"
   },
   {
    "duration": 80,
    "start_time": "2023-02-04T17:08:12.534Z"
   },
   {
    "duration": 23,
    "start_time": "2023-02-04T17:08:12.616Z"
   },
   {
    "duration": 8,
    "start_time": "2023-02-04T17:08:12.641Z"
   },
   {
    "duration": 11,
    "start_time": "2023-02-04T17:08:12.651Z"
   },
   {
    "duration": 34,
    "start_time": "2023-02-04T17:08:12.665Z"
   },
   {
    "duration": 22,
    "start_time": "2023-02-04T17:08:12.701Z"
   },
   {
    "duration": 10,
    "start_time": "2023-02-04T17:08:12.725Z"
   },
   {
    "duration": 18,
    "start_time": "2023-02-04T17:08:12.737Z"
   },
   {
    "duration": 15,
    "start_time": "2023-02-04T17:08:12.758Z"
   },
   {
    "duration": 25,
    "start_time": "2023-02-04T17:08:12.775Z"
   },
   {
    "duration": 15,
    "start_time": "2023-02-04T17:08:12.802Z"
   },
   {
    "duration": 15,
    "start_time": "2023-02-04T17:08:12.819Z"
   },
   {
    "duration": 35,
    "start_time": "2023-02-04T17:08:12.838Z"
   },
   {
    "duration": 5,
    "start_time": "2023-02-04T17:08:12.875Z"
   },
   {
    "duration": 27,
    "start_time": "2023-02-04T17:08:12.885Z"
   },
   {
    "duration": 201,
    "start_time": "2023-02-04T17:08:12.914Z"
   },
   {
    "duration": 162,
    "start_time": "2023-02-04T17:08:13.118Z"
   },
   {
    "duration": 228,
    "start_time": "2023-02-04T17:08:13.282Z"
   },
   {
    "duration": 22,
    "start_time": "2023-02-04T17:08:13.512Z"
   },
   {
    "duration": 251,
    "start_time": "2023-02-04T17:08:13.536Z"
   },
   {
    "duration": 2341,
    "start_time": "2023-02-04T17:08:13.795Z"
   },
   {
    "duration": 8,
    "start_time": "2023-02-04T17:08:16.138Z"
   },
   {
    "duration": 303,
    "start_time": "2023-02-04T17:08:16.148Z"
   },
   {
    "duration": 279,
    "start_time": "2023-02-04T17:08:16.453Z"
   },
   {
    "duration": 1925,
    "start_time": "2023-02-04T17:08:16.734Z"
   },
   {
    "duration": 28,
    "start_time": "2023-02-04T17:08:18.662Z"
   },
   {
    "duration": 1549,
    "start_time": "2023-02-04T17:08:18.692Z"
   },
   {
    "duration": 18,
    "start_time": "2023-02-04T17:08:20.242Z"
   },
   {
    "duration": 283,
    "start_time": "2023-02-04T17:08:20.262Z"
   },
   {
    "duration": 258,
    "start_time": "2023-02-04T17:08:20.547Z"
   },
   {
    "duration": 296,
    "start_time": "2023-02-04T17:08:20.808Z"
   },
   {
    "duration": 264,
    "start_time": "2023-02-04T17:08:21.109Z"
   },
   {
    "duration": 32,
    "start_time": "2023-02-04T17:08:21.375Z"
   },
   {
    "duration": 308,
    "start_time": "2023-02-04T17:08:21.409Z"
   },
   {
    "duration": 0,
    "start_time": "2023-02-04T17:08:21.720Z"
   },
   {
    "duration": 0,
    "start_time": "2023-02-04T17:08:21.722Z"
   },
   {
    "duration": 0,
    "start_time": "2023-02-04T17:08:21.724Z"
   },
   {
    "duration": 0,
    "start_time": "2023-02-04T17:08:21.725Z"
   },
   {
    "duration": 0,
    "start_time": "2023-02-04T17:08:21.726Z"
   },
   {
    "duration": 0,
    "start_time": "2023-02-04T17:08:21.727Z"
   },
   {
    "duration": 0,
    "start_time": "2023-02-04T17:08:21.728Z"
   },
   {
    "duration": 0,
    "start_time": "2023-02-04T17:08:21.729Z"
   },
   {
    "duration": 0,
    "start_time": "2023-02-04T17:08:21.731Z"
   },
   {
    "duration": 0,
    "start_time": "2023-02-04T17:08:21.732Z"
   },
   {
    "duration": 62,
    "start_time": "2023-02-04T17:08:24.216Z"
   },
   {
    "duration": 23,
    "start_time": "2023-02-04T17:08:29.021Z"
   },
   {
    "duration": 11,
    "start_time": "2023-02-04T17:08:32.798Z"
   },
   {
    "duration": 5,
    "start_time": "2023-02-04T17:08:37.120Z"
   },
   {
    "duration": 11,
    "start_time": "2023-02-04T17:08:38.168Z"
   },
   {
    "duration": 9,
    "start_time": "2023-02-04T17:08:43.345Z"
   },
   {
    "duration": 7,
    "start_time": "2023-02-04T17:08:44.664Z"
   },
   {
    "duration": 12,
    "start_time": "2023-02-04T17:08:47.433Z"
   },
   {
    "duration": 15,
    "start_time": "2023-02-04T17:08:50.987Z"
   },
   {
    "duration": 11,
    "start_time": "2023-02-04T17:08:53.525Z"
   },
   {
    "duration": 6,
    "start_time": "2023-02-04T17:08:54.528Z"
   },
   {
    "duration": 11,
    "start_time": "2023-02-04T17:08:55.728Z"
   },
   {
    "duration": 20,
    "start_time": "2023-02-04T17:09:04.376Z"
   },
   {
    "duration": 6,
    "start_time": "2023-02-04T17:09:06.028Z"
   },
   {
    "duration": 10,
    "start_time": "2023-02-04T17:09:06.744Z"
   },
   {
    "duration": 216,
    "start_time": "2023-02-04T17:09:10.236Z"
   },
   {
    "duration": 180,
    "start_time": "2023-02-04T17:09:14.437Z"
   },
   {
    "duration": 249,
    "start_time": "2023-02-04T17:09:17.518Z"
   },
   {
    "duration": 26,
    "start_time": "2023-02-04T17:09:26.085Z"
   },
   {
    "duration": 230,
    "start_time": "2023-02-04T17:09:48.520Z"
   },
   {
    "duration": 2528,
    "start_time": "2023-02-04T17:09:51.417Z"
   },
   {
    "duration": 8,
    "start_time": "2023-02-04T17:09:59.646Z"
   },
   {
    "duration": 319,
    "start_time": "2023-02-04T17:10:03.070Z"
   },
   {
    "duration": 298,
    "start_time": "2023-02-04T17:10:05.399Z"
   },
   {
    "duration": 2042,
    "start_time": "2023-02-04T17:10:15.538Z"
   },
   {
    "duration": 14,
    "start_time": "2023-02-04T17:10:17.828Z"
   },
   {
    "duration": 1523,
    "start_time": "2023-02-04T17:10:24.233Z"
   },
   {
    "duration": 21,
    "start_time": "2023-02-04T17:10:30.193Z"
   },
   {
    "duration": 253,
    "start_time": "2023-02-04T17:10:34.065Z"
   },
   {
    "duration": 251,
    "start_time": "2023-02-04T17:10:41.676Z"
   },
   {
    "duration": 242,
    "start_time": "2023-02-04T17:10:47.264Z"
   },
   {
    "duration": 239,
    "start_time": "2023-02-04T17:10:51.032Z"
   },
   {
    "duration": 18,
    "start_time": "2023-02-04T17:10:58.044Z"
   },
   {
    "duration": 400,
    "start_time": "2023-02-04T17:10:59.673Z"
   },
   {
    "duration": 62,
    "start_time": "2023-02-04T17:16:16.778Z"
   },
   {
    "duration": 58,
    "start_time": "2023-02-04T17:16:26.964Z"
   },
   {
    "duration": 6,
    "start_time": "2023-02-04T17:19:13.259Z"
   },
   {
    "duration": 321,
    "start_time": "2023-02-04T17:19:13.999Z"
   },
   {
    "duration": 278,
    "start_time": "2023-02-04T17:19:18.354Z"
   },
   {
    "duration": 1846,
    "start_time": "2023-02-04T17:19:24.029Z"
   },
   {
    "duration": 20,
    "start_time": "2023-02-04T17:19:33.398Z"
   },
   {
    "duration": 1514,
    "start_time": "2023-02-04T17:19:42.060Z"
   },
   {
    "duration": 19,
    "start_time": "2023-02-04T17:19:53.396Z"
   },
   {
    "duration": 246,
    "start_time": "2023-02-04T17:19:58.671Z"
   },
   {
    "duration": 269,
    "start_time": "2023-02-04T17:20:30.059Z"
   },
   {
    "duration": 232,
    "start_time": "2023-02-04T17:20:34.620Z"
   },
   {
    "duration": 229,
    "start_time": "2023-02-04T17:20:38.427Z"
   },
   {
    "duration": 17,
    "start_time": "2023-02-04T17:20:49.148Z"
   },
   {
    "duration": 176,
    "start_time": "2023-02-04T17:20:51.660Z"
   },
   {
    "duration": 19,
    "start_time": "2023-02-04T17:21:42.179Z"
   },
   {
    "duration": 15,
    "start_time": "2023-02-04T17:21:43.368Z"
   },
   {
    "duration": 144,
    "start_time": "2023-02-04T17:22:46.102Z"
   },
   {
    "duration": 303,
    "start_time": "2023-02-04T17:23:00.827Z"
   },
   {
    "duration": 963,
    "start_time": "2023-02-04T17:24:12.972Z"
   },
   {
    "duration": 264,
    "start_time": "2023-02-04T17:25:02.236Z"
   },
   {
    "duration": 389,
    "start_time": "2023-02-04T17:25:53.572Z"
   },
   {
    "duration": 276,
    "start_time": "2023-02-04T17:26:44.938Z"
   },
   {
    "duration": 254,
    "start_time": "2023-02-04T17:27:39.162Z"
   },
   {
    "duration": 246,
    "start_time": "2023-02-04T17:28:24.228Z"
   },
   {
    "duration": 22,
    "start_time": "2023-02-04T17:28:29.875Z"
   },
   {
    "duration": 4,
    "start_time": "2023-02-04T17:29:21.357Z"
   },
   {
    "duration": 255,
    "start_time": "2023-02-04T17:29:30.294Z"
   },
   {
    "duration": 265,
    "start_time": "2023-02-04T17:29:52.636Z"
   },
   {
    "duration": 52,
    "start_time": "2023-02-04T17:30:43.499Z"
   },
   {
    "duration": 256,
    "start_time": "2023-02-04T17:31:48.453Z"
   },
   {
    "duration": 261,
    "start_time": "2023-02-04T17:31:58.740Z"
   },
   {
    "duration": 257,
    "start_time": "2023-02-04T17:32:26.641Z"
   },
   {
    "duration": 8,
    "start_time": "2023-02-04T17:44:46.257Z"
   },
   {
    "duration": 19,
    "start_time": "2023-02-04T17:44:48.477Z"
   },
   {
    "duration": 4,
    "start_time": "2023-02-04T17:46:48.537Z"
   },
   {
    "duration": 5,
    "start_time": "2023-02-04T17:46:52.860Z"
   },
   {
    "duration": 11,
    "start_time": "2023-02-04T17:47:08.478Z"
   },
   {
    "duration": 411,
    "start_time": "2023-02-04T17:47:16.884Z"
   },
   {
    "duration": 408,
    "start_time": "2023-02-04T17:47:40.456Z"
   },
   {
    "duration": 5,
    "start_time": "2023-02-04T17:48:19.359Z"
   },
   {
    "duration": 4,
    "start_time": "2023-02-04T17:48:27.956Z"
   },
   {
    "duration": 5,
    "start_time": "2023-02-04T17:48:30.257Z"
   },
   {
    "duration": 5,
    "start_time": "2023-02-04T17:48:32.278Z"
   },
   {
    "duration": 1232,
    "start_time": "2023-02-04T17:48:49.453Z"
   },
   {
    "duration": 101,
    "start_time": "2023-02-04T17:48:50.698Z"
   },
   {
    "duration": 17,
    "start_time": "2023-02-04T17:48:50.804Z"
   },
   {
    "duration": 8,
    "start_time": "2023-02-04T17:48:50.822Z"
   },
   {
    "duration": 8,
    "start_time": "2023-02-04T17:48:50.832Z"
   },
   {
    "duration": 15,
    "start_time": "2023-02-04T17:48:50.842Z"
   },
   {
    "duration": 27,
    "start_time": "2023-02-04T17:48:50.859Z"
   },
   {
    "duration": 7,
    "start_time": "2023-02-04T17:48:50.889Z"
   },
   {
    "duration": 15,
    "start_time": "2023-02-04T17:48:50.897Z"
   },
   {
    "duration": 22,
    "start_time": "2023-02-04T17:48:50.914Z"
   },
   {
    "duration": 23,
    "start_time": "2023-02-04T17:48:50.938Z"
   },
   {
    "duration": 9,
    "start_time": "2023-02-04T17:48:50.963Z"
   },
   {
    "duration": 30,
    "start_time": "2023-02-04T17:48:50.974Z"
   },
   {
    "duration": 17,
    "start_time": "2023-02-04T17:48:51.009Z"
   },
   {
    "duration": 5,
    "start_time": "2023-02-04T17:48:51.028Z"
   },
   {
    "duration": 11,
    "start_time": "2023-02-04T17:48:51.034Z"
   },
   {
    "duration": 225,
    "start_time": "2023-02-04T17:48:51.047Z"
   },
   {
    "duration": 156,
    "start_time": "2023-02-04T17:48:51.274Z"
   },
   {
    "duration": 182,
    "start_time": "2023-02-04T17:48:51.432Z"
   },
   {
    "duration": 19,
    "start_time": "2023-02-04T17:48:51.616Z"
   },
   {
    "duration": 203,
    "start_time": "2023-02-04T17:48:51.637Z"
   },
   {
    "duration": 2191,
    "start_time": "2023-02-04T17:48:51.842Z"
   },
   {
    "duration": 6,
    "start_time": "2023-02-04T17:48:54.035Z"
   },
   {
    "duration": 272,
    "start_time": "2023-02-04T17:48:54.043Z"
   },
   {
    "duration": 264,
    "start_time": "2023-02-04T17:48:54.317Z"
   },
   {
    "duration": 1763,
    "start_time": "2023-02-04T17:48:54.584Z"
   },
   {
    "duration": 15,
    "start_time": "2023-02-04T17:48:56.348Z"
   },
   {
    "duration": 1436,
    "start_time": "2023-02-04T17:48:56.365Z"
   },
   {
    "duration": 17,
    "start_time": "2023-02-04T17:48:57.803Z"
   },
   {
    "duration": 256,
    "start_time": "2023-02-04T17:48:57.822Z"
   },
   {
    "duration": 240,
    "start_time": "2023-02-04T17:48:58.084Z"
   },
   {
    "duration": 246,
    "start_time": "2023-02-04T17:48:58.326Z"
   },
   {
    "duration": 247,
    "start_time": "2023-02-04T17:48:58.574Z"
   },
   {
    "duration": 15,
    "start_time": "2023-02-04T17:48:58.824Z"
   },
   {
    "duration": 22,
    "start_time": "2023-02-04T17:48:58.841Z"
   },
   {
    "duration": 34,
    "start_time": "2023-02-04T17:48:58.865Z"
   },
   {
    "duration": 316,
    "start_time": "2023-02-04T17:48:58.901Z"
   },
   {
    "duration": 5,
    "start_time": "2023-02-04T17:48:59.219Z"
   },
   {
    "duration": 579,
    "start_time": "2023-02-04T17:48:59.226Z"
   },
   {
    "duration": 10,
    "start_time": "2023-02-04T17:48:59.807Z"
   },
   {
    "duration": 36,
    "start_time": "2023-02-04T17:48:59.822Z"
   },
   {
    "duration": 13,
    "start_time": "2023-02-04T17:48:59.860Z"
   },
   {
    "duration": 57,
    "start_time": "2023-02-04T17:48:59.875Z"
   },
   {
    "duration": 12,
    "start_time": "2023-02-04T17:48:59.935Z"
   },
   {
    "duration": 8,
    "start_time": "2023-02-04T17:48:59.948Z"
   },
   {
    "duration": 7,
    "start_time": "2023-02-04T17:54:29.958Z"
   },
   {
    "duration": 5,
    "start_time": "2023-02-04T17:54:41.236Z"
   },
   {
    "duration": 1299,
    "start_time": "2023-02-04T17:54:54.265Z"
   },
   {
    "duration": 85,
    "start_time": "2023-02-04T17:54:55.566Z"
   },
   {
    "duration": 15,
    "start_time": "2023-02-04T17:54:55.653Z"
   },
   {
    "duration": 6,
    "start_time": "2023-02-04T17:54:55.670Z"
   },
   {
    "duration": 10,
    "start_time": "2023-02-04T17:54:55.678Z"
   },
   {
    "duration": 23,
    "start_time": "2023-02-04T17:54:55.693Z"
   },
   {
    "duration": 10,
    "start_time": "2023-02-04T17:54:55.718Z"
   },
   {
    "duration": 6,
    "start_time": "2023-02-04T17:54:55.730Z"
   },
   {
    "duration": 11,
    "start_time": "2023-02-04T17:54:55.738Z"
   },
   {
    "duration": 23,
    "start_time": "2023-02-04T17:54:55.751Z"
   },
   {
    "duration": 10,
    "start_time": "2023-02-04T17:54:55.776Z"
   },
   {
    "duration": 18,
    "start_time": "2023-02-04T17:54:55.788Z"
   },
   {
    "duration": 12,
    "start_time": "2023-02-04T17:54:55.808Z"
   },
   {
    "duration": 14,
    "start_time": "2023-02-04T17:54:55.822Z"
   },
   {
    "duration": 4,
    "start_time": "2023-02-04T17:54:55.837Z"
   },
   {
    "duration": 10,
    "start_time": "2023-02-04T17:54:55.844Z"
   },
   {
    "duration": 222,
    "start_time": "2023-02-04T17:54:55.856Z"
   },
   {
    "duration": 151,
    "start_time": "2023-02-04T17:54:56.080Z"
   },
   {
    "duration": 187,
    "start_time": "2023-02-04T17:54:56.232Z"
   },
   {
    "duration": 20,
    "start_time": "2023-02-04T17:54:56.421Z"
   },
   {
    "duration": 218,
    "start_time": "2023-02-04T17:54:56.443Z"
   },
   {
    "duration": 2121,
    "start_time": "2023-02-04T17:54:56.663Z"
   },
   {
    "duration": 15,
    "start_time": "2023-02-04T17:54:58.785Z"
   },
   {
    "duration": 297,
    "start_time": "2023-02-04T17:54:58.802Z"
   },
   {
    "duration": 256,
    "start_time": "2023-02-04T17:54:59.102Z"
   },
   {
    "duration": 1838,
    "start_time": "2023-02-04T17:54:59.361Z"
   },
   {
    "duration": 16,
    "start_time": "2023-02-04T17:55:01.201Z"
   },
   {
    "duration": 1462,
    "start_time": "2023-02-04T17:55:01.221Z"
   },
   {
    "duration": 21,
    "start_time": "2023-02-04T17:55:02.689Z"
   },
   {
    "duration": 250,
    "start_time": "2023-02-04T17:55:02.712Z"
   },
   {
    "duration": 241,
    "start_time": "2023-02-04T17:55:02.963Z"
   },
   {
    "duration": 256,
    "start_time": "2023-02-04T17:55:03.205Z"
   },
   {
    "duration": 252,
    "start_time": "2023-02-04T17:55:03.463Z"
   },
   {
    "duration": 15,
    "start_time": "2023-02-04T17:55:03.717Z"
   },
   {
    "duration": 17,
    "start_time": "2023-02-04T17:55:03.733Z"
   },
   {
    "duration": 38,
    "start_time": "2023-02-04T17:55:03.751Z"
   },
   {
    "duration": 289,
    "start_time": "2023-02-04T17:55:03.792Z"
   },
   {
    "duration": 11,
    "start_time": "2023-02-04T17:55:04.088Z"
   },
   {
    "duration": 511,
    "start_time": "2023-02-04T17:55:04.101Z"
   },
   {
    "duration": 9,
    "start_time": "2023-02-04T17:55:04.614Z"
   },
   {
    "duration": 30,
    "start_time": "2023-02-04T17:55:04.626Z"
   },
   {
    "duration": 29,
    "start_time": "2023-02-04T17:55:04.658Z"
   },
   {
    "duration": 12,
    "start_time": "2023-02-04T17:55:04.689Z"
   },
   {
    "duration": 27,
    "start_time": "2023-02-04T17:55:04.703Z"
   },
   {
    "duration": 9,
    "start_time": "2023-02-04T17:55:04.732Z"
   },
   {
    "duration": 4,
    "start_time": "2023-02-04T17:56:40.357Z"
   },
   {
    "duration": 6,
    "start_time": "2023-02-04T17:56:44.658Z"
   },
   {
    "duration": 522,
    "start_time": "2023-02-04T17:56:47.722Z"
   },
   {
    "duration": 7,
    "start_time": "2023-02-04T17:57:21.353Z"
   },
   {
    "duration": 5,
    "start_time": "2023-02-04T17:57:24.077Z"
   },
   {
    "duration": 594,
    "start_time": "2023-02-04T17:57:24.835Z"
   },
   {
    "duration": 511,
    "start_time": "2023-02-04T17:57:35.636Z"
   },
   {
    "duration": 466,
    "start_time": "2023-02-04T18:02:29.298Z"
   },
   {
    "duration": 21,
    "start_time": "2023-02-04T18:03:52.475Z"
   },
   {
    "duration": 24,
    "start_time": "2023-02-04T18:04:26.874Z"
   },
   {
    "duration": 15,
    "start_time": "2023-02-04T18:04:45.457Z"
   },
   {
    "duration": 113,
    "start_time": "2023-02-04T18:06:10.270Z"
   },
   {
    "duration": 11,
    "start_time": "2023-02-04T18:06:33.599Z"
   },
   {
    "duration": 484,
    "start_time": "2023-02-04T18:06:52.133Z"
   },
   {
    "duration": 7,
    "start_time": "2023-02-04T18:07:40.357Z"
   },
   {
    "duration": 7,
    "start_time": "2023-02-04T18:07:43.515Z"
   },
   {
    "duration": 575,
    "start_time": "2023-02-04T18:07:44.253Z"
   },
   {
    "duration": 5,
    "start_time": "2023-02-04T18:08:08.349Z"
   },
   {
    "duration": 10,
    "start_time": "2023-02-04T18:08:11.510Z"
   },
   {
    "duration": 634,
    "start_time": "2023-02-04T18:08:13.677Z"
   },
   {
    "duration": 68,
    "start_time": "2023-02-04T18:08:21.353Z"
   },
   {
    "duration": 475,
    "start_time": "2023-02-04T18:08:22.361Z"
   },
   {
    "duration": 16,
    "start_time": "2023-02-04T18:08:25.731Z"
   },
   {
    "duration": 16,
    "start_time": "2023-02-04T18:08:26.659Z"
   },
   {
    "duration": 16,
    "start_time": "2023-02-04T18:08:27.430Z"
   },
   {
    "duration": 21,
    "start_time": "2023-02-04T18:08:30.213Z"
   },
   {
    "duration": 19,
    "start_time": "2023-02-04T18:08:32.193Z"
   },
   {
    "duration": 534,
    "start_time": "2023-02-04T18:08:32.808Z"
   },
   {
    "duration": 12,
    "start_time": "2023-02-04T18:14:16.074Z"
   },
   {
    "duration": 8,
    "start_time": "2023-02-04T18:15:16.989Z"
   },
   {
    "duration": 11,
    "start_time": "2023-02-04T18:15:29.532Z"
   },
   {
    "duration": 6,
    "start_time": "2023-02-04T18:15:34.013Z"
   },
   {
    "duration": 1298,
    "start_time": "2023-02-04T18:18:57.764Z"
   },
   {
    "duration": 87,
    "start_time": "2023-02-04T18:18:59.064Z"
   },
   {
    "duration": 22,
    "start_time": "2023-02-04T18:18:59.153Z"
   },
   {
    "duration": 20,
    "start_time": "2023-02-04T18:18:59.185Z"
   },
   {
    "duration": 18,
    "start_time": "2023-02-04T18:18:59.210Z"
   },
   {
    "duration": 28,
    "start_time": "2023-02-04T18:18:59.230Z"
   },
   {
    "duration": 10,
    "start_time": "2023-02-04T18:18:59.260Z"
   },
   {
    "duration": 13,
    "start_time": "2023-02-04T18:18:59.272Z"
   },
   {
    "duration": 31,
    "start_time": "2023-02-04T18:18:59.287Z"
   },
   {
    "duration": 31,
    "start_time": "2023-02-04T18:18:59.322Z"
   },
   {
    "duration": 13,
    "start_time": "2023-02-04T18:18:59.355Z"
   },
   {
    "duration": 21,
    "start_time": "2023-02-04T18:18:59.370Z"
   },
   {
    "duration": 38,
    "start_time": "2023-02-04T18:18:59.393Z"
   },
   {
    "duration": 18,
    "start_time": "2023-02-04T18:18:59.432Z"
   },
   {
    "duration": 4,
    "start_time": "2023-02-04T18:18:59.452Z"
   },
   {
    "duration": 32,
    "start_time": "2023-02-04T18:18:59.458Z"
   },
   {
    "duration": 285,
    "start_time": "2023-02-04T18:18:59.492Z"
   },
   {
    "duration": 191,
    "start_time": "2023-02-04T18:18:59.780Z"
   },
   {
    "duration": 263,
    "start_time": "2023-02-04T18:18:59.974Z"
   },
   {
    "duration": 21,
    "start_time": "2023-02-04T18:19:00.239Z"
   },
   {
    "duration": 235,
    "start_time": "2023-02-04T18:19:00.262Z"
   },
   {
    "duration": 2677,
    "start_time": "2023-02-04T18:19:00.501Z"
   },
   {
    "duration": 11,
    "start_time": "2023-02-04T18:19:03.185Z"
   },
   {
    "duration": 372,
    "start_time": "2023-02-04T18:19:03.199Z"
   },
   {
    "duration": 372,
    "start_time": "2023-02-04T18:19:03.573Z"
   },
   {
    "duration": 1896,
    "start_time": "2023-02-04T18:19:03.947Z"
   },
   {
    "duration": 16,
    "start_time": "2023-02-04T18:19:05.845Z"
   },
   {
    "duration": 1574,
    "start_time": "2023-02-04T18:19:05.883Z"
   },
   {
    "duration": 26,
    "start_time": "2023-02-04T18:19:07.460Z"
   },
   {
    "duration": 364,
    "start_time": "2023-02-04T18:19:07.487Z"
   },
   {
    "duration": 284,
    "start_time": "2023-02-04T18:19:07.853Z"
   },
   {
    "duration": 284,
    "start_time": "2023-02-04T18:19:08.139Z"
   },
   {
    "duration": 299,
    "start_time": "2023-02-04T18:19:08.425Z"
   },
   {
    "duration": 16,
    "start_time": "2023-02-04T18:19:08.726Z"
   },
   {
    "duration": 368,
    "start_time": "2023-02-04T18:19:08.744Z"
   },
   {
    "duration": 16,
    "start_time": "2023-02-04T18:19:09.117Z"
   },
   {
    "duration": 656,
    "start_time": "2023-02-04T18:19:09.135Z"
   },
   {
    "duration": 109,
    "start_time": "2023-02-04T18:19:09.795Z"
   },
   {
    "duration": 0,
    "start_time": "2023-02-04T18:19:09.908Z"
   },
   {
    "duration": 0,
    "start_time": "2023-02-04T18:19:09.910Z"
   },
   {
    "duration": 0,
    "start_time": "2023-02-04T18:19:09.913Z"
   },
   {
    "duration": 0,
    "start_time": "2023-02-04T18:19:09.915Z"
   },
   {
    "duration": 0,
    "start_time": "2023-02-04T18:19:09.916Z"
   },
   {
    "duration": 0,
    "start_time": "2023-02-04T18:19:09.921Z"
   },
   {
    "duration": 0,
    "start_time": "2023-02-04T18:19:09.922Z"
   },
   {
    "duration": 0,
    "start_time": "2023-02-04T18:19:09.923Z"
   },
   {
    "duration": 0,
    "start_time": "2023-02-04T18:19:09.925Z"
   },
   {
    "duration": 0,
    "start_time": "2023-02-04T18:19:09.926Z"
   },
   {
    "duration": 0,
    "start_time": "2023-02-04T18:19:09.927Z"
   },
   {
    "duration": 0,
    "start_time": "2023-02-04T18:19:09.930Z"
   },
   {
    "duration": 102,
    "start_time": "2023-02-04T18:19:09.952Z"
   },
   {
    "duration": 24,
    "start_time": "2023-02-04T18:19:11.309Z"
   },
   {
    "duration": 11,
    "start_time": "2023-02-04T18:19:13.777Z"
   },
   {
    "duration": 5,
    "start_time": "2023-02-04T18:19:15.473Z"
   },
   {
    "duration": 11,
    "start_time": "2023-02-04T18:19:16.847Z"
   },
   {
    "duration": 9,
    "start_time": "2023-02-04T18:19:19.905Z"
   },
   {
    "duration": 7,
    "start_time": "2023-02-04T18:19:20.875Z"
   },
   {
    "duration": 12,
    "start_time": "2023-02-04T18:19:23.477Z"
   },
   {
    "duration": 12,
    "start_time": "2023-02-04T18:19:24.803Z"
   },
   {
    "duration": 12,
    "start_time": "2023-02-04T18:19:25.656Z"
   },
   {
    "duration": 7,
    "start_time": "2023-02-04T18:19:27.466Z"
   },
   {
    "duration": 22,
    "start_time": "2023-02-04T18:19:28.402Z"
   },
   {
    "duration": 23,
    "start_time": "2023-02-04T18:20:07.006Z"
   },
   {
    "duration": 5,
    "start_time": "2023-02-04T18:20:07.978Z"
   },
   {
    "duration": 8,
    "start_time": "2023-02-04T18:20:08.748Z"
   },
   {
    "duration": 234,
    "start_time": "2023-02-04T18:20:10.309Z"
   },
   {
    "duration": 202,
    "start_time": "2023-02-04T18:20:12.256Z"
   },
   {
    "duration": 364,
    "start_time": "2023-02-04T18:20:13.560Z"
   },
   {
    "duration": 27,
    "start_time": "2023-02-04T18:20:27.468Z"
   },
   {
    "duration": 263,
    "start_time": "2023-02-04T18:20:30.595Z"
   },
   {
    "duration": 2758,
    "start_time": "2023-02-04T18:20:31.507Z"
   },
   {
    "duration": 8,
    "start_time": "2023-02-04T18:20:37.813Z"
   },
   {
    "duration": 353,
    "start_time": "2023-02-04T18:20:39.100Z"
   },
   {
    "duration": 305,
    "start_time": "2023-02-04T18:20:44.786Z"
   },
   {
    "duration": 2382,
    "start_time": "2023-02-04T18:20:57.673Z"
   },
   {
    "duration": 16,
    "start_time": "2023-02-04T18:21:03.649Z"
   },
   {
    "duration": 1474,
    "start_time": "2023-02-04T18:21:07.642Z"
   },
   {
    "duration": 40,
    "start_time": "2023-02-04T18:21:10.875Z"
   },
   {
    "duration": 263,
    "start_time": "2023-02-04T18:21:16.891Z"
   },
   {
    "duration": 274,
    "start_time": "2023-02-04T18:21:22.947Z"
   },
   {
    "duration": 406,
    "start_time": "2023-02-04T18:21:28.203Z"
   },
   {
    "duration": 270,
    "start_time": "2023-02-04T18:21:31.479Z"
   },
   {
    "duration": 16,
    "start_time": "2023-02-04T18:21:43.260Z"
   },
   {
    "duration": 320,
    "start_time": "2023-02-04T18:22:03.746Z"
   },
   {
    "duration": 5,
    "start_time": "2023-02-04T18:22:08.677Z"
   },
   {
    "duration": 493,
    "start_time": "2023-02-04T18:22:12.647Z"
   },
   {
    "duration": 495,
    "start_time": "2023-02-04T18:22:25.475Z"
   },
   {
    "duration": 15,
    "start_time": "2023-02-04T18:22:33.548Z"
   },
   {
    "duration": 21,
    "start_time": "2023-02-04T18:22:37.194Z"
   },
   {
    "duration": 17,
    "start_time": "2023-02-04T18:22:40.656Z"
   },
   {
    "duration": 16,
    "start_time": "2023-02-04T18:22:57.162Z"
   },
   {
    "duration": 24,
    "start_time": "2023-02-04T18:23:01.091Z"
   },
   {
    "duration": 11,
    "start_time": "2023-02-04T18:23:02.550Z"
   },
   {
    "duration": 502,
    "start_time": "2023-02-04T18:23:07.200Z"
   },
   {
    "duration": 12,
    "start_time": "2023-02-04T18:23:15.651Z"
   },
   {
    "duration": 14,
    "start_time": "2023-02-04T18:23:22.089Z"
   },
   {
    "duration": 9,
    "start_time": "2023-02-04T18:23:24.963Z"
   },
   {
    "duration": 5,
    "start_time": "2023-02-04T18:23:25.842Z"
   },
   {
    "duration": 11,
    "start_time": "2023-02-04T18:25:04.176Z"
   },
   {
    "duration": 6,
    "start_time": "2023-02-04T18:25:06.846Z"
   },
   {
    "duration": 8,
    "start_time": "2023-02-04T18:25:32.768Z"
   },
   {
    "duration": 5,
    "start_time": "2023-02-04T18:25:35.259Z"
   },
   {
    "duration": 12,
    "start_time": "2023-02-04T18:25:51.297Z"
   },
   {
    "duration": 6,
    "start_time": "2023-02-04T18:25:52.757Z"
   },
   {
    "duration": 4,
    "start_time": "2023-02-04T18:41:32.062Z"
   },
   {
    "duration": 67,
    "start_time": "2023-02-04T18:41:32.767Z"
   },
   {
    "duration": 18,
    "start_time": "2023-02-04T18:41:33.661Z"
   },
   {
    "duration": 30,
    "start_time": "2023-02-04T18:41:36.982Z"
   },
   {
    "duration": 4,
    "start_time": "2023-02-04T18:41:40.098Z"
   },
   {
    "duration": 14,
    "start_time": "2023-02-04T18:41:41.188Z"
   },
   {
    "duration": 10,
    "start_time": "2023-02-04T18:41:43.610Z"
   },
   {
    "duration": 6,
    "start_time": "2023-02-04T18:41:44.449Z"
   },
   {
    "duration": 9,
    "start_time": "2023-02-04T18:41:46.860Z"
   },
   {
    "duration": 16,
    "start_time": "2023-02-04T18:41:48.287Z"
   },
   {
    "duration": 11,
    "start_time": "2023-02-04T18:41:50.753Z"
   },
   {
    "duration": 9,
    "start_time": "2023-02-04T18:41:51.199Z"
   },
   {
    "duration": 8,
    "start_time": "2023-02-04T18:41:51.764Z"
   },
   {
    "duration": 16,
    "start_time": "2023-02-04T18:41:58.548Z"
   },
   {
    "duration": 4,
    "start_time": "2023-02-04T18:41:58.944Z"
   },
   {
    "duration": 8,
    "start_time": "2023-02-04T18:41:59.548Z"
   },
   {
    "duration": 234,
    "start_time": "2023-02-04T18:42:00.048Z"
   },
   {
    "duration": 183,
    "start_time": "2023-02-04T18:42:02.645Z"
   },
   {
    "duration": 344,
    "start_time": "2023-02-04T18:42:03.159Z"
   },
   {
    "duration": 20,
    "start_time": "2023-02-04T18:42:08.805Z"
   },
   {
    "duration": 221,
    "start_time": "2023-02-04T18:42:10.002Z"
   },
   {
    "duration": 2431,
    "start_time": "2023-02-04T18:42:12.644Z"
   },
   {
    "duration": 7,
    "start_time": "2023-02-04T18:42:22.363Z"
   },
   {
    "duration": 313,
    "start_time": "2023-02-04T18:42:22.844Z"
   },
   {
    "duration": 272,
    "start_time": "2023-02-04T18:42:27.400Z"
   },
   {
    "duration": 1984,
    "start_time": "2023-02-04T18:42:32.409Z"
   },
   {
    "duration": 13,
    "start_time": "2023-02-04T18:42:34.398Z"
   },
   {
    "duration": 1405,
    "start_time": "2023-02-04T18:42:41.263Z"
   },
   {
    "duration": 26,
    "start_time": "2023-02-04T18:42:44.775Z"
   },
   {
    "duration": 275,
    "start_time": "2023-02-04T18:42:47.456Z"
   },
   {
    "duration": 282,
    "start_time": "2023-02-04T18:42:49.856Z"
   },
   {
    "duration": 362,
    "start_time": "2023-02-04T18:42:52.743Z"
   },
   {
    "duration": 244,
    "start_time": "2023-02-04T18:42:56.874Z"
   },
   {
    "duration": 317,
    "start_time": "2023-02-04T18:43:00.887Z"
   },
   {
    "duration": 6,
    "start_time": "2023-02-04T18:43:04.460Z"
   },
   {
    "duration": 480,
    "start_time": "2023-02-04T18:43:05.374Z"
   },
   {
    "duration": 510,
    "start_time": "2023-02-04T18:43:08.139Z"
   },
   {
    "duration": 18,
    "start_time": "2023-02-04T18:43:08.743Z"
   },
   {
    "duration": 22,
    "start_time": "2023-02-04T18:43:11.070Z"
   },
   {
    "duration": 15,
    "start_time": "2023-02-04T18:43:12.708Z"
   },
   {
    "duration": 23,
    "start_time": "2023-02-04T18:43:15.870Z"
   },
   {
    "duration": 10,
    "start_time": "2023-02-04T18:43:18.632Z"
   },
   {
    "duration": 506,
    "start_time": "2023-02-04T18:43:19.309Z"
   },
   {
    "duration": 10,
    "start_time": "2023-02-04T18:43:27.548Z"
   },
   {
    "duration": 7,
    "start_time": "2023-02-04T18:43:29.640Z"
   },
   {
    "duration": 10,
    "start_time": "2023-02-04T18:43:45.377Z"
   },
   {
    "duration": 5,
    "start_time": "2023-02-04T18:43:47.269Z"
   },
   {
    "duration": 1336,
    "start_time": "2023-02-05T14:41:37.413Z"
   },
   {
    "duration": 523,
    "start_time": "2023-02-05T14:41:38.751Z"
   },
   {
    "duration": 13,
    "start_time": "2023-02-05T14:41:39.275Z"
   },
   {
    "duration": 8,
    "start_time": "2023-02-05T14:41:39.290Z"
   },
   {
    "duration": 7,
    "start_time": "2023-02-05T14:41:39.299Z"
   },
   {
    "duration": 11,
    "start_time": "2023-02-05T14:41:39.308Z"
   },
   {
    "duration": 8,
    "start_time": "2023-02-05T14:41:39.320Z"
   },
   {
    "duration": 15,
    "start_time": "2023-02-05T14:41:39.329Z"
   },
   {
    "duration": 11,
    "start_time": "2023-02-05T14:41:39.346Z"
   },
   {
    "duration": 15,
    "start_time": "2023-02-05T14:41:39.359Z"
   },
   {
    "duration": 7,
    "start_time": "2023-02-05T14:41:39.375Z"
   },
   {
    "duration": 9,
    "start_time": "2023-02-05T14:41:39.383Z"
   },
   {
    "duration": 8,
    "start_time": "2023-02-05T14:41:39.394Z"
   },
   {
    "duration": 13,
    "start_time": "2023-02-05T14:41:39.403Z"
   },
   {
    "duration": 7,
    "start_time": "2023-02-05T14:41:39.427Z"
   },
   {
    "duration": 18,
    "start_time": "2023-02-05T14:41:39.436Z"
   },
   {
    "duration": 167,
    "start_time": "2023-02-05T14:41:39.455Z"
   },
   {
    "duration": 150,
    "start_time": "2023-02-05T14:41:39.623Z"
   },
   {
    "duration": 143,
    "start_time": "2023-02-05T14:41:39.775Z"
   },
   {
    "duration": 28,
    "start_time": "2023-02-05T14:41:39.919Z"
   },
   {
    "duration": 167,
    "start_time": "2023-02-05T14:41:39.948Z"
   },
   {
    "duration": 1850,
    "start_time": "2023-02-05T14:41:40.117Z"
   },
   {
    "duration": 7,
    "start_time": "2023-02-05T14:41:41.969Z"
   },
   {
    "duration": 238,
    "start_time": "2023-02-05T14:41:41.977Z"
   },
   {
    "duration": 225,
    "start_time": "2023-02-05T14:41:42.216Z"
   },
   {
    "duration": 1533,
    "start_time": "2023-02-05T14:41:42.443Z"
   },
   {
    "duration": 12,
    "start_time": "2023-02-05T14:41:43.978Z"
   },
   {
    "duration": 1153,
    "start_time": "2023-02-05T14:41:43.993Z"
   },
   {
    "duration": 17,
    "start_time": "2023-02-05T14:41:45.148Z"
   },
   {
    "duration": 247,
    "start_time": "2023-02-05T14:41:45.167Z"
   },
   {
    "duration": 205,
    "start_time": "2023-02-05T14:41:45.416Z"
   },
   {
    "duration": 217,
    "start_time": "2023-02-05T14:41:45.623Z"
   },
   {
    "duration": 202,
    "start_time": "2023-02-05T14:41:45.842Z"
   },
   {
    "duration": 249,
    "start_time": "2023-02-05T14:41:46.050Z"
   },
   {
    "duration": 5,
    "start_time": "2023-02-05T14:41:46.301Z"
   },
   {
    "duration": 404,
    "start_time": "2023-02-05T14:41:46.307Z"
   },
   {
    "duration": 378,
    "start_time": "2023-02-05T14:41:46.712Z"
   },
   {
    "duration": 13,
    "start_time": "2023-02-05T14:41:47.092Z"
   },
   {
    "duration": 28,
    "start_time": "2023-02-05T14:41:47.107Z"
   },
   {
    "duration": 23,
    "start_time": "2023-02-05T14:41:47.136Z"
   },
   {
    "duration": 12,
    "start_time": "2023-02-05T14:41:47.160Z"
   },
   {
    "duration": 7,
    "start_time": "2023-02-05T14:41:47.174Z"
   },
   {
    "duration": 530,
    "start_time": "2023-02-05T14:41:47.183Z"
   },
   {
    "duration": 16,
    "start_time": "2023-02-05T14:41:47.714Z"
   },
   {
    "duration": 15,
    "start_time": "2023-02-05T14:41:47.732Z"
   },
   {
    "duration": 10,
    "start_time": "2023-02-05T14:41:47.748Z"
   },
   {
    "duration": 4,
    "start_time": "2023-02-05T14:41:47.760Z"
   },
   {
    "duration": 51,
    "start_time": "2023-02-06T13:52:10.719Z"
   },
   {
    "duration": 1347,
    "start_time": "2023-02-06T13:52:21.150Z"
   },
   {
    "duration": 220,
    "start_time": "2023-02-06T13:52:22.499Z"
   },
   {
    "duration": 17,
    "start_time": "2023-02-06T13:52:22.721Z"
   },
   {
    "duration": 11,
    "start_time": "2023-02-06T13:52:22.741Z"
   },
   {
    "duration": 17,
    "start_time": "2023-02-06T13:52:22.754Z"
   },
   {
    "duration": 21,
    "start_time": "2023-02-06T13:52:22.772Z"
   },
   {
    "duration": 16,
    "start_time": "2023-02-06T13:52:22.795Z"
   },
   {
    "duration": 5,
    "start_time": "2023-02-06T13:52:22.813Z"
   },
   {
    "duration": 22,
    "start_time": "2023-02-06T13:52:22.819Z"
   },
   {
    "duration": 14,
    "start_time": "2023-02-06T13:52:22.844Z"
   },
   {
    "duration": 7,
    "start_time": "2023-02-06T13:52:22.860Z"
   },
   {
    "duration": 13,
    "start_time": "2023-02-06T13:52:22.869Z"
   },
   {
    "duration": 9,
    "start_time": "2023-02-06T13:52:22.884Z"
   },
   {
    "duration": 28,
    "start_time": "2023-02-06T13:52:22.894Z"
   },
   {
    "duration": 4,
    "start_time": "2023-02-06T13:52:22.925Z"
   },
   {
    "duration": 12,
    "start_time": "2023-02-06T13:52:22.931Z"
   },
   {
    "duration": 204,
    "start_time": "2023-02-06T13:52:22.945Z"
   },
   {
    "duration": 146,
    "start_time": "2023-02-06T13:52:23.151Z"
   },
   {
    "duration": 175,
    "start_time": "2023-02-06T13:52:23.299Z"
   },
   {
    "duration": 18,
    "start_time": "2023-02-06T13:52:23.481Z"
   },
   {
    "duration": 202,
    "start_time": "2023-02-06T13:52:23.500Z"
   },
   {
    "duration": 2029,
    "start_time": "2023-02-06T13:52:23.704Z"
   },
   {
    "duration": 7,
    "start_time": "2023-02-06T13:52:25.735Z"
   },
   {
    "duration": 258,
    "start_time": "2023-02-06T13:52:25.744Z"
   },
   {
    "duration": 275,
    "start_time": "2023-02-06T13:52:26.005Z"
   },
   {
    "duration": 1742,
    "start_time": "2023-02-06T13:52:26.283Z"
   },
   {
    "duration": 13,
    "start_time": "2023-02-06T13:52:28.027Z"
   },
   {
    "duration": 1239,
    "start_time": "2023-02-06T13:52:28.043Z"
   },
   {
    "duration": 18,
    "start_time": "2023-02-06T13:52:29.284Z"
   },
   {
    "duration": 248,
    "start_time": "2023-02-06T13:52:29.304Z"
   },
   {
    "duration": 6,
    "start_time": "2023-02-06T13:52:29.555Z"
   },
   {
    "duration": 235,
    "start_time": "2023-02-06T13:52:29.563Z"
   },
   {
    "duration": 229,
    "start_time": "2023-02-06T13:52:29.800Z"
   },
   {
    "duration": 233,
    "start_time": "2023-02-06T13:52:30.031Z"
   },
   {
    "duration": 300,
    "start_time": "2023-02-06T13:52:30.266Z"
   },
   {
    "duration": 5,
    "start_time": "2023-02-06T13:52:30.568Z"
   },
   {
    "duration": 446,
    "start_time": "2023-02-06T13:52:30.580Z"
   },
   {
    "duration": 417,
    "start_time": "2023-02-06T13:52:31.028Z"
   },
   {
    "duration": 19,
    "start_time": "2023-02-06T13:52:31.446Z"
   },
   {
    "duration": 19,
    "start_time": "2023-02-06T13:52:31.481Z"
   },
   {
    "duration": 21,
    "start_time": "2023-02-06T13:52:31.502Z"
   },
   {
    "duration": 28,
    "start_time": "2023-02-06T13:52:31.526Z"
   },
   {
    "duration": 29,
    "start_time": "2023-02-06T13:52:31.557Z"
   },
   {
    "duration": 540,
    "start_time": "2023-02-06T13:52:31.589Z"
   },
   {
    "duration": 9,
    "start_time": "2023-02-06T13:52:32.131Z"
   },
   {
    "duration": 11,
    "start_time": "2023-02-06T13:52:32.141Z"
   },
   {
    "duration": 12,
    "start_time": "2023-02-06T13:52:32.154Z"
   },
   {
    "duration": 7,
    "start_time": "2023-02-06T13:52:32.181Z"
   },
   {
    "duration": 159,
    "start_time": "2023-02-06T13:55:59.381Z"
   },
   {
    "duration": 5,
    "start_time": "2023-02-06T13:57:53.800Z"
   },
   {
    "duration": 14,
    "start_time": "2023-02-06T13:58:34.474Z"
   },
   {
    "duration": 1379,
    "start_time": "2023-02-06T13:58:55.719Z"
   },
   {
    "duration": 1264,
    "start_time": "2023-02-06T13:59:10.715Z"
   },
   {
    "duration": 4,
    "start_time": "2023-02-06T13:59:41.171Z"
   },
   {
    "duration": 1274,
    "start_time": "2023-02-06T13:59:53.854Z"
   },
   {
    "duration": 10,
    "start_time": "2023-02-06T14:05:07.241Z"
   },
   {
    "duration": 8,
    "start_time": "2023-02-06T14:05:18.573Z"
   },
   {
    "duration": 12,
    "start_time": "2023-02-06T14:05:43.497Z"
   },
   {
    "duration": 17,
    "start_time": "2023-02-06T14:07:07.030Z"
   },
   {
    "duration": 26,
    "start_time": "2023-02-06T14:07:50.429Z"
   },
   {
    "duration": 5,
    "start_time": "2023-02-06T14:08:54.018Z"
   },
   {
    "duration": 21,
    "start_time": "2023-02-06T14:09:10.690Z"
   },
   {
    "duration": 1386,
    "start_time": "2023-02-06T14:20:19.056Z"
   },
   {
    "duration": 1127,
    "start_time": "2023-02-06T14:21:16.377Z"
   },
   {
    "duration": 18,
    "start_time": "2023-02-06T14:21:23.077Z"
   },
   {
    "duration": 16,
    "start_time": "2023-02-06T14:23:06.673Z"
   },
   {
    "duration": 17,
    "start_time": "2023-02-06T14:31:46.979Z"
   },
   {
    "duration": 1194,
    "start_time": "2023-02-06T15:11:04.143Z"
   },
   {
    "duration": 115,
    "start_time": "2023-02-06T15:11:05.339Z"
   },
   {
    "duration": 14,
    "start_time": "2023-02-06T15:11:05.456Z"
   },
   {
    "duration": 8,
    "start_time": "2023-02-06T15:11:05.473Z"
   },
   {
    "duration": 10,
    "start_time": "2023-02-06T15:11:05.483Z"
   },
   {
    "duration": 9,
    "start_time": "2023-02-06T15:11:05.499Z"
   },
   {
    "duration": 25,
    "start_time": "2023-02-06T15:11:05.510Z"
   },
   {
    "duration": 6,
    "start_time": "2023-02-06T15:11:05.537Z"
   },
   {
    "duration": 13,
    "start_time": "2023-02-06T15:11:05.545Z"
   },
   {
    "duration": 22,
    "start_time": "2023-02-06T15:11:05.562Z"
   },
   {
    "duration": 17,
    "start_time": "2023-02-06T15:11:05.585Z"
   },
   {
    "duration": 24,
    "start_time": "2023-02-06T15:11:05.604Z"
   },
   {
    "duration": 12,
    "start_time": "2023-02-06T15:11:05.629Z"
   },
   {
    "duration": 19,
    "start_time": "2023-02-06T15:11:05.643Z"
   },
   {
    "duration": 4,
    "start_time": "2023-02-06T15:11:05.664Z"
   },
   {
    "duration": 13,
    "start_time": "2023-02-06T15:11:05.671Z"
   },
   {
    "duration": 203,
    "start_time": "2023-02-06T15:11:05.686Z"
   },
   {
    "duration": 151,
    "start_time": "2023-02-06T15:11:05.892Z"
   },
   {
    "duration": 165,
    "start_time": "2023-02-06T15:11:06.045Z"
   },
   {
    "duration": 26,
    "start_time": "2023-02-06T15:11:06.212Z"
   },
   {
    "duration": 231,
    "start_time": "2023-02-06T15:11:06.240Z"
   },
   {
    "duration": 2160,
    "start_time": "2023-02-06T15:11:06.473Z"
   },
   {
    "duration": 7,
    "start_time": "2023-02-06T15:11:08.635Z"
   },
   {
    "duration": 245,
    "start_time": "2023-02-06T15:11:08.643Z"
   },
   {
    "duration": 266,
    "start_time": "2023-02-06T15:11:08.890Z"
   },
   {
    "duration": 1635,
    "start_time": "2023-02-06T15:11:09.158Z"
   },
   {
    "duration": 17,
    "start_time": "2023-02-06T15:11:10.795Z"
   },
   {
    "duration": 1317,
    "start_time": "2023-02-06T15:11:10.818Z"
   },
   {
    "duration": 23,
    "start_time": "2023-02-06T15:11:12.137Z"
   },
   {
    "duration": 305,
    "start_time": "2023-02-06T15:11:12.161Z"
   },
   {
    "duration": 33,
    "start_time": "2023-02-06T15:11:12.468Z"
   },
   {
    "duration": 26,
    "start_time": "2023-02-06T15:11:12.503Z"
   },
   {
    "duration": 7,
    "start_time": "2023-02-06T15:11:12.532Z"
   },
   {
    "duration": 271,
    "start_time": "2023-02-06T15:11:12.542Z"
   },
   {
    "duration": 323,
    "start_time": "2023-02-06T15:11:12.815Z"
   },
   {
    "duration": 246,
    "start_time": "2023-02-06T15:11:13.140Z"
   },
   {
    "duration": 333,
    "start_time": "2023-02-06T15:11:13.388Z"
   },
   {
    "duration": 7,
    "start_time": "2023-02-06T15:11:13.722Z"
   },
   {
    "duration": 568,
    "start_time": "2023-02-06T15:11:13.734Z"
   },
   {
    "duration": 521,
    "start_time": "2023-02-06T15:11:14.304Z"
   },
   {
    "duration": 17,
    "start_time": "2023-02-06T15:11:14.828Z"
   },
   {
    "duration": 21,
    "start_time": "2023-02-06T15:11:14.846Z"
   },
   {
    "duration": 38,
    "start_time": "2023-02-06T15:11:14.868Z"
   },
   {
    "duration": 21,
    "start_time": "2023-02-06T15:11:14.908Z"
   },
   {
    "duration": 11,
    "start_time": "2023-02-06T15:11:14.931Z"
   },
   {
    "duration": 557,
    "start_time": "2023-02-06T15:11:14.944Z"
   },
   {
    "duration": 10,
    "start_time": "2023-02-06T15:11:15.503Z"
   },
   {
    "duration": 13,
    "start_time": "2023-02-06T15:11:15.515Z"
   },
   {
    "duration": 38,
    "start_time": "2023-02-06T15:11:15.530Z"
   },
   {
    "duration": 21,
    "start_time": "2023-02-06T15:11:15.570Z"
   },
   {
    "duration": 78,
    "start_time": "2023-02-06T15:13:21.208Z"
   }
  ],
  "kernelspec": {
   "display_name": "Python 3 (ipykernel)",
   "language": "python",
   "name": "python3"
  },
  "language_info": {
   "codemirror_mode": {
    "name": "ipython",
    "version": 3
   },
   "file_extension": ".py",
   "mimetype": "text/x-python",
   "name": "python",
   "nbconvert_exporter": "python",
   "pygments_lexer": "ipython3",
   "version": "3.11.3"
  },
  "toc": {
   "base_numbering": 1,
   "nav_menu": {},
   "number_sections": true,
   "sideBar": true,
   "skip_h1_title": true,
   "title_cell": "Table of Contents",
   "title_sidebar": "Contents",
   "toc_cell": false,
   "toc_position": {},
   "toc_section_display": true,
   "toc_window_display": false
  }
 },
 "nbformat": 4,
 "nbformat_minor": 2
}
